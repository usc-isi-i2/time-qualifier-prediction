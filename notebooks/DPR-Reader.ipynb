{
 "cells": [
  {
   "cell_type": "code",
   "execution_count": 1,
   "id": "f430a9cf-6456-4273-8ff6-5fcdc71f1b98",
   "metadata": {},
   "outputs": [
    {
     "name": "stderr",
     "output_type": "stream",
     "text": [
      "/nas/home/amandeep/miniconda3/envs/pyserini/lib/python3.8/site-packages/tqdm/auto.py:22: TqdmWarning: IProgress not found. Please update jupyter and ipywidgets. See https://ipywidgets.readthedocs.io/en/stable/user_install.html\n",
      "  from .autonotebook import tqdm as notebook_tqdm\n"
     ]
    }
   ],
   "source": [
    "from transformers import RagTokenizer, RagRetriever, RagTokenForGeneration\n",
    "import torch"
   ]
  },
  {
   "cell_type": "code",
   "execution_count": null,
   "id": "d9665685-66ea-4678-ac06-49e1028d3841",
   "metadata": {},
   "outputs": [
    {
     "name": "stderr",
     "output_type": "stream",
     "text": [
      "The tokenizer class you load from this checkpoint is not the same type as the class this function is called from. It may result in unexpected tokenization. \n",
      "The tokenizer class you load from this checkpoint is 'RagTokenizer'. \n",
      "The class this function is called from is 'DPRQuestionEncoderTokenizer'.\n",
      "The tokenizer class you load from this checkpoint is not the same type as the class this function is called from. It may result in unexpected tokenization. \n",
      "The tokenizer class you load from this checkpoint is 'RagTokenizer'. \n",
      "The class this function is called from is 'DPRQuestionEncoderTokenizerFast'.\n",
      "The tokenizer class you load from this checkpoint is not the same type as the class this function is called from. It may result in unexpected tokenization. \n",
      "The tokenizer class you load from this checkpoint is 'RagTokenizer'. \n",
      "The class this function is called from is 'BartTokenizer'.\n",
      "The tokenizer class you load from this checkpoint is not the same type as the class this function is called from. It may result in unexpected tokenization. \n",
      "The tokenizer class you load from this checkpoint is 'RagTokenizer'. \n",
      "The class this function is called from is 'BartTokenizerFast'.\n",
      "The tokenizer class you load from this checkpoint is not the same type as the class this function is called from. It may result in unexpected tokenization. \n",
      "The tokenizer class you load from this checkpoint is 'RagTokenizer'. \n",
      "The class this function is called from is 'DPRQuestionEncoderTokenizer'.\n",
      "The tokenizer class you load from this checkpoint is not the same type as the class this function is called from. It may result in unexpected tokenization. \n",
      "The tokenizer class you load from this checkpoint is 'RagTokenizer'. \n",
      "The class this function is called from is 'DPRQuestionEncoderTokenizerFast'.\n",
      "The tokenizer class you load from this checkpoint is not the same type as the class this function is called from. It may result in unexpected tokenization. \n",
      "The tokenizer class you load from this checkpoint is 'RagTokenizer'. \n",
      "The class this function is called from is 'BartTokenizer'.\n",
      "The tokenizer class you load from this checkpoint is not the same type as the class this function is called from. It may result in unexpected tokenization. \n",
      "The tokenizer class you load from this checkpoint is 'RagTokenizer'. \n",
      "The class this function is called from is 'BartTokenizerFast'.\n",
      "Using custom data configuration psgs_w100.nq.no_index-dummy=False,with_index=False\n"
     ]
    },
    {
     "name": "stdout",
     "output_type": "stream",
     "text": [
      "Downloading and preparing dataset wiki_dpr/psgs_w100.nq.no_index (download: 66.09 GiB, generated: 73.03 GiB, post-processed: Unknown size, total: 139.13 GiB) to /nas/home/amandeep/.cache/huggingface/datasets/wiki_dpr/psgs_w100.nq.no_index-dummy=False,with_index=False/0.0.0/74d4bff38a7c18a9498fafef864a8ba7129e27cb8d71b22f5e14d84cb17edd54...\n"
     ]
    },
    {
     "name": "stderr",
     "output_type": "stream",
     "text": [
      "Downloading data files: 100%|███████████████████████████████████████████████████████████████████████████████████████████████████████████████████████████████████████████████████████████████████████████████████████| 1/1 [00:00<00:00, 1054.64it/s]\n",
      "Extracting data files: 100%|██████████████████████████████████████████████████████████████████████████████████████████████████████████████████████████████████████████████████████████████████████████████████████████| 1/1 [00:00<00:00, 28.39it/s]\n",
      "Downloading data files #0:   0%|                                                                                                                                                                                             | 0/4 [00:00<?, ?obj/s]\n",
      "\n",
      "Downloading data files #2:   0%|                                                                                                                                                                                             | 0/3 [00:00<?, ?obj/s]\u001b[A\u001b[A\n",
      "\n",
      "\n",
      "\n",
      "\n",
      "\n",
      "\n",
      "\n",
      "Downloading data files #8:   0%|                                                                                                                                                                                             | 0/3 [00:00<?, ?obj/s]\u001b[A\u001b[A\u001b[A\u001b[A\u001b[A\u001b[A\u001b[A\u001b[A\n",
      "Downloading data files #1:   0%|                                                                                                                                                                                             | 0/4 [00:00<?, ?obj/s]\u001b[A\n",
      "\n",
      "\n",
      "\n",
      "Downloading data files #4:   0%|                                                                                                                                                                                             | 0/3 [00:00<?, ?obj/s]\u001b[A\u001b[A\u001b[A\u001b[A\n",
      "\n",
      "\n",
      "\n",
      "\n",
      "\n",
      "\n",
      "Downloading data files #7:   0%|                                                                                                                                                                                             | 0/3 [00:00<?, ?obj/s]\u001b[A\u001b[A\u001b[A\u001b[A\u001b[A\u001b[A\u001b[A\n",
      "\n",
      "\n",
      "\n",
      "\n",
      "\n",
      "\n",
      "\n",
      "\n",
      "Downloading data files #9:   0%|                                                                                                                                                                                             | 0/3 [00:00<?, ?obj/s]\u001b[A\u001b[A\u001b[A\u001b[A\u001b[A\u001b[A\u001b[A\u001b[A\u001b[A\n",
      "\n",
      "\n",
      "\n",
      "\n",
      "\n",
      "\n",
      "\n",
      "\n",
      "\n",
      "\n",
      "\n",
      "\n",
      "\n",
      "Downloading data files #14:   0%|                                                                                                                                                                                            | 0/3 [00:00<?, ?obj/s]\u001b[A\u001b[A\u001b[A\u001b[A\u001b[A\u001b[A\u001b[A\u001b[A\u001b[A\u001b[A\u001b[A\u001b[A\u001b[A\u001b[A\n",
      "\n",
      "\n",
      "\n",
      "\n",
      "\n",
      "Downloading data files #6:   0%|                                                                                                                                                                                             | 0/3 [00:00<?, ?obj/s]\u001b[A\u001b[A\u001b[A\u001b[A\u001b[A\u001b[A\n",
      "\n",
      "\n",
      "\n",
      "\n",
      "\n",
      "\n",
      "\n",
      "\n",
      "\n",
      "Downloading data files #10:   0%|                                                                                                                                                                                            | 0/3 [00:00<?, ?obj/s]\u001b[A\u001b[A\u001b[A\u001b[A\u001b[A\u001b[A\u001b[A\u001b[A\u001b[A\u001b[A\n",
      "\n",
      "\n",
      "\n",
      "\n",
      "\n",
      "\n",
      "\n",
      "\n",
      "\n",
      "\n",
      "Downloading data files #11:   0%|                                                                                                                                                                                            | 0/3 [00:00<?, ?obj/s]\u001b[A\u001b[A\u001b[A\u001b[A\u001b[A\u001b[A\u001b[A\u001b[A\u001b[A\u001b[A\u001b[A\n",
      "\n",
      "\n",
      "\n",
      "\n",
      "Downloading data files #5:   0%|                                                                                                                                                                                             | 0/3 [00:00<?, ?obj/s]\u001b[A\u001b[A\u001b[A\u001b[A\u001b[A\n",
      "\n",
      "\n",
      "\n",
      "\n",
      "\n",
      "\n",
      "\n",
      "\n",
      "\n",
      "\n",
      "\n",
      "\n",
      "\n",
      "\n",
      "Downloading data files #15:   0%|                                                                                                                                                                                            | 0/3 [00:00<?, ?obj/s]\u001b[A\u001b[A\u001b[A\u001b[A\u001b[A\u001b[A\u001b[A\u001b[A\u001b[A\u001b[A\u001b[A\u001b[A\u001b[A\u001b[A\u001b[A\n",
      "\n",
      "\n",
      "\n",
      "\n",
      "\n",
      "\n",
      "\n",
      "\n",
      "\n",
      "\n",
      "\n",
      "\n",
      "Downloading data files #13:   0%|                                                                                                                                                                                            | 0/3 [00:00<?, ?obj/s]\u001b[A\u001b[A\u001b[A\u001b[A\u001b[A\u001b[A\u001b[A\u001b[A\u001b[A\u001b[A\u001b[A\u001b[A\u001b[A\n",
      "\n",
      "\n",
      "\n",
      "\n",
      "\n",
      "\n",
      "\n",
      "\n",
      "\n",
      "\n",
      "\n",
      "Downloading data files #12:   0%|                                                                                                                                                                                            | 0/3 [00:00<?, ?obj/s]\u001b[A\u001b[A\u001b[A\u001b[A\u001b[A\u001b[A\u001b[A\u001b[A\u001b[A\u001b[A\u001b[A\u001b[A\n",
      "\n",
      "\n",
      "Downloading data files #3:   0%|                                                                                                                                                                                             | 0/3 [00:00<?, ?obj/s]\u001b[A\u001b[A\u001b[A\n",
      "\n",
      "\n",
      "\n",
      "\n",
      "\n",
      "\n",
      "\n",
      "Downloading data files #0:  75%|███████████████████████████████████████████████████████████████████████████████████████████████████████████████████████████████████████▊                                             | 3/4 [00:00<00:00, 24.33obj/s]\u001b[A\u001b[A\u001b[A\u001b[A\u001b[A\u001b[A\u001b[A\u001b[A\n",
      "\n",
      "Downloading data files #2: 100%|█████████████████████████████████████████████████████████████████████████████████████████████████████████████████████████████████████████████████████████████████████████████████████| 3/3 [00:00<00:00, 25.47obj/s]\u001b[A\u001b[A\n",
      "Downloading data files #9: 100%|█████████████████████████████████████████████████████████████████████████████████████████████████████████████████████████████████████████████████████████████████████████████████████| 3/3 [00:00<00:00, 34.03obj/s]\u001b[A\n",
      "Downloading data files #11: 100%|████████████████████████████████████████████████████████████████████████████████████████████████████████████████████████████████████████████████████████████████████████████████████| 3/3 [00:00<00:00, 51.05obj/s]\n",
      "Downloading data files #4: 100%|█████████████████████████████████████████████████████████████████████████████████████████████████████████████████████████████████████████████████████████████████████████████████████| 3/3 [00:00<00:00, 26.55obj/s]\n",
      "Downloading data files #7: 100%|█████████████████████████████████████████████████████████████████████████████████████████████████████████████████████████████████████████████████████████████████████████████████████| 3/3 [00:00<00:00, 27.96obj/s]\n",
      "Downloading data files #14: 100%|████████████████████████████████████████████████████████████████████████████████████████████████████████████████████████████████████████████████████████████████████████████████████| 3/3 [00:00<00:00, 32.32obj/s]\n",
      "Downloading data files #6: 100%|█████████████████████████████████████████████████████████████████████████████████████████████████████████████████████████████████████████████████████████████████████████████████████| 3/3 [00:00<00:00, 34.18obj/s]\n",
      "Downloading data files #10: 100%|████████████████████████████████████████████████████████████████████████████████████████████████████████████████████████████████████████████████████████████████████████████████████| 3/3 [00:00<00:00, 36.32obj/s]\n",
      "Downloading data files #8: 100%|█████████████████████████████████████████████████████████████████████████████████████████████████████████████████████████████████████████████████████████████████████████████████████| 3/3 [00:00<00:00, 20.57obj/s]\n",
      "Downloading data files #1: 100%|█████████████████████████████████████████████████████████████████████████████████████████████████████████████████████████████████████████████████████████████████████████████████████| 4/4 [00:00<00:00, 28.33obj/s]\n",
      "Downloading data files #0: 100%|█████████████████████████████████████████████████████████████████████████████████████████████████████████████████████████████████████████████████████████████████████████████████████| 4/4 [00:00<00:00, 23.52obj/s]\n",
      "Downloading data files #5: 100%|█████████████████████████████████████████████████████████████████████████████████████████████████████████████████████████████████████████████████████████████████████████████████████| 3/3 [00:00<00:00, 38.04obj/s]\n",
      "Downloading data files #15: 100%|████████████████████████████████████████████████████████████████████████████████████████████████████████████████████████████████████████████████████████████████████████████████████| 3/3 [00:00<00:00, 40.38obj/s]\n",
      "Downloading data files #13: 100%|████████████████████████████████████████████████████████████████████████████████████████████████████████████████████████████████████████████████████████████████████████████████████| 3/3 [00:00<00:00, 43.35obj/s]\n",
      "Downloading data files #12: 100%|████████████████████████████████████████████████████████████████████████████████████████████████████████████████████████████████████████████████████████████████████████████████████| 3/3 [00:00<00:00, 46.57obj/s]\n",
      "Downloading data files #3: 100%|█████████████████████████████████████████████████████████████████████████████████████████████████████████████████████████████████████████████████████████████████████████████████████| 3/3 [00:00<00:00, 49.95obj/s]\n",
      "Downloading data files #2: 100%|█████████████████████████████████████████████████████████████████████████████████████████████████████████████████████████████████████████████████████████████████████████████████████| 3/3 [00:00<00:00, 16.74obj/s]\n",
      "Generating train split:  29%|██████████████████████████████████████████████▌                                                                                                                 | 6118091/21015300 [1:55:21<4:31:53, 913.19 examples/s]"
     ]
    }
   ],
   "source": [
    "tokenizer = RagTokenizer.from_pretrained(\"facebook/rag-token-nq\")\n",
    "\n",
    "retriever = RagRetriever.from_pretrained(\n",
    "\n",
    "    \"facebook/rag-token-nq\", index_name=\"exact\", use_dummy_dataset=False\n",
    "\n",
    ")"
   ]
  },
  {
   "cell_type": "code",
   "execution_count": 4,
   "id": "cadb377a-2a67-49df-ba51-1d3bc3036df9",
   "metadata": {},
   "outputs": [
    {
     "name": "stderr",
     "output_type": "stream",
     "text": [
      "Downloading: 100%|█████████████████████████████████████████████████████████████████████████████████████████████████████████████████████████████████████████████████████████████████████████████████████████████| 1.92G/1.92G [00:22<00:00, 91.7MB/s]\n",
      "Some weights of the model checkpoint at facebook/rag-token-nq were not used when initializing RagTokenForGeneration: ['rag.question_encoder.question_encoder.bert_model.pooler.dense.bias', 'rag.question_encoder.question_encoder.bert_model.pooler.dense.weight']\n",
      "- This IS expected if you are initializing RagTokenForGeneration from the checkpoint of a model trained on another task or with another architecture (e.g. initializing a BertForSequenceClassification model from a BertForPreTraining model).\n",
      "- This IS NOT expected if you are initializing RagTokenForGeneration from the checkpoint of a model that you expect to be exactly identical (initializing a BertForSequenceClassification model from a BertForSequenceClassification model).\n",
      "Some weights of RagTokenForGeneration were not initialized from the model checkpoint at facebook/rag-token-nq and are newly initialized: ['rag.generator.lm_head.weight']\n",
      "You should probably TRAIN this model on a down-stream task to be able to use it for predictions and inference.\n"
     ]
    }
   ],
   "source": [
    "model = RagTokenForGeneration.from_pretrained(\"facebook/rag-token-nq\", retriever=retriever)"
   ]
  },
  {
   "cell_type": "code",
   "execution_count": 14,
   "id": "efec85f8-b5d6-41c1-9c44-3a8dcda2962c",
   "metadata": {},
   "outputs": [],
   "source": [
    "questions = [\"When did Barack Obama get married?\", \n",
    "             \"When did Joe Biden get married?\", \n",
    "             \"When did Joe Biden and Neilia get married?\",\n",
    "             \"When did Sachin Tendulkar get married?\"]"
   ]
  },
  {
   "cell_type": "code",
   "execution_count": 15,
   "id": "62ad6a00-ada8-4b03-9234-e97edfafc331",
   "metadata": {},
   "outputs": [
    {
     "name": "stdout",
     "output_type": "stream",
     "text": [
      "[' october 3, 1992']\n",
      "[' june 17, 1977']\n",
      "[' january 28, 1956']\n",
      "[' 24 may 1995']\n"
     ]
    }
   ],
   "source": [
    "for question in questions:\n",
    "    inputs = tokenizer(question, return_tensors=\"pt\")\n",
    "    input_ids = inputs[\"input_ids\"]\n",
    "\n",
    "    question_hidden_states = model.question_encoder(input_ids)[0]\n",
    "    docs_dict = retriever(input_ids.numpy(), question_hidden_states.detach().numpy(), return_tensors=\"pt\")\n",
    "    doc_scores = torch.bmm(\n",
    "        question_hidden_states.unsqueeze(1), docs_dict[\"retrieved_doc_embeds\"].float().transpose(1, 2)\n",
    "    ).squeeze(1)\n",
    "\n",
    "    generated = model.generate(\n",
    "        context_input_ids=docs_dict[\"context_input_ids\"],\n",
    "        context_attention_mask=docs_dict[\"context_attention_mask\"],\n",
    "        doc_scores=doc_scores,\n",
    "    )\n",
    "    generated_string = tokenizer.batch_decode(generated, skip_special_tokens=True)\n",
    "    print(generated_string)"
   ]
  },
  {
   "cell_type": "code",
   "execution_count": 21,
   "id": "047dd6a6-70e1-46e0-94aa-723e1cbd5255",
   "metadata": {},
   "outputs": [],
   "source": [
    "import json\n",
    "from typing import List"
   ]
  },
  {
   "cell_type": "code",
   "execution_count": 23,
   "id": "8a1fe97e-8195-473e-859d-dd4e4d48bf5b",
   "metadata": {},
   "outputs": [],
   "source": [
    "def answer_question(question: str) -> List[str]:\n",
    "    inputs = tokenizer(question, return_tensors=\"pt\")\n",
    "    input_ids = inputs[\"input_ids\"]\n",
    "\n",
    "    question_hidden_states = model.question_encoder(input_ids)[0]\n",
    "    docs_dict = retriever(input_ids.numpy(), question_hidden_states.detach().numpy(), return_tensors=\"pt\")\n",
    "    doc_scores = torch.bmm(\n",
    "        question_hidden_states.unsqueeze(1), docs_dict[\"retrieved_doc_embeds\"].float().transpose(1, 2)\n",
    "    ).squeeze(1)\n",
    "\n",
    "    generated = model.generate(\n",
    "        context_input_ids=docs_dict[\"context_input_ids\"],\n",
    "        context_attention_mask=docs_dict[\"context_attention_mask\"],\n",
    "        doc_scores=doc_scores,\n",
    "    )\n",
    "    generated_string = tokenizer.batch_decode(generated, skip_special_tokens=True)\n",
    "    return generated_string"
   ]
  },
  {
   "cell_type": "code",
   "execution_count": 18,
   "id": "c070455c-115d-4ca6-a022-684f6af7068b",
   "metadata": {},
   "outputs": [],
   "source": [
    "questions = json.load(open('marriages_in_wikidata.json'))"
   ]
  },
  {
   "cell_type": "code",
   "execution_count": 19,
   "id": "58641b3f-73cf-4b4a-866a-626e2599cce7",
   "metadata": {},
   "outputs": [
    {
     "data": {
      "text/plain": [
       "{'q': 'when did Imra Ardeen get married to Mon-El?',\n",
       " 'a': '3100-01-01',\n",
       " 'n1': 'Q105432158',\n",
       " 'n2': 'Q96108374',\n",
       " 'n1_label': 'Imra Ardeen',\n",
       " 'n2_label': 'Mon-El'}"
      ]
     },
     "execution_count": 19,
     "metadata": {},
     "output_type": "execute_result"
    }
   ],
   "source": [
    "questions[0]"
   ]
  },
  {
   "cell_type": "code",
   "execution_count": 24,
   "id": "6af7cc93-d817-4dbc-8b08-a97e19aa1e1a",
   "metadata": {},
   "outputs": [],
   "source": [
    "dpr_answers = open('marriages_wikidata.dpr.answers.rag.generation.jl', 'w')"
   ]
  },
  {
   "cell_type": "code",
   "execution_count": null,
   "id": "72601620-5009-46ec-aa9e-a702e9ee9a35",
   "metadata": {},
   "outputs": [
    {
     "name": "stderr",
     "output_type": "stream",
     "text": [
      "/nas/home/amandeep/miniconda3/envs/pyserini/lib/python3.8/site-packages/transformers/generation_utils.py:2129: UserWarning: `max_length` is deprecated in this function, use `stopping_criteria=StoppingCriteriaList(MaxLengthCriteria(max_length=max_length))` instead.\n",
      "  warnings.warn(\n"
     ]
    },
    {
     "name": "stdout",
     "output_type": "stream",
     "text": [
      "10000\n",
      "20000\n",
      "30000\n",
      "40000\n",
      "50000\n",
      "60000\n",
      "70000\n",
      "80000\n",
      "90000\n",
      "100000\n",
      "110000\n",
      "120000\n",
      "130000\n",
      "140000\n",
      "150000\n"
     ]
    }
   ],
   "source": [
    "count = 1\n",
    "for question in questions:\n",
    "    if count % 10000 == 0:\n",
    "        print(count)\n",
    "    dpr_answer = answer_question(question['q'])\n",
    "    question['dpr_a'] =  dpr_answer\n",
    "    dpr_answers.write(json.dumps(question))\n",
    "    dpr_answers.write('\\n')\n",
    "    count += 1"
   ]
  },
  {
   "cell_type": "code",
   "execution_count": null,
   "id": "9cdfd41e-0622-49d1-b44b-e9460a77ce07",
   "metadata": {},
   "outputs": [],
   "source": []
  }
 ],
 "metadata": {
  "kernelspec": {
   "display_name": "pyserini",
   "language": "python",
   "name": "pyserini"
  },
  "language_info": {
   "codemirror_mode": {
    "name": "ipython",
    "version": 3
   },
   "file_extension": ".py",
   "mimetype": "text/x-python",
   "name": "python",
   "nbconvert_exporter": "python",
   "pygments_lexer": "ipython3",
   "version": "3.8.13"
  }
 },
 "nbformat": 4,
 "nbformat_minor": 5
}
