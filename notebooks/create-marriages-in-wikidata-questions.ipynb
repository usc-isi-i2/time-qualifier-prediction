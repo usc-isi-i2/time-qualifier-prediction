{
 "cells": [
  {
   "cell_type": "code",
   "execution_count": 1,
   "id": "a1156a38-796c-47c7-a4b9-34d739a534da",
   "metadata": {},
   "outputs": [],
   "source": [
    "from kgtk.functions import kgtk, kypher\n",
    "import os\n",
    "import gzip\n",
    "from kgtk.io.kgtkreader import KgtkReader\n",
    "import json\n",
    "import sys\n",
    "from pathlib import Path\n",
    "import pandas as pd"
   ]
  },
  {
   "cell_type": "code",
   "execution_count": 2,
   "id": "efd6b768-6cde-4feb-9421-72f20dcbf1f1",
   "metadata": {},
   "outputs": [],
   "source": [
    "os.environ['STORE'] = '/Volumes/saggu-ssd/wikidata.sqlite3.db'\n",
    "os.environ['sitelinks'] = '/Volumes/saggu-ssd/sitelinks.tsv.gz'"
   ]
  },
  {
   "cell_type": "code",
   "execution_count": 3,
   "id": "3bca7d3e-1c2d-4bff-be60-38abed58c5fe",
   "metadata": {},
   "outputs": [
    {
     "name": "stdout",
     "output_type": "stream",
     "text": [
      "Graph Cache:\n",
      "DB file: /Volumes/saggu-ssd/wikidata.sqlite3.db\n",
      "  size:  297.90 GB   \tfree:  0 Bytes   \tmodified:  2022-08-02 15:41:10\n",
      "\n",
      "KGTK File Information:\n",
      "alias:\n",
      "  size:  179.00 MB   \tmodified:  2022-06-11 12:47:43   \tgraph:  graph_3\n",
      "claims:\n",
      "  size:  15.25 GB   \tmodified:  2022-06-11 15:03:49   \tgraph:  graph_5\n",
      "classvizedge:\n",
      "  size:  595.03 MB   \tmodified:  2022-05-20 17:24:07   \tgraph:  graph_8\n",
      "classviznode:\n",
      "  size:  502.27 MB   \tmodified:  2022-06-11 20:08:05   \tgraph:  graph_9\n",
      "datatypes:\n",
      "  size:  54.74 KB   \tmodified:  2022-06-11 12:49:29   \tgraph:  graph_6\n",
      "description:\n",
      "  size:  417.24 MB   \tmodified:  2022-06-11 12:49:25   \tgraph:  graph_4\n",
      "l_d_pgr_ud:\n",
      "  size:  1.33 GB   \tmodified:  2022-06-11 21:22:36   \tgraph:  graph_10\n",
      "label:\n",
      "  size:  662.80 MB   \tmodified:  2022-06-11 12:47:00   \tgraph:  graph_1\n",
      "pagerank_undirected:\n",
      "  size:  1.52 GB   \tmodified:  2022-06-09 14:01:23   \tgraph:  graph_2\n",
      "qualifiers:\n",
      "  size:  4.09 GB   \tmodified:  2022-06-11 13:18:44   \tgraph:  graph_7\n",
      "sitelinks:\n",
      "  size:  1.73 GB   \tmodified:  2022-06-08 14:23:28   \tgraph:  graph_11\n",
      "\n",
      "Graph Table Information:\n",
      "graph_1:\n",
      "  size:  4.80 GB   \tcreated:  2022-06-11 20:10:05\n",
      "  header:  ['id', 'node1', 'label', 'node2', 'lang', 'rank', 'node2;wikidatatype']\n",
      "graph_10:\n",
      "  size:  12.88 GB   \tcreated:  2022-06-11 21:24:19\n",
      "  header:  ['node1', 'label', 'node2', 'node2;upper', 'node1;pagerank', 'node1;description']\n",
      "graph_11:\n",
      "  size:  14.16 GB   \tcreated:  2022-07-28 13:51:07\n",
      "  header:  ['id', 'node1', 'label', 'node2', 'lang', 'rank', 'node2;wikidatatype']\n",
      "graph_2:\n",
      "  size:  17.85 GB   \tcreated:  2022-06-11 20:14:07\n",
      "  header:  ['node1', 'label', 'node2', 'id']\n",
      "graph_3:\n",
      "  size:  1006.66 MB   \tcreated:  2022-06-11 20:14:28\n",
      "  header:  ['id', 'node1', 'label', 'node2', 'lang', 'rank', 'node2;wikidatatype']\n",
      "graph_4:\n",
      "  size:  6.57 GB   \tcreated:  2022-06-11 20:15:59\n",
      "  header:  ['id', 'node1', 'label', 'node2', 'lang', 'rank', 'node2;wikidatatype']\n",
      "graph_5:\n",
      "  size:  141.46 GB   \tcreated:  2022-06-11 20:40:06\n",
      "  header:  ['node1', 'label', 'node2', 'id', 'lang', 'rank', 'node2;wikidatatype']\n",
      "graph_6:\n",
      "  size:  804.00 KB   \tcreated:  2022-06-11 20:40:07\n",
      "  header:  ['id', 'node1', 'label', 'node2', 'lang', 'rank', 'node2;wikidatatype']\n",
      "graph_7:\n",
      "  size:  58.98 GB   \tcreated:  2022-06-11 20:50:05\n",
      "  header:  ['node1', 'label', 'node2', 'id', 'lang', 'rank', 'node2;wikidatatype']\n",
      "graph_8:\n",
      "  size:  14.69 GB   \tcreated:  2022-06-11 20:54:15\n",
      "  header:  ['node1', 'label', 'node2', 'graph', 'edge_type']\n",
      "graph_9:\n",
      "  size:  25.52 GB   \tcreated:  2022-06-11 21:00:27\n",
      "  header:  ['node1', 'graph', 'instance_count', 'node_type', 'label', 'tooltip']\n"
     ]
    }
   ],
   "source": [
    "!kgtk --debug query --gc $STORE --show-cache"
   ]
  },
  {
   "cell_type": "code",
   "execution_count": null,
   "id": "a7e8b6f2-7384-49f2-8b25-395ca310fb63",
   "metadata": {},
   "outputs": [],
   "source": [
    "kypher(\"\"\" --debug\n",
    "            -i claims -i qualifiers -i label --gc $STORE\n",
    "            --match 'claims: (n1:Q12073038)-[l:P26]->(n2),\n",
    "                     label: (n1:Q12073038)-[]->(n1_label),\n",
    "                     label: (n2)-[]->(n2_label)'\n",
    "            --opt 'qualifiers: (l)-[:P580]->(start_time)'\n",
    "            --return 'n1 as node1, \n",
    "                      kgtk_lqstring_text(n1_label) as node1_label, \n",
    "                      \"married to\" as label, \n",
    "                      n2 as node2, \n",
    "                      kgtk_lqstring_text(n2_label) as node2_label, \n",
    "                      substr(kgtk_date_date(start_time), 2) as start_time'\n",
    "            --order-by 'start_time desc'\n",
    "            \n",
    "\"\"\")"
   ]
  },
  {
   "cell_type": "code",
   "execution_count": null,
   "id": "b73390c3-0fcf-40ad-b2ca-3cff87a82d80",
   "metadata": {},
   "outputs": [],
   "source": [
    "kypher(\"\"\" --debug\n",
    "            -i claims -i qualifiers --gc $STORE\n",
    "            --match 'claims: (n1:Q12073038)-[l:P26]->(n2)'\n",
    "            --opt 'qualifiers: (l)-[:P580]->(start_time)'\n",
    "            \n",
    "\"\"\")"
   ]
  },
  {
   "cell_type": "code",
   "execution_count": null,
   "id": "50103075-323e-4718-9b1a-c723700a6a49",
   "metadata": {},
   "outputs": [],
   "source": [
    "kypher(\"\"\" --debug\n",
    "            -i claims --gc $STORE\n",
    "            --match 'claims: (n1:Q12073038)-[l:P26]->(n2)'\n",
    "            \n",
    "\"\"\")"
   ]
  },
  {
   "cell_type": "code",
   "execution_count": null,
   "id": "103afac5-ad45-45c8-b1a2-3cc30e726432",
   "metadata": {},
   "outputs": [],
   "source": [
    "kypher(\"\"\" --debug\n",
    "            -i claims --gc $STORE\n",
    "            --match 'claims: (n1:Q12073038)-[]->(n2)'\n",
    "            \n",
    "\"\"\")"
   ]
  },
  {
   "cell_type": "code",
   "execution_count": null,
   "id": "2b54c9e0-3d01-4652-9a15-b5d07ed582dc",
   "metadata": {},
   "outputs": [],
   "source": [
    "kypher(\"\"\" --debug\n",
    "            -i claims -i qualifiers -i label --gc $STORE\n",
    "            --match 'claims: (n1)-[l:P26]->(n2),\n",
    "                     label: (n1)-[]->(n1_label),\n",
    "                     label: (n2)-[]->(n2_label)'\n",
    "            --opt 'qualifiers: (l)-[:P580]->(start_time)'\n",
    "            --return 'n1 as node1, \n",
    "                      kgtk_lqstring_text(n1_label) as node1_label, \n",
    "                      \"married to\" as label, \n",
    "                      n2 as node2, \n",
    "                      kgtk_lqstring_text(n2_label) as node2_label, \n",
    "                      substr(kgtk_date_date(start_time), 2) as start_time'\n",
    "            --order-by 'start_time desc'\n",
    "            -o /tmp/marriages_in_wikidata.tsv.gz\n",
    "\"\"\")"
   ]
  },
  {
   "cell_type": "code",
   "execution_count": null,
   "id": "3b612def-8b11-4a0c-a05a-2048c52567c2",
   "metadata": {},
   "outputs": [],
   "source": [
    "!gzcat /tmp/marriages_in_wikidata.tsv.gz | head"
   ]
  },
  {
   "cell_type": "code",
   "execution_count": null,
   "id": "318b398f-e3b2-46ea-a442-ec7acc63f0d7",
   "metadata": {},
   "outputs": [],
   "source": [
    "!gzcat /tmp/marriages_in_wikidata.tsv.gz | wc -l"
   ]
  },
  {
   "cell_type": "code",
   "execution_count": null,
   "id": "e4a73923-8e32-4008-9d48-f3ab48da7a40",
   "metadata": {},
   "outputs": [],
   "source": [
    "def read_sitelinks(sitelinks_file):\n",
    "    f = gzip.open(sitelinks_file, 'rt')\n",
    "    sitelinks_d = dict()\n",
    "    for line in f:\n",
    "        vals = line.split('\\t')\n",
    "        node = vals[1]\n",
    "        lang = vals[4]\n",
    "        url = vals[3]\n",
    "        prop = vals[2]\n",
    "        if prop == 'wikipedia_sitelink' and lang == 'en':\n",
    "            sitelinks_d[node] = url\n",
    "    return sitelinks_d"
   ]
  },
  {
   "cell_type": "code",
   "execution_count": null,
   "id": "cdc7b5ce-b41a-4af6-b29b-2e241ebfceb7",
   "metadata": {},
   "outputs": [],
   "source": [
    "sitelinks_d = read_sitelinks(os.environ['sitelinks'])"
   ]
  },
  {
   "cell_type": "code",
   "execution_count": null,
   "id": "ef966c7a-32bb-4e19-bc28-616ec15f5bcb",
   "metadata": {},
   "outputs": [],
   "source": [
    "sitelinks_d['Q12073038']"
   ]
  },
  {
   "cell_type": "code",
   "execution_count": null,
   "id": "b1d413b0-821d-42c1-9cf6-2c28cfff1649",
   "metadata": {},
   "outputs": [],
   "source": [
    "def first_name(name):\n",
    "    if len(name.split(' ')) == 1:\n",
    "           return name\n",
    "    return ' '.join(name.split(' ')[:-1])"
   ]
  },
  {
   "cell_type": "code",
   "execution_count": null,
   "id": "7fd60b2c-82cb-4c40-93bf-c29c8f1a1a7f",
   "metadata": {},
   "outputs": [],
   "source": [
    "first_name('Karan Singh Grover')"
   ]
  },
  {
   "cell_type": "code",
   "execution_count": null,
   "id": "ba59d1a8-89cf-4928-a02d-f84af3382234",
   "metadata": {},
   "outputs": [],
   "source": [
    "first_name('Karan')"
   ]
  },
  {
   "cell_type": "code",
   "execution_count": null,
   "id": "c65ad264-d1e6-4776-afe6-0db86da27c3b",
   "metadata": {},
   "outputs": [],
   "source": [
    "def create_marriage_questions(married_file, o_answers, o_no_answers):\n",
    "    kr = KgtkReader.open(Path(married_file),\n",
    "                          error_file=sys.stderr,\n",
    "                          who=\"married\"\n",
    "                          )\n",
    "    node1_lbl_idx = kr.column_name_map['node1_label']\n",
    "    node2_lbl_idx = kr.column_name_map['node2_label']\n",
    "    node1_idx = kr.column_name_map['node1']\n",
    "    node2_idx = kr.column_name_map['node2']\n",
    "    st_idx = kr.column_name_map['start_time']\n",
    "    seen_questions = set()\n",
    "    questions_with_answers = []\n",
    "    questions_no_answers = []\n",
    "    for row in kr:\n",
    "        node1 = row[node1_idx]\n",
    "        node2 = row[node2_idx]\n",
    "        node1_l = row[node1_lbl_idx]\n",
    "        node2_l = row[node2_lbl_idx]\n",
    "        answer = row[st_idx].strip()\n",
    "        if node1 in sitelinks_d and node2 in sitelinks_d:\n",
    "            question_1 = f\"when did {node1_l} marry {first_name(node2_l)}?\"\n",
    "            question_2 = f\"when did {node2_l} marry {first_name(node1_l)}?\"\n",
    "            if question_1 not in seen_questions and question_2 not in seen_questions:\n",
    "                if answer != '':\n",
    "                    questions_with_answers.append({'q': question_1, \n",
    "                                      'a': answer, \n",
    "                                      'n1': node1, \n",
    "                                      'n2': node2, \n",
    "                                      'n1_label': node1_l, \n",
    "                                      'n2_label': node2_l,\n",
    "                                      'url': sitelinks_d[node1]})\n",
    "                    questions_with_answers.append({'q': question_2, \n",
    "                                      'a': answer, \n",
    "                                      'n1': node2, \n",
    "                                      'n2': node1, \n",
    "                                      'n1_label': node2_l, \n",
    "                                      'n2_label': node1_l,\n",
    "                                      'url': sitelinks_d[node2]})\n",
    "                else:\n",
    "                    questions_no_answers.append({'q': question_1, \n",
    "                                      'a': answer, \n",
    "                                      'n1': node1, \n",
    "                                      'n2': node2, \n",
    "                                      'n1_label': node1_l, \n",
    "                                      'n2_label': node2_l,\n",
    "                                      'url': sitelinks_d[node1]})\n",
    "                    questions_no_answers.append({'q': question_2, \n",
    "                                      'a': answer, \n",
    "                                      'n1': node2, \n",
    "                                      'n2': node1, \n",
    "                                      'n1_label': node2_l, \n",
    "                                      'n2_label': node1_l,\n",
    "                                      'url': sitelinks_d[node2]})\n",
    "\n",
    "                seen_questions.add(question_1)\n",
    "                seen_questions.add(question_2)\n",
    "        elif node1 in sitelinks_d:\n",
    "            question = f\"when did {node1_l} marry {first_name(node2_l)}?\"     \n",
    "            if question not in seen_questions:\n",
    "                if answer != '':\n",
    "                    questions_with_answers.append({'q': question, \n",
    "                                      'a': answer, \n",
    "                                      'n1': node1, \n",
    "                                      'n2': node2, \n",
    "                                      'n1_label': node1_l, \n",
    "                                      'n2_label': node2_l,\n",
    "                                      'url': sitelinks_d[node1]})\n",
    "\n",
    "                else:\n",
    "                    questions_no_answers.append({'q': question, \n",
    "                                      'a': answer, \n",
    "                                      'n1': node1, \n",
    "                                      'n2': node2, \n",
    "                                      'n1_label': node1_l, \n",
    "                                      'n2_label': node2_l,\n",
    "                                      'url': sitelinks_d[node1]})\n",
    "            seen_questions.add(question)\n",
    "        elif node2 in sitelinks_d:\n",
    "            question = f\"when did {node2_l} marry {first_name(node1_l)}?\"     \n",
    "            if question not in seen_questions:\n",
    "                if answer != '':\n",
    "                    questions_with_answers.append({'q': question, \n",
    "                                      'a': answer, \n",
    "                                      'n1': node2, \n",
    "                                      'n2': node1, \n",
    "                                      'n1_label': node2_l, \n",
    "                                      'n2_label': node1_l,\n",
    "                                      'url': sitelinks_d[node2]})\n",
    "\n",
    "                else:\n",
    "                    questions_no_answers.append({'q': question, \n",
    "                                      'a': answer, \n",
    "                                      'n1': node2, \n",
    "                                      'n2': node1, \n",
    "                                      'n1_label': node2_l, \n",
    "                                      'n2_label': node1_l,\n",
    "                                      'url': sitelinks_d[node2]})\n",
    "            seen_questions.add(question)\n",
    "    open(o_answers, 'w').write(json.dumps(questions_with_answers))\n",
    "    open(o_no_answers, 'w').write(json.dumps(questions_no_answers))\n",
    "    print(len(questions_with_answers))\n",
    "    print(len(questions_no_answers))\n",
    "    kr.close()"
   ]
  },
  {
   "cell_type": "code",
   "execution_count": null,
   "id": "d7d16215-7791-4ca7-916c-db2858ca332c",
   "metadata": {},
   "outputs": [],
   "source": [
    "create_marriage_questions('/tmp/marriages_in_wikidata.tsv.gz',\n",
    "                          '/tmp/marriages_in_wikidata.json',\n",
    "                         '/tmp/marriages_in_wikidata_no_answers.json')"
   ]
  },
  {
   "cell_type": "code",
   "execution_count": null,
   "id": "a38bd645-1877-4693-a5e7-bdee91b84dc9",
   "metadata": {},
   "outputs": [],
   "source": [
    "mq = json.load(open('/tmp/marriages_in_wikidata.json'))"
   ]
  },
  {
   "cell_type": "code",
   "execution_count": null,
   "id": "11a3880e-3d27-4c3a-8c93-5c7ddafd12c3",
   "metadata": {},
   "outputs": [],
   "source": [
    "for h in mq:\n",
    "    if h['n1'] == 'Q12073038' or h['n2'] == 'Q12073038':\n",
    "        print(h)"
   ]
  },
  {
   "cell_type": "markdown",
   "id": "76ce74ba-2fc6-4903-9171-d76df046fe79",
   "metadata": {},
   "source": [
    "## Divorces"
   ]
  },
  {
   "cell_type": "code",
   "execution_count": null,
   "id": "4c473575-9c2c-4220-8d21-6d94b1e84a21",
   "metadata": {},
   "outputs": [],
   "source": [
    "kypher(\"\"\" --debug\n",
    "            -i claims -i qualifiers -i label -i sitelinks --gc $STORE\n",
    "            --match 'claims: (n1)-[l:P26]->(n2),\n",
    "                     label: (n1)-[]->(n1_label),\n",
    "                     label: (n2)-[]->(n2_label),\n",
    "                     sitelinks: (n1)-[w:wikipedia_sitelink]->(wikipedia_url)'\n",
    "            --opt 'qualifiers: (l)-[:P582]->(endd_time)'\n",
    "            --where 'substr(kgtk_date_date(endd_time), 2) < \"2019-12-31\" AND w.lang = \"en\"'\n",
    "            --return 'n1 as node1, \n",
    "                      kgtk_lqstring_text(n1_label) as node1_label, \n",
    "                      \"married to\" as label, \n",
    "                      n2 as node2, \n",
    "                      kgtk_lqstring_text(n2_label) as node2_label, \n",
    "                      substr(kgtk_date_date(endd_time), 2) as end_time,\n",
    "                      wikipedia_url as wikipedia_url'\n",
    "            --order-by 'end_time desc'\n",
    "            -o '../data/divorces_in_wikidata.tsv.gz'\n",
    "\"\"\")"
   ]
  },
  {
   "cell_type": "code",
   "execution_count": null,
   "id": "4c78e22b-b5dc-4a32-ae5f-5a1f9d49e06d",
   "metadata": {},
   "outputs": [],
   "source": [
    "divorces_df  = pd.read_csv('../data/divorces_in_wikidata.tsv.gz', sep='\\t').fillna('')"
   ]
  },
  {
   "cell_type": "code",
   "execution_count": null,
   "id": "238e77b8-abf7-4fd7-b8fa-a519f6348b10",
   "metadata": {},
   "outputs": [],
   "source": [
    "print(len(divorces_df), len(divorces_df[divorces_df['end_time'] == '']), len(divorces_df[divorces_df['end_time'] != '']))"
   ]
  },
  {
   "cell_type": "markdown",
   "id": "a16b211f-793d-4ce4-952f-c19d48f1fb10",
   "metadata": {},
   "source": [
    "## Position held (P39)"
   ]
  },
  {
   "cell_type": "code",
   "execution_count": null,
   "id": "91728827-1b5f-4b30-8bef-34832d46df1a",
   "metadata": {},
   "outputs": [],
   "source": [
    "kypher(\"\"\" --debug\n",
    "            -i claims -i qualifiers -i label -i $sitelinks --as sitelinks --gc $STORE\n",
    "            --match 'claims: (n1)-[l:P39]->(n2),\n",
    "                     label: (n1)-[]->(n1_label),\n",
    "                     label: (n2)-[]->(n2_label),\n",
    "                     sitelinks: (n1)-[w:wikipedia_sitelink]->(wikipedia_url)'\n",
    "            --opt 'qualifiers: (l)-[:P580]->(st_time)'\n",
    "            --where 'substr(kgtk_date_date(st_time), 2) < \"2019-12-31\" AND w.lang = \"en\"'\n",
    "            --return 'n1 as node1, \n",
    "                      kgtk_lqstring_text(n1_label) as node1_label, \n",
    "                      \"position held\" as label, \n",
    "                      n2 as node2, \n",
    "                      kgtk_lqstring_text(n2_label) as node2_label, \n",
    "                      substr(kgtk_date_date(st_time), 2) as start_time,\n",
    "                      wikipedia_url as wikipedia_url'\n",
    "            --order-by 'start_time desc'\n",
    "            -o '../data/position_held_wikidata.tsv.gz'\n",
    "\n",
    "\"\"\")"
   ]
  },
  {
   "cell_type": "code",
   "execution_count": null,
   "id": "12b6db71-9e0c-40ce-8dc8-a1f89ce2a9d7",
   "metadata": {},
   "outputs": [],
   "source": [
    "position_df  = pd.read_csv('../data/position_held_wikidata.tsv.gz', sep='\\t').fillna('')"
   ]
  },
  {
   "cell_type": "code",
   "execution_count": null,
   "id": "270357d7-25d9-4552-924f-f87c0480016b",
   "metadata": {},
   "outputs": [],
   "source": [
    "print(len(position_df), len(position_df[position_df['start_time'] == '']), len(position_df[position_df['start_time'] != '']))"
   ]
  },
  {
   "cell_type": "markdown",
   "id": "9fcf4ae6-2d96-4abc-a5b7-f3e409f2883d",
   "metadata": {},
   "source": [
    "## Member of sports team (P54)"
   ]
  },
  {
   "cell_type": "code",
   "execution_count": null,
   "id": "9320b0ea-36bc-4b4b-b053-6330b2b1b724",
   "metadata": {},
   "outputs": [],
   "source": [
    "kypher(\"\"\" --debug\n",
    "            -i claims -i qualifiers -i label -i sitelinks --gc $STORE\n",
    "            --match 'claims: (n1)-[l:P54]->(n2),\n",
    "                     label: (n1)-[]->(n1_label),\n",
    "                     label: (n2)-[]->(n2_label),\n",
    "                     sitelinks: (n1)-[w:wikipedia_sitelink]->(wikipedia_url)'\n",
    "            --opt 'qualifiers: (l)-[:P580]->(st_time)'\n",
    "            --where 'substr(kgtk_date_date(st_time), 2) < \"2019-12-31\" AND w.lang = \"en\"'\n",
    "            --return 'n1 as node1, \n",
    "                      kgtk_lqstring_text(n1_label) as node1_label, \n",
    "                      \"position held\" as label, \n",
    "                      n2 as node2, \n",
    "                      kgtk_lqstring_text(n2_label) as node2_label, \n",
    "                      substr(kgtk_date_date(st_time), 2) as point_in_time,\n",
    "                      wikipedia_url as wikipedia_url'\n",
    "            --order-by 'point_in_time desc'\n",
    "            -o '../data/member_of_sports_teams_wikidata.tsv.gz'\n",
    "\"\"\")"
   ]
  },
  {
   "cell_type": "code",
   "execution_count": null,
   "id": "e8e1d51c-b83b-4e91-990c-155097f62f6c",
   "metadata": {},
   "outputs": [],
   "source": [
    "members_df = pd.read_csv('../data/member_of_sports_teams_wikidata.tsv.gz', sep='\\t')"
   ]
  },
  {
   "cell_type": "code",
   "execution_count": null,
   "id": "d937ae9b-4819-4c43-8f85-681670f4a4b0",
   "metadata": {},
   "outputs": [],
   "source": [
    "print(len(members_df), len(members_df[members_df['point_in_time'] != '']), len(members_df[members_df['point_in_time'] == '']))"
   ]
  },
  {
   "cell_type": "markdown",
   "id": "d16a34a8-76fa-40e3-ba4a-2e230cc8ebdc",
   "metadata": {},
   "source": [
    "## Significant Event P793"
   ]
  },
  {
   "cell_type": "code",
   "execution_count": null,
   "id": "47c54065-5b57-4ea5-a0fe-9f04c4b80842",
   "metadata": {},
   "outputs": [],
   "source": [
    "kypher(\"\"\" --debug\n",
    "            -i claims -i qualifiers -i label -i sitelinks --gc $STORE\n",
    "            --match 'claims: (n1)-[l:P793]->(n2),\n",
    "                     label: (n1)-[]->(n1_label),\n",
    "                     label: (n2)-[]->(n2_label),\n",
    "                     sitelinks: (n1)-[w:wikipedia_sitelink]->(wikipedia_url)'\n",
    "            --opt 'qualifiers: (l)-[:P585]->(st_time)'\n",
    "            --where 'substr(kgtk_date_date(st_time), 2) < \"2019-12-31\" AND w.lang = \"en\"'\n",
    "            --return 'n1 as node1, \n",
    "                      kgtk_lqstring_text(n1_label) as node1_label, \n",
    "                      \"position held\" as label, \n",
    "                      n2 as node2, \n",
    "                      kgtk_lqstring_text(n2_label) as node2_label, \n",
    "                      substr(kgtk_date_date(st_time), 2) as point_in_time,\n",
    "                      wikipedia_url as wikipedia_url'\n",
    "            --order-by 'point_in_time desc'\n",
    "            -o '../data/significant_event_wikidata.tsv.gz'\n",
    "\"\"\")"
   ]
  },
  {
   "cell_type": "code",
   "execution_count": null,
   "id": "5f2acd7e-be25-4331-8a20-3090252a0ebc",
   "metadata": {},
   "outputs": [],
   "source": [
    "sig_df = pd.read_csv('../data/significant_event_wikidata.tsv.gz', sep='\\t')"
   ]
  },
  {
   "cell_type": "code",
   "execution_count": null,
   "id": "327daa47-b52f-49d7-bab1-10140f1d07d8",
   "metadata": {},
   "outputs": [],
   "source": [
    "print(len(sig_df), len(sig_df[sig_df['point_in_time'] != '']), len(sig_df[sig_df['point_in_time'] == '']))"
   ]
  },
  {
   "cell_type": "markdown",
   "id": "5720ec07-1e35-448d-98d0-b1a34652464d",
   "metadata": {},
   "source": [
    "## Employer P108"
   ]
  },
  {
   "cell_type": "code",
   "execution_count": null,
   "id": "6ec2e053-d122-4b24-8214-e2d7dd8a4774",
   "metadata": {},
   "outputs": [],
   "source": [
    "kypher(\"\"\" --debug\n",
    "            -i claims -i qualifiers -i label -i sitelinks --gc $STORE\n",
    "            --match 'claims: (n1)-[l:P108]->(n2),\n",
    "                     label: (n1)-[]->(n1_label),\n",
    "                     label: (n2)-[]->(n2_label),\n",
    "                     sitelinks: (n1)-[w:wikipedia_sitelink]->(wikipedia_url)'\n",
    "            --opt 'qualifiers: (l)-[:P580]->(st_time)'\n",
    "            --where 'substr(kgtk_date_date(st_time), 2) < \"2019-12-31\" AND w.lang = \"en\"'\n",
    "            --return 'n1 as node1, \n",
    "                      kgtk_lqstring_text(n1_label) as node1_label, \n",
    "                      \"position held\" as label, \n",
    "                      n2 as node2, \n",
    "                      kgtk_lqstring_text(n2_label) as node2_label, \n",
    "                      substr(kgtk_date_date(st_time), 2) as start_time,\n",
    "                      wikipedia_url as wikipedia_url'\n",
    "            --order-by 'start_time desc'\n",
    "            -o '../data/employer_wikidata.tsv.gz'\n",
    "\"\"\")"
   ]
  },
  {
   "cell_type": "code",
   "execution_count": null,
   "id": "56ea8569-bc49-40fe-847c-16e55649e323",
   "metadata": {},
   "outputs": [],
   "source": [
    "employer_df = pd.read_csv('../data/employer_wikidata.tsv.gz', sep='\\t')"
   ]
  },
  {
   "cell_type": "code",
   "execution_count": null,
   "id": "5cd18e6f-e8d4-4c3b-8ba8-45876974ad50",
   "metadata": {},
   "outputs": [],
   "source": [
    "print(len(employer_df), len(employer_df[employer_df['start_time'] != '']), len(employer_df[employer_df['start_time'] == '']))"
   ]
  },
  {
   "cell_type": "markdown",
   "id": "6f3d9302-c4c1-4843-a2f5-c0f445beaa4d",
   "metadata": {},
   "source": [
    "## Find all relations with a time qualifier"
   ]
  },
  {
   "cell_type": "code",
   "execution_count": 8,
   "id": "361a8162-7aff-42aa-8eac-f34a72e96ca1",
   "metadata": {},
   "outputs": [
    {
     "name": "stdout",
     "output_type": "stream",
     "text": [
      "[2022-08-02 17:39:41 query]: SQL Translation:\n",
      "---------------------------------------------\n",
      "  SELECT DISTINCT graph_5_c1.\"node1\" \"_aLias.node1\", graph_5_c1.\"label\" \"_aLias.label\", graph_6_c3.\"node1\" \"_aLias.qualifier\", count(graph_7_c2.\"id\") \"_aLias.qualifier_count\"\n",
      "     FROM graph_5 AS graph_5_c1\n",
      "     INNER JOIN graph_6 AS graph_6_c3, graph_7 AS graph_7_c2\n",
      "     ON graph_5_c1.\"id\" = graph_7_c2.\"node1\"\n",
      "        AND graph_6_c3.\"node1\" = graph_7_c2.\"label\"\n",
      "        AND graph_5_c1.\"label\" = graph_5_c1.\"label\"\n",
      "        AND graph_7_c2.\"label\" = graph_6_c3.\"node1\"\n",
      "        AND (graph_6_c3.\"node2\" = ?)\n",
      "     GROUP BY \"_aLias.node1\", \"_aLias.label\", \"_aLias.qualifier\"\n",
      "  PARAS: ['time']\n",
      "---------------------------------------------\n",
      "\n"
     ]
    }
   ],
   "source": [
    "kypher(\"\"\"--debug\n",
    "            -i claims -i qualifiers -i label -i datatypes --gc $STORE\n",
    "            --match 'claims: (n1)-[l{label: prop}]->(n2),\n",
    "                     qualifiers: (l)-[w {label: qprop}]->(),\n",
    "                     datatypes: (qprop)-[]->(datatype)'\n",
    "            --where 'datatype = \"time\"'\n",
    "            --return 'distinct n1 as node1,\n",
    "                    prop as label,\n",
    "                    qprop as qualifier,\n",
    "                    count(w) as qualifier_count'\n",
    "            -o '../data/poperties_with_time_qualifiers.tsv.gz'\n",
    "            \"\"\")"
   ]
  },
  {
   "cell_type": "code",
   "execution_count": 7,
   "id": "b077e364-4608-4449-97e2-58e0e4c7014f",
   "metadata": {},
   "outputs": [
    {
     "name": "stdout",
     "output_type": "stream",
     "text": [
      "[2022-08-02 17:39:05 query]: SQL Translation:\n",
      "---------------------------------------------\n",
      "  SELECT DISTINCT graph_5_c1.\"node1\" \"_aLias.node1\", graph_5_c1.\"label\" \"_aLias.label\", graph_6_c3.\"node1\" \"_aLias.qualifier\", graph_7_c2.\"node2\"\n",
      "     FROM graph_5 AS graph_5_c1\n",
      "     INNER JOIN graph_6 AS graph_6_c3, graph_7 AS graph_7_c2\n",
      "     ON graph_5_c1.\"id\" = graph_7_c2.\"node1\"\n",
      "        AND graph_6_c3.\"node1\" = graph_7_c2.\"label\"\n",
      "        AND graph_5_c1.\"label\" = graph_5_c1.\"label\"\n",
      "        AND graph_5_c1.\"node1\" = ?\n",
      "        AND graph_7_c2.\"label\" = graph_6_c3.\"node1\"\n",
      "        AND ((graph_6_c3.\"node2\" = ?) AND (graph_5_c1.\"label\" = ?))\n",
      "     LIMIT ?\n",
      "  PARAS: ['P1000', 'time', 'P1855', 20]\n",
      "---------------------------------------------\n",
      "\n"
     ]
    },
    {
     "data": {
      "text/html": [
       "<div>\n",
       "<style scoped>\n",
       "    .dataframe tbody tr th:only-of-type {\n",
       "        vertical-align: middle;\n",
       "    }\n",
       "\n",
       "    .dataframe tbody tr th {\n",
       "        vertical-align: top;\n",
       "    }\n",
       "\n",
       "    .dataframe thead th {\n",
       "        text-align: right;\n",
       "    }\n",
       "</style>\n",
       "<table border=\"1\" class=\"dataframe\">\n",
       "  <thead>\n",
       "    <tr style=\"text-align: right;\">\n",
       "      <th></th>\n",
       "      <th>node1</th>\n",
       "      <th>label</th>\n",
       "      <th>qualifier</th>\n",
       "      <th>node2</th>\n",
       "    </tr>\n",
       "  </thead>\n",
       "  <tbody>\n",
       "    <tr>\n",
       "      <th>0</th>\n",
       "      <td>P1000</td>\n",
       "      <td>P1855</td>\n",
       "      <td>P580</td>\n",
       "      <td>^2014-02-15T00:00:00Z/11</td>\n",
       "    </tr>\n",
       "    <tr>\n",
       "      <th>1</th>\n",
       "      <td>P1000</td>\n",
       "      <td>P1855</td>\n",
       "      <td>P580</td>\n",
       "      <td>^1929-09-12T00:00:00Z/11</td>\n",
       "    </tr>\n",
       "  </tbody>\n",
       "</table>\n",
       "</div>"
      ],
      "text/plain": [
       "   node1  label qualifier                     node2\n",
       "0  P1000  P1855      P580  ^2014-02-15T00:00:00Z/11\n",
       "1  P1000  P1855      P580  ^1929-09-12T00:00:00Z/11"
      ]
     },
     "execution_count": 7,
     "metadata": {},
     "output_type": "execute_result"
    }
   ],
   "source": [
    "kypher(\"\"\"--debug\n",
    "            -i claims -i qualifiers -i label -i datatypes --gc $STORE\n",
    "            --match 'claims: (n1:P1000)-[l{label: prop}]->(n2),\n",
    "                     qualifiers: (l)-[w {label: qprop}]->(ww),\n",
    "                     datatypes: (qprop)-[]->(datatype)'\n",
    "            --where 'datatype = \"time\" AND prop = \"P1855\"'\n",
    "            --return 'distinct n1 as node1,\n",
    "                    prop as label,\n",
    "                    qprop as qualifier,\n",
    "                    ww'\n",
    "            --limit 20\"\"\")"
   ]
  },
  {
   "cell_type": "code",
   "execution_count": null,
   "id": "781bb424-15a7-4134-9b89-b3924039f99b",
   "metadata": {},
   "outputs": [],
   "source": []
  }
 ],
 "metadata": {
  "kernelspec": {
   "display_name": "kgtk-env",
   "language": "python",
   "name": "kgtk-env"
  },
  "language_info": {
   "codemirror_mode": {
    "name": "ipython",
    "version": 3
   },
   "file_extension": ".py",
   "mimetype": "text/x-python",
   "name": "python",
   "nbconvert_exporter": "python",
   "pygments_lexer": "ipython3",
   "version": "3.9.7"
  }
 },
 "nbformat": 4,
 "nbformat_minor": 5
}
