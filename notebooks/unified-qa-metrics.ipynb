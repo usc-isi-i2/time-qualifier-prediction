{
 "cells": [
  {
   "cell_type": "markdown",
   "id": "7fb6b4a0-ebe4-4925-aa79-d837c3fe0973",
   "metadata": {},
   "source": [
    "Answerable keywords:\n",
    "- yes: question is answerable given the dpr answer\n",
    "- no: question is not answerable given the dpr answer\n",
    "- check: question would have been answerable given better sentence splits\n",
    "- interesting: dpr answer is vague about the answer\n",
    "- invalid: question is invalid because of incorrect first name of second qnode\n",
    "- incorrect: dpr answer has wrong information (wikipedia obsolete/incorrect)"
   ]
  },
  {
   "cell_type": "code",
   "execution_count": 84,
   "id": "902777ed-5dc0-40c6-b944-964bb89ba3f7",
   "metadata": {},
   "outputs": [
    {
     "name": "stderr",
     "output_type": "stream",
     "text": [
      "/nas/home/amandeep/miniconda3/envs/python3/lib/python3.9/site-packages/tqdm/auto.py:22: TqdmWarning: IProgress not found. Please update jupyter and ipywidgets. See https://ipywidgets.readthedocs.io/en/stable/user_install.html\n",
      "  from .autonotebook import tqdm as notebook_tqdm\n"
     ]
    }
   ],
   "source": [
    "import json\n",
    "import random\n",
    "import pandas as pd\n",
    "from utils import match_dates_based_on_precision"
   ]
  },
  {
   "cell_type": "code",
   "execution_count": 71,
   "id": "e46805b1-8e5e-451f-946d-76f1fb64bdcc",
   "metadata": {},
   "outputs": [],
   "source": [
    "input_file = '../data/dpr-post-process-unified-qa-matched.jl'\n",
    "metrics_file = '../data/unified-qa-metrics.tsv'\n",
    "random_output_file = '../data/questions-for-annotation.csv'"
   ]
  },
  {
   "cell_type": "code",
   "execution_count": 72,
   "id": "577ce5e5-33f3-43b8-b4d2-bd76992f3846",
   "metadata": {},
   "outputs": [],
   "source": [
    "q_to_p_dict = json.load(open('../data/questions_o_precision_dict.json'))"
   ]
  },
  {
   "cell_type": "code",
   "execution_count": 73,
   "id": "f9875f26-fb07-46c9-99ce-748bed030184",
   "metadata": {},
   "outputs": [],
   "source": [
    "precision_dict = {\n",
    "    \n",
    "    \"14\": \"second\",\n",
    "    \"13\": \"minute\",\n",
    "    \"12\": \"hour\",\n",
    "    \"11\": \"day\",\n",
    "    \"10\": \"month\",\n",
    "    \"9\": \"year\",\n",
    "    \"8\": \"decade\",\n",
    "    \"7\": \"century\",\n",
    "    \"6\": \"millenium\",\n",
    "    \"4\": \"hundred thousand years\",\n",
    "    \"3\": \"million years\",\n",
    "    \"0\": \"billion years\"\n",
    "}"
   ]
  },
  {
   "cell_type": "code",
   "execution_count": 35,
   "id": "d92f3135-40f3-446d-b7e9-fdcbe6893773",
   "metadata": {},
   "outputs": [],
   "source": [
    "o = open(metrics_file, 'w')"
   ]
  },
  {
   "cell_type": "code",
   "execution_count": 36,
   "id": "55e9748d-a194-4a44-b201-d7ce7600a436",
   "metadata": {},
   "outputs": [
    {
     "data": {
      "text/plain": [
       "113"
      ]
     },
     "execution_count": 36,
     "metadata": {},
     "output_type": "execute_result"
    }
   ],
   "source": [
    "o.write('question\\tanswer\\tprecision\\tdpr_para\\trank\\tfiltered_rank\\trag_matched\\tunified_qa_matched\\tunified_qa_answer\\tagreement\\n')"
   ]
  },
  {
   "cell_type": "code",
   "execution_count": 37,
   "id": "d4d9b43c-3f95-49be-a156-d08a1f81dcd5",
   "metadata": {},
   "outputs": [],
   "source": [
    "with open(input_file) as f:\n",
    "    for line in f:\n",
    "        x = json.loads(line.strip())\n",
    "        question = x['q']\n",
    "        answer = x['a']\n",
    "        precision = precision_dict[q_to_p_dict[question]]\n",
    "        mda = x['matched_dpr_answers']\n",
    "        for i, da in enumerate(mda):\n",
    "            dpr_answer = da['dpr_answer'].replace('\\n', ' ')\n",
    "            u_a = da['unified_qa_answers']\n",
    "            if len(u_a) > 0:\n",
    "                u_a = u_a[0]\n",
    "            else:\n",
    "                u_a = ''\n",
    "            \n",
    "            o.write(f\"{question}\\t{answer}\\t{precision}\\t{dpr_answer}\\t \\\n",
    "            {da['rank']}\\t{i+1}\\t{da['matched']}\\t{da['uqa_matched']}\\t{u_a}\\t{da['matched'] == da['uqa_matched']}\\n\")"
   ]
  },
  {
   "cell_type": "code",
   "execution_count": 38,
   "id": "25f04ea4-e54f-4d4b-861e-622abb86db74",
   "metadata": {},
   "outputs": [],
   "source": [
    "o.close()"
   ]
  },
  {
   "cell_type": "code",
   "execution_count": 42,
   "id": "b3ea21f7-d62f-44c8-bc36-b89d6e5d8b0b",
   "metadata": {},
   "outputs": [
    {
     "name": "stdout",
     "output_type": "stream",
     "text": [
      "13382\n",
      "12619\n",
      "13087\n",
      "5501\n",
      "5219\n"
     ]
    }
   ],
   "source": [
    "year_matched = 0\n",
    "month_matched = 0\n",
    "exact_match = 0\n",
    "precision_matched = 0\n",
    "total = 0\n",
    "with open(input_file) as f:\n",
    "    for line in f:\n",
    "        total += 1\n",
    "        x = json.loads(line.strip())\n",
    "        question = x['q']\n",
    "        answer = x['a']\n",
    "        year, month, day = answer.split('-')\n",
    "        mda = x['matched_dpr_answers']\n",
    "        for i, da in enumerate(mda):\n",
    "            if da['uqa_matched']:\n",
    "                precision_matched += 1\n",
    "            u_a = da['unified_parsed_dates']\n",
    "            if len(u_a) > 0:\n",
    "                u_a = u_a[0]\n",
    "                if answer == u_a['date']:\n",
    "                    exact_match += 1\n",
    "                if year == str(u_a['year']):\n",
    "                    year_matched += 1\n",
    "                if month == u_a['month']:\n",
    "                    month_matched += 1\n",
    "\n",
    "print(total)\n",
    "print(precision_matched)\n",
    "print(year_matched)\n",
    "print(month_matched)\n",
    "print(exact_match)"
   ]
  },
  {
   "cell_type": "code",
   "execution_count": 91,
   "id": "08909538-3497-4c81-869b-1ff99f7ac91e",
   "metadata": {},
   "outputs": [],
   "source": [
    "def create_random_questions(input_file, output_file, k=100):\n",
    "    all_questions = []\n",
    "    out = []\n",
    "    with open(input_file) as f:\n",
    "        for line in f:\n",
    "            x = json.loads(line.strip())\n",
    "            all_questions.append(x)\n",
    "    random_k = random.sample(all_questions, k)\n",
    "    for x in random_k:\n",
    "        question = x['q']\n",
    "        answer = x['a']\n",
    "        precision = precision_dict[q_to_p_dict[question]]\n",
    "        mda = x['matched_dpr_answers']            \n",
    "            \n",
    "        # get the highest ranked dpr answer only, which is the first one because of sorting beforehand\n",
    "        mda_best = mda[0]\n",
    "        parsed_dates = mda_best['parsed_dates']\n",
    "        non_matched_dates = set()\n",
    "        for parsed_d in parsed_dates:\n",
    "            matched, _ =  match_dates_based_on_precision(answer, precision, parsed_d)\n",
    "            if not matched:\n",
    "                non_matched_dates.add(parsed_d['date'])\n",
    "        dpr_answer = mda_best['dpr_answer'].replace('\\n', ' ').replace('\"', '')\n",
    "        out.append({\n",
    "            'question': question,\n",
    "            'answer': answer,\n",
    "            'precision': precision,\n",
    "            'dpr_answer': dpr_answer,\n",
    "            'rank': mda_best['rank'],\n",
    "            'filtered_rank': i+1,\n",
    "            'other_dates': \",\".join(non_matched_dates)\n",
    "        })\n",
    "    pd.DataFrame(out).to_csv(output_file, index=False)\n",
    "\n",
    "          "
   ]
  },
  {
   "cell_type": "code",
   "execution_count": 92,
   "id": "7a9cf249-a879-4103-bda8-a3bf0bd26cdd",
   "metadata": {},
   "outputs": [],
   "source": [
    "create_random_questions(input_file, random_output_file, k=120)"
   ]
  },
  {
   "cell_type": "code",
   "execution_count": null,
   "id": "058e7e73-b7bc-4ff6-a851-4c2d200648f6",
   "metadata": {},
   "outputs": [],
   "source": []
  }
 ],
 "metadata": {
  "kernelspec": {
   "display_name": "python39",
   "language": "python",
   "name": "python39"
  },
  "language_info": {
   "codemirror_mode": {
    "name": "ipython",
    "version": 3
   },
   "file_extension": ".py",
   "mimetype": "text/x-python",
   "name": "python",
   "nbconvert_exporter": "python",
   "pygments_lexer": "ipython3",
   "version": "3.9.12"
  }
 },
 "nbformat": 4,
 "nbformat_minor": 5
}
