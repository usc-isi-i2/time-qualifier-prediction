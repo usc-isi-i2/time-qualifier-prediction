{
 "cells": [
  {
   "cell_type": "code",
   "execution_count": 1,
   "id": "d5811b98-6ff5-433e-88f0-3236f29a1574",
   "metadata": {},
   "outputs": [
    {
     "name": "stderr",
     "output_type": "stream",
     "text": [
      "/nas/home/amandeep/miniconda3/envs/python3/lib/python3.9/site-packages/tqdm/auto.py:22: TqdmWarning: IProgress not found. Please update jupyter and ipywidgets. See https://ipywidgets.readthedocs.io/en/stable/user_install.html\n",
      "  from .autonotebook import tqdm as notebook_tqdm\n"
     ]
    }
   ],
   "source": [
    "import re\n",
    "import json\n",
    "import dateparser\n",
    "# from pyrallel.parallel_processor import ParallelProcessor, Mapper\n",
    "import spacy\n",
    "import pandas as pds\n",
    "from utils import parse_date, match_dates_based_on_precision"
   ]
  },
  {
   "cell_type": "code",
   "execution_count": 2,
   "id": "30dae0c9-0b7c-4fe7-991c-1be9ae4d0a5d",
   "metadata": {},
   "outputs": [],
   "source": [
    "nlp = spacy.load('en_core_web_trf')"
   ]
  },
  {
   "cell_type": "code",
   "execution_count": 3,
   "id": "837aa152-030e-46f2-949b-71786eff7f02",
   "metadata": {},
   "outputs": [],
   "source": [
    "wikipedia_url_regex = re.compile(r'http:\\/\\/(.*)\\.wikipedia\\.org\\/wiki\\/(.*)')"
   ]
  },
  {
   "cell_type": "code",
   "execution_count": 4,
   "id": "134f9ce4-cc97-4044-8c15-9aba1d1dad32",
   "metadata": {},
   "outputs": [],
   "source": [
    "dpr_answer_file = '../data/marriages_wikidata.dpr.answers.pyserini.50k.jl'"
   ]
  },
  {
   "cell_type": "code",
   "execution_count": 5,
   "id": "9af72166-2922-4370-9389-5fbd9ec1550a",
   "metadata": {},
   "outputs": [],
   "source": [
    "q_to_p_dict = json.load(open('../data/questions_o_precision_dict.json'))"
   ]
  },
  {
   "cell_type": "code",
   "execution_count": 6,
   "id": "bb19dda2-6616-491a-9b2c-a3c50c7a0b35",
   "metadata": {},
   "outputs": [
    {
     "data": {
      "text/plain": [
       "68158"
      ]
     },
     "execution_count": 6,
     "metadata": {},
     "output_type": "execute_result"
    }
   ],
   "source": [
    "len(q_to_p_dict)"
   ]
  },
  {
   "cell_type": "code",
   "execution_count": 7,
   "id": "42ce87d8-f8b0-4f06-982b-c61e422b7bfd",
   "metadata": {},
   "outputs": [],
   "source": [
    "def filter_dpr_documents(dpr_answer_file):\n",
    "    dpr_answers = open(dpr_answer_file)\n",
    "    filtered_dpr_answers = []\n",
    "    no_matching_title = []\n",
    "    for dpr_answer in dpr_answers:\n",
    "        dpr = json.loads(dpr_answer)\n",
    "        wiki_title_url = ' '.join(re.search(wikipedia_url_regex, dpr['url']).group(2).lower().split('_'))\n",
    "        answers = dpr['dpr_answers']\n",
    "        filtered_answers = []\n",
    "        for i, a in enumerate(answers):\n",
    "            a['rank'] = i+1\n",
    "            wiki_title_dpr = a['dpr_answer'].split('\\n')[0].lower().replace('\"', '')\n",
    "            if wiki_title_dpr == wiki_title_url:\n",
    "                filtered_answers.append(a)\n",
    "        if len(filtered_answers) > 0:\n",
    "            dpr['filtered_answers'] = filtered_answers\n",
    "            filtered_dpr_answers.append(dpr)\n",
    "        else:\n",
    "            no_matching_title.append(dpr)\n",
    "    dpr_answers.close()\n",
    "    print(f'no matching title count: {len(no_matching_title)}')\n",
    "    return filtered_dpr_answers, no_matching_title"
   ]
  },
  {
   "cell_type": "code",
   "execution_count": 8,
   "id": "667bd959-3a01-4a24-9f51-7b41a031923b",
   "metadata": {},
   "outputs": [
    {
     "name": "stdout",
     "output_type": "stream",
     "text": [
      "no matching title count: 29119\n"
     ]
    }
   ],
   "source": [
    "filtered_answers, no_matching_title = filter_dpr_documents(dpr_answer_file)"
   ]
  },
  {
   "cell_type": "code",
   "execution_count": 9,
   "id": "84c42613-cefe-4b69-b138-4df575e39b6a",
   "metadata": {},
   "outputs": [
    {
     "data": {
      "text/plain": [
       "25181"
      ]
     },
     "execution_count": 9,
     "metadata": {},
     "output_type": "execute_result"
    }
   ],
   "source": [
    "len(filtered_answers)"
   ]
  },
  {
   "cell_type": "code",
   "execution_count": null,
   "id": "33d286a3-c054-4520-adc7-2d9ba0b2e089",
   "metadata": {},
   "outputs": [],
   "source": [
    "pretty_print_json(filtered_answers[233]['filtered_answers'])"
   ]
  },
  {
   "cell_type": "code",
   "execution_count": 10,
   "id": "ef2c728b-8779-49f6-afeb-9b2344aae3ad",
   "metadata": {},
   "outputs": [],
   "source": [
    "def pretty_print_json(json_doc):\n",
    "    print(json.dumps(json_doc, indent=2))"
   ]
  },
  {
   "cell_type": "code",
   "execution_count": 11,
   "id": "23e5f1ab-13c1-47e8-94c9-afef0235dd81",
   "metadata": {},
   "outputs": [
    {
     "data": {
      "text/plain": [
       "'\"Ranbir Kapoor\"\\nlife. Rumours of an affair with Katrina Kaif first emerged during the production of \"\"Ajab Prem Ki Ghazab Kahani\"\" in 2009. In August 2013, a set of paparazzi photographs of Kapoor and Kaif at a beach in Spain were published by \"\"Stardust\"\". Although Kapoor initially declined to speak of the relationship, he admitted to it in 2015: \"\"Both of us are sure about our relationship and if we don\\'t open about it now, it would be showing disrespect to the relationship.\"\" As of February 2016, the media reported that they had broken up. In 2018, he began dating Alia Bhatt,'"
      ]
     },
     "execution_count": 11,
     "metadata": {},
     "output_type": "execute_result"
    }
   ],
   "source": [
    "one_para = filtered_answers[0]['filtered_answers'][0]['dpr_answer']\n",
    "one_para"
   ]
  },
  {
   "cell_type": "code",
   "execution_count": 12,
   "id": "e7f221e0-673e-4909-b76c-6751d5fdeef8",
   "metadata": {},
   "outputs": [
    {
     "name": "stderr",
     "output_type": "stream",
     "text": [
      "/nas/home/amandeep/miniconda3/envs/python3/lib/python3.9/site-packages/torch/autocast_mode.py:162: UserWarning: User provided device_type of 'cuda', but CUDA is not available. Disabling\n",
      "  warnings.warn('User provided device_type of \\'cuda\\', but CUDA is not available. Disabling')\n",
      "/nas/home/amandeep/miniconda3/envs/python3/lib/python3.9/site-packages/dateparser/date_parser.py:35: PytzUsageWarning: The localize method is no longer necessary, as this time zone supports the fold attribute (PEP 495). For more details on migrating to a PEP 495-compliant implementation, see https://pytz-deprecation-shim.readthedocs.io/en/latest/migration.html\n",
      "  date_obj = stz.localize(date_obj)\n"
     ]
    },
    {
     "data": {
      "text/plain": [
       "[{'date': '2009-07-01', 'year': 2009, 'month': '07', 'day': '01'},\n",
       " {'date': '2013-08-01', 'year': 2013, 'month': '08', 'day': '01'},\n",
       " {'date': '2015-07-01', 'year': 2015, 'month': '07', 'day': '01'},\n",
       " {'date': '2016-02-01', 'year': 2016, 'month': '02', 'day': '01'},\n",
       " {'date': '2018-07-01', 'year': 2018, 'month': '07', 'day': '01'}]"
      ]
     },
     "execution_count": 12,
     "metadata": {},
     "output_type": "execute_result"
    }
   ],
   "source": [
    "parse_date(one_para, nlp)"
   ]
  },
  {
   "cell_type": "code",
   "execution_count": 13,
   "id": "be468f74-30a8-4d98-b546-203344438f64",
   "metadata": {},
   "outputs": [],
   "source": [
    "def process_dpr(line, answer_field='filtered_answers'):\n",
    "    dpr_answers = line[answer_field]\n",
    "    for da in dpr_answers:\n",
    "        parsed_dates = parse_date(da['dpr_answer'], nlp)\n",
    "        if parsed_dates:\n",
    "            da['parsed_dates'] = parsed_dates\n",
    "    return json.dumps(line)q_to_p_dict"
   ]
  },
  {
   "cell_type": "code",
   "execution_count": 14,
   "id": "1f5848a4-3bdf-473f-9c83-22d15a9fa958",
   "metadata": {},
   "outputs": [
    {
     "name": "stdout",
     "output_type": "stream",
     "text": [
      "1000\n",
      "2000\n",
      "3000\n",
      "4000\n",
      "5000\n",
      "6000\n",
      "7000\n",
      "8000\n",
      "9000\n",
      "10000\n",
      "11000\n",
      "12000\n",
      "13000\n",
      "14000\n",
      "15000\n",
      "16000\n",
      "17000\n",
      "18000\n",
      "19000\n",
      "20000\n",
      "21000\n",
      "22000\n",
      "23000\n",
      "24000\n",
      "25000\n"
     ]
    }
   ],
   "source": [
    "out = open('../data/dpr-post-process-filtered.jl', 'w')\n",
    "c = 1\n",
    "for line in filtered_answers:\n",
    "    if c % 1000 == 0:\n",
    "        print(c)\n",
    "    c += 1\n",
    "    out.write(f'{process_dpr(line)}\\n')"
   ]
  },
  {
   "cell_type": "code",
   "execution_count": 57,
   "id": "16ef65b4-84da-4c0c-984c-255d84bc724d",
   "metadata": {},
   "outputs": [],
   "source": [
    "def match_dpr_dates(input_file, output_file, dpr_answer_field='filtered_answers'):\n",
    "    out = open(output_file, 'w')\n",
    "    f = open(input_file)\n",
    "    c = 0 \n",
    "    filtered_not_matched = []\n",
    "    for line in f:\n",
    "        any_match = False\n",
    "        c += 1\n",
    "        j = json.loads(line.strip())\n",
    "        j['precision'] = q_to_p_dict[j['q']]\n",
    "        j.pop('dpr_answers')\n",
    "        answers = j[dpr_answer_field]\n",
    "        for ans in answers:\n",
    "            matched = False\n",
    "            parsed_dates = ans.get('parsed_dates', None)\n",
    "            if parsed_dates:\n",
    "                for pd in parsed_dates:                    \n",
    "                    matched, prov = match_dates_based_on_precision(j['a'], q_to_p_dict[j['q']], pd)\n",
    "                    if j['q'] == 'when did Chiara Ferragni marry Fedez?':\n",
    "                        print(matched, pd, j['a'])\n",
    "\n",
    "                    if matched:\n",
    "                        ans['prov'] = prov\n",
    "                        any_match = True\n",
    "                        break\n",
    "            if j['q'] == 'when did Chiara Ferragni marry Fedez?':\n",
    "                print(matched)\n",
    "            ans['matched'] = matched\n",
    "        if not any_match:\n",
    "            filtered_not_matched.append(j)\n",
    "        else:\n",
    "            j['spacy_matched'] = any_match\n",
    "        out.write(json.dumps(j))\n",
    "        out.write('\\n')\n",
    "    return filtered_not_matched"
   ]
  },
  {
   "cell_type": "code",
   "execution_count": 58,
   "id": "3a2757af-fe14-46cd-99c0-cd3c0b69e1ef",
   "metadata": {},
   "outputs": [
    {
     "name": "stdout",
     "output_type": "stream",
     "text": [
      "False {'date': '2015-07-01', 'year': 2015, 'month': '07', 'day': '01'} 2018-09-01\n",
      "False {'date': '2015-07-01', 'year': 2015, 'month': '07', 'day': '01'} 2018-09-01\n",
      "False {'date': '2017-05-06', 'year': 2017, 'month': '05', 'day': '06'} 2018-09-01\n",
      "True {'date': '2018-09-01', 'year': 2018, 'month': '09', 'day': '01'} 2018-09-01\n",
      "True\n"
     ]
    }
   ],
   "source": [
    "filtered_not_matched = match_dpr_dates('../data/dpr-post-process-filtered.jl', \n",
    "                                       '../data/dpr-post-process-filtered-matched.jl')"
   ]
  },
  {
   "cell_type": "code",
   "execution_count": 47,
   "id": "76f8641f-771c-46bf-adfc-d6336435b79f",
   "metadata": {},
   "outputs": [
    {
     "data": {
      "text/plain": [
       "11826"
      ]
     },
     "execution_count": 47,
     "metadata": {},
     "output_type": "execute_result"
    }
   ],
   "source": [
    "len(filtered_not_matched)"
   ]
  },
  {
   "cell_type": "code",
   "execution_count": 59,
   "id": "e7bfd9a3-96ed-4b30-8668-63b93fd54ce4",
   "metadata": {},
   "outputs": [
    {
     "name": "stdout",
     "output_type": "stream",
     "text": [
      "True\n",
      "14775\n"
     ]
    }
   ],
   "source": [
    "processed_file = open('../data/dpr-post-process-filtered-matched.jl')\n",
    "c = 0\n",
    "for l in processed_file:\n",
    "    j = json.loads(l.strip())\n",
    "    fas = j['filtered_answers']\n",
    "    for fa in fas:\n",
    "        if j['q'] == 'when did Chiara Ferragni marry Fedez?':\n",
    "            print(fa['matched'])\n",
    "        if fa['matched']:\n",
    "            # print(f\"{j['q']}\\t{fa['dpr_answer']}\\t{j['a']}\")\n",
    "            c += 1\n",
    "print(c)\n",
    "processed_file.close()"
   ]
  },
  {
   "cell_type": "code",
   "execution_count": 60,
   "id": "0b7589a4-6cd2-4633-a00f-5dd7da45af26",
   "metadata": {},
   "outputs": [],
   "source": [
    "def filter_matched_answers(input_file, output_file, dpr_field='filtered_answers'):\n",
    "    i_f = open(input_file)\n",
    "    o = open(output_file, 'w')\n",
    "    out = []\n",
    "    for line in i_f:\n",
    "        j = json.loads(line.strip())\n",
    "        if j['q'] == 'when did Chiara Ferragni marry Fedez?':\n",
    "            print(j)\n",
    "        dpr_answers = j[dpr_field]\n",
    "        matched_dpr_answers = [x for x in dpr_answers if x['matched']]\n",
    "        j['matched_dpr_answers'] = matched_dpr_answers\n",
    "        j.pop(dpr_field)\n",
    "        if len(matched_dpr_answers) > 0:\n",
    "            out.append(j)\n",
    "    o.write(json.dumps(out))"
   ]
  },
  {
   "cell_type": "code",
   "execution_count": 61,
   "id": "4490bb4f-dfb5-4cb0-a5cb-09cee2f7126c",
   "metadata": {},
   "outputs": [
    {
     "name": "stdout",
     "output_type": "stream",
     "text": [
      "{'q': 'when did Chiara Ferragni marry Fedez?', 'a': '2018-09-01', 'n1': 'Q8933801', 'n2': 'Q3741984', 'n1_label': 'Chiara Ferragni', 'n2_label': 'Fedez', 'url': 'http://en.wikipedia.org/wiki/Chiara_Ferragni', 'filtered_answers': [{'dpr_answer': '\"Chiara Ferragni\"\\nin Business of Fashion 500 most influential fashion people. In 2015, Ferragni won the \"\"Bloglovin\\' Award\"\" \"\"Blogger of the Year\"\". In 2015 Ferragni was listed in the \"\"Forbes 30 Under 30. Chiara and Italian rapper and producer Federico Lucia, known as Fedez started dating in late 2016. They got engaged on May 6, 2017, during his concert in Verona; the concert and proposal were broadcast live on the Italian radio and TV channel RTL 102.5. The wedding took place in Noto, Sicily on September 1, 2018. She and Fedez have one son together, Leone (born March 19, 2018). They live', 'dpr_score': 75.49678802490234, 'dpr_docid': '17730028', 'rank': 3, 'parsed_dates': [{'date': '2015-07-01', 'year': 2015, 'month': '07', 'day': '01'}, {'date': '2015-07-01', 'year': 2015, 'month': '07', 'day': '01'}, {'date': '2017-05-06', 'year': 2017, 'month': '05', 'day': '06'}, {'date': '2018-09-01', 'year': 2018, 'month': '09', 'day': '01'}, {'date': '2018-03-19', 'year': 2018, 'month': '03', 'day': '19'}], 'prov': 'day', 'matched': True}], 'precision': '11', 'spacy_matched': True}\n"
     ]
    }
   ],
   "source": [
    "filter_matched_answers('../data/dpr-post-process-filtered-matched.jl', \n",
    "                       '../data/dpr-post-process-filtered-matched-gt.json')"
   ]
  },
  {
   "cell_type": "markdown",
   "id": "ba5f4994-858a-43bc-8bf3-42bb902ee71c",
   "metadata": {},
   "source": [
    "wikidata precision meaning\n",
    "\n",
    " - 14 second\n",
    " - 13 minute\n",
    " - 12 hour\n",
    " - 11 day\n",
    " - 10 month\n",
    " - 9 year\n",
    " - 8 decade\n",
    " - 7 century\n",
    " - 6 millenium\n",
    " - 4 hundred thousand years\n",
    " - 3 million years\n",
    " - 0 billion years\n",
    "\n",
    "\n",
    "distribution of precision in wikidata marriage time qualifier dates:\n",
    "{'11': 35604, '10': 2222, '9': 30256, '8': 76, '5': 2, '7': 4}"
   ]
  },
  {
   "cell_type": "code",
   "execution_count": 62,
   "id": "4cf9c809-6357-4702-9166-8c73a1fabdd0",
   "metadata": {},
   "outputs": [],
   "source": [
    "gt_questions = json.load(open('../data/dpr-post-process-filtered-matched-gt.json'))"
   ]
  },
  {
   "cell_type": "code",
   "execution_count": 52,
   "id": "124a7fd7-7a4e-447e-8f0f-972b4868a222",
   "metadata": {},
   "outputs": [],
   "source": [
    "len_distribution = {}\n",
    "rank_distribution = {}\n",
    "prov_distribution = {}\n",
    "for gq in gt_questions:\n",
    "    answers = gq['matched_dpr_answers']\n",
    "    la = len(answers)\n",
    "    # if rank == 100:\n",
    "    #     pretty_print_json(gq)\n",
    "    if la not in len_distribution:\n",
    "        len_distribution[la] = 0\n",
    "    len_distribution[la] += 1\n",
    "    for a in answers:\n",
    "        # if a['rank'] == 100:\n",
    "            # pretty_print_json(gq)\n",
    "        rank = a['rank']\n",
    "        if rank  not in rank_distribution:\n",
    "            rank_distribution[rank] = 0\n",
    "        rank_distribution[rank] += 1\n",
    "        if a['prov']  not in prov_distribution:\n",
    "            prov_distribution[a['prov']] = 0\n",
    "        prov_distribution[a['prov']] += 1"
   ]
  },
  {
   "cell_type": "code",
   "execution_count": 53,
   "id": "b5c14d61-35ec-4443-af00-df39f189e1b0",
   "metadata": {},
   "outputs": [
    {
     "name": "stdout",
     "output_type": "stream",
     "text": [
      "{25: 78, 1: 4184, 4: 760, 17: 120, 8: 316, 2: 1900, 35: 56, 34: 60, 42: 48, 3: 1096, 12: 214, 5: 560, 23: 107, 20: 116, 18: 125, 47: 38, 38: 56, 9: 256, 7: 377, 37: 64, 10: 233, 52: 23, 30: 51, 16: 139, 44: 36, 6: 455, 73: 31, 69: 27, 33: 61, 21: 94, 49: 37, 91: 35, 11: 206, 57: 48, 92: 18, 29: 73, 22: 86, 26: 79, 19: 124, 28: 75, 61: 30, 31: 59, 98: 19, 68: 32, 100: 16, 51: 39, 14: 151, 15: 159, 66: 23, 59: 35, 27: 76, 67: 19, 76: 27, 95: 31, 32: 68, 93: 18, 71: 23, 40: 52, 43: 45, 53: 34, 55: 49, 77: 30, 64: 44, 96: 25, 36: 50, 13: 162, 90: 30, 72: 26, 45: 47, 70: 35, 65: 17, 62: 28, 50: 32, 46: 34, 58: 36, 83: 16, 81: 20, 24: 72, 56: 25, 60: 40, 75: 33, 87: 33, 63: 28, 78: 25, 84: 23, 99: 10, 94: 27, 82: 26, 54: 35, 41: 45, 85: 28, 48: 36, 79: 23, 39: 41, 89: 27, 74: 20, 88: 23, 97: 17, 80: 22, 86: 17}\n"
     ]
    }
   ],
   "source": [
    "print(rank_distribution)"
   ]
  },
  {
   "cell_type": "code",
   "execution_count": 22,
   "id": "40f08e9a-29dc-402c-9e55-b3cea3fa8756",
   "metadata": {},
   "outputs": [],
   "source": [
    "rank_df = pds.DataFrame([{'rank': x, 'count': rank_distribution[x]} for x in rank_distribution]).sort_values(by='rank')\n",
    "len_df = pds.DataFrame([{'length': x, 'count': len_distribution[x]} for x in len_distribution]).sort_values(by='length')\n",
    "prov_df = pds.DataFrame([{'precision': x, 'count': prov_distribution[x]} for x in prov_distribution])"
   ]
  },
  {
   "cell_type": "code",
   "execution_count": 23,
   "id": "dcaea31d-9b72-4887-9073-1e3baf79203b",
   "metadata": {},
   "outputs": [
    {
     "data": {
      "text/plain": [
       "<AxesSubplot:xlabel='rank', ylabel='count'>"
      ]
     },
     "execution_count": 23,
     "metadata": {},
     "output_type": "execute_result"
    },
    {
     "data": {
      "image/png": "[encoded data removed]",
      "text/plain": [
       "<Figure size 432x288 with 1 Axes>"
      ]
     },
     "metadata": {
      "needs_background": "light"
     },
     "output_type": "display_data"
    }
   ],
   "source": [
    "rank_df.plot(kind='line', x='rank', y='count', ylabel='count')"
   ]
  },
  {
   "cell_type": "code",
   "execution_count": 24,
   "id": "112c73cb-2a78-44ce-9427-e047faadf918",
   "metadata": {},
   "outputs": [
    {
     "data": {
      "text/plain": [
       "<AxesSubplot:xlabel='length', ylabel='count'>"
      ]
     },
     "execution_count": 24,
     "metadata": {},
     "output_type": "execute_result"
    },
    {
     "data": {
      "image/png": "[encoded data removed]",
      "text/plain": [
       "<Figure size 432x288 with 1 Axes>"
      ]
     },
     "metadata": {
      "needs_background": "light"
     },
     "output_type": "display_data"
    }
   ],
   "source": [
    "len_df.plot(kind='line', x='length', y='count', ylabel='count')"
   ]
  },
  {
   "cell_type": "code",
   "execution_count": 25,
   "id": "4c5e9fbd-06f6-4393-8e81-ef995328ce2c",
   "metadata": {},
   "outputs": [
    {
     "data": {
      "text/plain": [
       "<AxesSubplot:xlabel='precision', ylabel='count'>"
      ]
     },
     "execution_count": 25,
     "metadata": {},
     "output_type": "execute_result"
    },
    {
     "data": {
      "image/png": "[encoded data removed]",
      "text/plain": [
       "<Figure size 432x288 with 1 Axes>"
      ]
     },
     "metadata": {
      "needs_background": "light"
     },
     "output_type": "display_data"
    }
   ],
   "source": [
    "prov_df.plot(kind='bar', x='precision', y='count', ylabel='count')"
   ]
  },
  {
   "cell_type": "code",
   "execution_count": null,
   "id": "3b5533e1-eadd-4289-bcc6-a35bbfac5372",
   "metadata": {},
   "outputs": [],
   "source": [
    "len(filtered_not_matched)"
   ]
  },
  {
   "cell_type": "code",
   "execution_count": 26,
   "id": "021f9bdd-df85-4f03-97b8-5637cf1bed8c",
   "metadata": {},
   "outputs": [
    {
     "data": {
      "text/plain": [
       "4519"
      ]
     },
     "execution_count": 26,
     "metadata": {},
     "output_type": "execute_result"
    }
   ],
   "source": [
    "len(gt_questions)"
   ]
  },
  {
   "cell_type": "code",
   "execution_count": 54,
   "id": "20cdafaa-6df2-4b7a-ab26-b73d14d40be4",
   "metadata": {},
   "outputs": [],
   "source": [
    "annotated_f = open('../data/unified-qa-metrics-annotated.tsv')\n",
    "annotated = {}\n",
    "for line in annotated_f:\n",
    "    vals = line.strip().split('\\t')\n",
    "    answerable = vals[5]\n",
    "    if answerable == 'yes':\n",
    "        annotated[vals[0]] = answerable\n",
    "annotated_f.close()"
   ]
  },
  {
   "cell_type": "code",
   "execution_count": 55,
   "id": "4494dedc-cac7-4ee1-b799-8a699092efa9",
   "metadata": {},
   "outputs": [],
   "source": [
    "gt_d = {}\n",
    "for gt_q in gt_questions:\n",
    "    gt_d[gt_q['q']] = gt_q"
   ]
  },
  {
   "cell_type": "code",
   "execution_count": 56,
   "id": "f210fb05-c738-4ef2-bd72-7b58c0861c66",
   "metadata": {},
   "outputs": [
    {
     "data": {
      "text/plain": [
       "0"
      ]
     },
     "execution_count": 56,
     "metadata": {},
     "output_type": "execute_result"
    }
   ],
   "source": [
    "c = 0\n",
    "for a in annotated:\n",
    "    if a not in gt_d:\n",
    "        c+=1\n",
    "        print(a)\n",
    "        \n",
    "c  "
   ]
  },
  {
   "cell_type": "code",
   "execution_count": null,
   "id": "5fdc9595-ef50-42cb-a5a9-f30386887194",
   "metadata": {},
   "outputs": [],
   "source": []
  }
 ],
 "metadata": {
  "kernelspec": {
   "display_name": "python39",
   "language": "python",
   "name": "python39"
  },
  "language_info": {
   "codemirror_mode": {
    "name": "ipython",
    "version": 3
   },
   "file_extension": ".py",
   "mimetype": "text/x-python",
   "name": "python",
   "nbconvert_exporter": "python",
   "pygments_lexer": "ipython3",
   "version": "3.9.12"
  }
 },
 "nbformat": 4,
 "nbformat_minor": 5
}
