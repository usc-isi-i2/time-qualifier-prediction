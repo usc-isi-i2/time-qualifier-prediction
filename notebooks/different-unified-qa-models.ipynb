{
 "cells": [
  {
   "cell_type": "code",
   "execution_count": 112,
   "id": "8a014ddc-0c01-4514-8fb6-4fc136abce03",
   "metadata": {},
   "outputs": [],
   "source": [
    "import json\n",
    "from transformers import T5Tokenizer, T5ForConditionalGeneration\n",
    "import spacy\n",
    "from utils import run_model, match_dates_based_on_precision, parse_date\n",
    "import pandas as pd"
   ]
  },
  {
   "cell_type": "code",
   "execution_count": 113,
   "id": "9acb9c0f-0778-4a36-8289-4c90a3033f5d",
   "metadata": {},
   "outputs": [],
   "source": [
    "nlp = spacy.load('en_core_web_trf')"
   ]
  },
  {
   "cell_type": "code",
   "execution_count": 114,
   "id": "6ebdf79e-0588-4f42-be40-74ee3538d837",
   "metadata": {},
   "outputs": [],
   "source": [
    "base_model_v2 = 'allenai/unifiedqa-v2-t5-base-1251000'\n",
    "large_model_v2  = 'allenai/unifiedqa-v2-t5-large-1251000'\n",
    "threeb_model_v2 = 'allenai/unifiedqa-v2-t5-3b-1251000'"
   ]
  },
  {
   "cell_type": "code",
   "execution_count": 115,
   "id": "42e40607-0246-483c-863b-a2f2c30cb96d",
   "metadata": {},
   "outputs": [],
   "source": [
    "base_tokenizer = T5Tokenizer.from_pretrained(base_model_v2)\n",
    "base_model = T5ForConditionalGeneration.from_pretrained(base_model_v2)"
   ]
  },
  {
   "cell_type": "code",
   "execution_count": 116,
   "id": "d98baf9b-cb59-4bbe-b629-ca0552c46759",
   "metadata": {},
   "outputs": [],
   "source": [
    "large_tokenizer = T5Tokenizer.from_pretrained(large_model_v2)\n",
    "large_model = T5ForConditionalGeneration.from_pretrained(large_model_v2)"
   ]
  },
  {
   "cell_type": "code",
   "execution_count": 117,
   "id": "7a987d86-335c-4308-ae56-00e74de38f7d",
   "metadata": {},
   "outputs": [],
   "source": [
    "threeb_tokenizer = T5Tokenizer.from_pretrained(threeb_model_v2)\n",
    "threeb_model = T5ForConditionalGeneration.from_pretrained(threeb_model_v2)"
   ]
  },
  {
   "cell_type": "code",
   "execution_count": 118,
   "id": "4de732ce-3097-4ea5-af56-b49280cfbd2a",
   "metadata": {},
   "outputs": [
    {
     "data": {
      "text/plain": [
       "100"
      ]
     },
     "execution_count": 118,
     "metadata": {},
     "output_type": "execute_result"
    }
   ],
   "source": [
    "annotated_df = pd.read_csv('../data/questions-for-annotation-annotated.csv')\n",
    "len(annotated_df)"
   ]
  },
  {
   "cell_type": "code",
   "execution_count": 119,
   "id": "2fec11c8-05a3-4685-b86e-2d8bd6eec5b5",
   "metadata": {},
   "outputs": [],
   "source": [
    "def run_unified_qa(annotated_df):\n",
    "    out = []\n",
    "    for question,answer,precision,dpr_answer,answerable,rank,filtered_rank in zip(annotated_df['question'],\n",
    "                                                                                 annotated_df['answer'],\n",
    "                                                                                 annotated_df['precision'],\n",
    "                                                                                 annotated_df['dpr_answer'],\n",
    "                                                                                 annotated_df['answerable'],\n",
    "                                                                                 annotated_df['rank'],\n",
    "                                                                                 annotated_df['filtered_rank']):\n",
    "        r = { \n",
    "            'question': question,\n",
    "            'answer': answer,\n",
    "            'precision': precision,\n",
    "            'dpr_answer': dpr_answer,\n",
    "            'answerable': answerable,\n",
    "            'rank': rank,\n",
    "            'filtered_rank': filtered_rank\n",
    "             \n",
    "        }\n",
    "        unified_qa_string = f\"{question}\\n{dpr_answer}\"\n",
    "        base_answer = run_model(unified_qa_string, base_tokenizer, base_model)\n",
    "        r['base_answer'] = base_answer[0]\n",
    "        base_parsed_date =parse_date(base_answer[0], nlp)\n",
    "        if len(base_parsed_date) > 0:\n",
    "            base_matched, base_prov = match_dates_based_on_precision(answer, precision, base_parsed_date[0])\n",
    "            r['base_matched'] = base_matched\n",
    "        else:\n",
    "            r['base_matched'] = False\n",
    "            \n",
    "        large_answer = run_model(unified_qa_string, large_tokenizer, large_model)\n",
    "        r['large_answer'] = large_answer[0]\n",
    "        large_parsed_date =parse_date(large_answer[0], nlp)\n",
    "        if len(large_parsed_date) > 0:\n",
    "            large_matched, large_prov = match_dates_based_on_precision(answer, precision, large_parsed_date[0])\n",
    "            r['large_matched'] = large_matched\n",
    "        else:\n",
    "            r['large_matched'] = False\n",
    "            \n",
    "        threeb_answer = run_model(unified_qa_string, threeb_tokenizer, threeb_model)\n",
    "        r['threeb_answer'] = threeb_answer[0]\n",
    "        threeb_parsed_date =parse_date(threeb_answer[0], nlp)\n",
    "        if len(threeb_parsed_date) > 0:\n",
    "            threeb_matched, threeb_prov = match_dates_based_on_precision(answer, precision, threeb_parsed_date[0])\n",
    "            r['threeb_matched'] = threeb_matched\n",
    "        else:\n",
    "            r['threeb_matched'] = False\n",
    "        out.append(r)\n",
    "            \n",
    "    return pd.DataFrame(out)"
   ]
  },
  {
   "cell_type": "code",
   "execution_count": 120,
   "id": "73f50b3a-27bc-4deb-bb16-d55a60c06c29",
   "metadata": {},
   "outputs": [
    {
     "name": "stderr",
     "output_type": "stream",
     "text": [
      "/nas/home/amandeep/miniconda3/envs/python3/lib/python3.9/site-packages/torch/autocast_mode.py:162: UserWarning: User provided device_type of 'cuda', but CUDA is not available. Disabling\n",
      "  warnings.warn('User provided device_type of \\'cuda\\', but CUDA is not available. Disabling')\n",
      "/nas/home/amandeep/miniconda3/envs/python3/lib/python3.9/site-packages/dateparser/date_parser.py:35: PytzUsageWarning: The localize method is no longer necessary, as this time zone supports the fold attribute (PEP 495). For more details on migrating to a PEP 495-compliant implementation, see https://pytz-deprecation-shim.readthedocs.io/en/latest/migration.html\n",
      "  date_obj = stz.localize(date_obj)\n"
     ]
    }
   ],
   "source": [
    "ans_df = run_unified_qa(annotated_df)"
   ]
  },
  {
   "cell_type": "code",
   "execution_count": 121,
   "id": "682bef7c-9b25-454e-b327-37bcf508325d",
   "metadata": {},
   "outputs": [
    {
     "data": {
      "text/html": [
       "<div>\n",
       "<style scoped>\n",
       "    .dataframe tbody tr th:only-of-type {\n",
       "        vertical-align: middle;\n",
       "    }\n",
       "\n",
       "    .dataframe tbody tr th {\n",
       "        vertical-align: top;\n",
       "    }\n",
       "\n",
       "    .dataframe thead th {\n",
       "        text-align: right;\n",
       "    }\n",
       "</style>\n",
       "<table border=\"1\" class=\"dataframe\">\n",
       "  <thead>\n",
       "    <tr style=\"text-align: right;\">\n",
       "      <th></th>\n",
       "      <th>question</th>\n",
       "      <th>answer</th>\n",
       "      <th>precision</th>\n",
       "      <th>dpr_answer</th>\n",
       "      <th>answerable</th>\n",
       "      <th>rank</th>\n",
       "      <th>filtered_rank</th>\n",
       "      <th>base_answer</th>\n",
       "      <th>base_matched</th>\n",
       "      <th>large_answer</th>\n",
       "      <th>large_matched</th>\n",
       "      <th>threeb_answer</th>\n",
       "      <th>threeb_matched</th>\n",
       "    </tr>\n",
       "  </thead>\n",
       "  <tbody>\n",
       "    <tr>\n",
       "      <th>0</th>\n",
       "      <td>when did Tommy Dorsey marry Patricia?</td>\n",
       "      <td>1943-01-01</td>\n",
       "      <td>year</td>\n",
       "      <td>Tommy Dorsey New Jersey. They divorced in 1943...</td>\n",
       "      <td>yes</td>\n",
       "      <td>1</td>\n",
       "      <td>1</td>\n",
       "      <td>1943</td>\n",
       "      <td>True</td>\n",
       "      <td>1943</td>\n",
       "      <td>True</td>\n",
       "      <td>1943</td>\n",
       "      <td>True</td>\n",
       "    </tr>\n",
       "    <tr>\n",
       "      <th>1</th>\n",
       "      <td>when did Edward Everett Hale marry Emily Baldwin?</td>\n",
       "      <td>1852-01-01</td>\n",
       "      <td>year</td>\n",
       "      <td>Edward Everett Hale Unity in Worcester, Massac...</td>\n",
       "      <td>yes</td>\n",
       "      <td>1</td>\n",
       "      <td>1</td>\n",
       "      <td>1852</td>\n",
       "      <td>True</td>\n",
       "      <td>1852</td>\n",
       "      <td>True</td>\n",
       "      <td>1852</td>\n",
       "      <td>True</td>\n",
       "    </tr>\n",
       "    <tr>\n",
       "      <th>2</th>\n",
       "      <td>when did Denys Rhodes marry Margaret?</td>\n",
       "      <td>1950-07-31</td>\n",
       "      <td>day</td>\n",
       "      <td>Denys Rhodes Rhodes. Rhodes served in the Seco...</td>\n",
       "      <td>yes</td>\n",
       "      <td>24</td>\n",
       "      <td>1</td>\n",
       "      <td>31 July 1950</td>\n",
       "      <td>True</td>\n",
       "      <td>31 July 1950</td>\n",
       "      <td>True</td>\n",
       "      <td>31 July 1950</td>\n",
       "      <td>True</td>\n",
       "    </tr>\n",
       "    <tr>\n",
       "      <th>3</th>\n",
       "      <td>when did Ronald Tree marry Marietta Peabody?</td>\n",
       "      <td>1947-01-01</td>\n",
       "      <td>year</td>\n",
       "      <td>Ronald Tree improved, notably including coveri...</td>\n",
       "      <td>yes</td>\n",
       "      <td>3</td>\n",
       "      <td>1</td>\n",
       "      <td>1946</td>\n",
       "      <td>False</td>\n",
       "      <td>1946</td>\n",
       "      <td>False</td>\n",
       "      <td>1947</td>\n",
       "      <td>True</td>\n",
       "    </tr>\n",
       "    <tr>\n",
       "      <th>4</th>\n",
       "      <td>when did Francis Jeune, 1st Baron St Helier ma...</td>\n",
       "      <td>1881-08-17</td>\n",
       "      <td>day</td>\n",
       "      <td>Francis Jeune, 1st Baron St Helier Bath (KCB)....</td>\n",
       "      <td>yes</td>\n",
       "      <td>1</td>\n",
       "      <td>1</td>\n",
       "      <td>1881</td>\n",
       "      <td>False</td>\n",
       "      <td>1891</td>\n",
       "      <td>False</td>\n",
       "      <td>1897</td>\n",
       "      <td>False</td>\n",
       "    </tr>\n",
       "    <tr>\n",
       "      <th>...</th>\n",
       "      <td>...</td>\n",
       "      <td>...</td>\n",
       "      <td>...</td>\n",
       "      <td>...</td>\n",
       "      <td>...</td>\n",
       "      <td>...</td>\n",
       "      <td>...</td>\n",
       "      <td>...</td>\n",
       "      <td>...</td>\n",
       "      <td>...</td>\n",
       "      <td>...</td>\n",
       "      <td>...</td>\n",
       "      <td>...</td>\n",
       "    </tr>\n",
       "    <tr>\n",
       "      <th>95</th>\n",
       "      <td>when did John Dewar, 1st Baron Forteviot marry...</td>\n",
       "      <td>1884-06-24</td>\n",
       "      <td>day</td>\n",
       "      <td>John Dewar, 1st Baron Forteviot John Dewar, 1s...</td>\n",
       "      <td>yes</td>\n",
       "      <td>33</td>\n",
       "      <td>1</td>\n",
       "      <td>24 June 1884</td>\n",
       "      <td>True</td>\n",
       "      <td>24 June 1884</td>\n",
       "      <td>True</td>\n",
       "      <td>24 June 1884</td>\n",
       "      <td>True</td>\n",
       "    </tr>\n",
       "    <tr>\n",
       "      <th>96</th>\n",
       "      <td>when did Doutzen Kroes marry Sunnery James?</td>\n",
       "      <td>2010-01-01</td>\n",
       "      <td>year</td>\n",
       "      <td>Doutzen Kroes is actively involved with the no...</td>\n",
       "      <td>yes</td>\n",
       "      <td>85</td>\n",
       "      <td>1</td>\n",
       "      <td>Eastermar</td>\n",
       "      <td>False</td>\n",
       "      <td>2010</td>\n",
       "      <td>True</td>\n",
       "      <td>7 November 2010</td>\n",
       "      <td>True</td>\n",
       "    </tr>\n",
       "    <tr>\n",
       "      <th>97</th>\n",
       "      <td>when did Mary Eccles, Viscountess Eccles marry...</td>\n",
       "      <td>1939-01-01</td>\n",
       "      <td>year</td>\n",
       "      <td>Mary Eccles, Viscountess Eccles in 1992. Eccle...</td>\n",
       "      <td>yes</td>\n",
       "      <td>16</td>\n",
       "      <td>1</td>\n",
       "      <td>1939</td>\n",
       "      <td>True</td>\n",
       "      <td>1939</td>\n",
       "      <td>True</td>\n",
       "      <td>1939</td>\n",
       "      <td>True</td>\n",
       "    </tr>\n",
       "    <tr>\n",
       "      <th>98</th>\n",
       "      <td>when did Carol Wayne marry Burt?</td>\n",
       "      <td>1975-01-01</td>\n",
       "      <td>year</td>\n",
       "      <td>Carol Wayne Heartbreakers. In January 1984, Wa...</td>\n",
       "      <td>yes</td>\n",
       "      <td>2</td>\n",
       "      <td>1</td>\n",
       "      <td>1975</td>\n",
       "      <td>True</td>\n",
       "      <td>1975</td>\n",
       "      <td>True</td>\n",
       "      <td>1975</td>\n",
       "      <td>True</td>\n",
       "    </tr>\n",
       "    <tr>\n",
       "      <th>99</th>\n",
       "      <td>when did Ava Gardner marry Mickey?</td>\n",
       "      <td>1942-01-10</td>\n",
       "      <td>day</td>\n",
       "      <td>Ava Gardner Knots Landing (both 1985). Soon af...</td>\n",
       "      <td>yes</td>\n",
       "      <td>2</td>\n",
       "      <td>1</td>\n",
       "      <td>1941</td>\n",
       "      <td>False</td>\n",
       "      <td>1942</td>\n",
       "      <td>False</td>\n",
       "      <td>1942</td>\n",
       "      <td>False</td>\n",
       "    </tr>\n",
       "  </tbody>\n",
       "</table>\n",
       "<p>100 rows × 13 columns</p>\n",
       "</div>"
      ],
      "text/plain": [
       "                                             question      answer precision  \\\n",
       "0               when did Tommy Dorsey marry Patricia?  1943-01-01      year   \n",
       "1   when did Edward Everett Hale marry Emily Baldwin?  1852-01-01      year   \n",
       "2               when did Denys Rhodes marry Margaret?  1950-07-31       day   \n",
       "3        when did Ronald Tree marry Marietta Peabody?  1947-01-01      year   \n",
       "4   when did Francis Jeune, 1st Baron St Helier ma...  1881-08-17       day   \n",
       "..                                                ...         ...       ...   \n",
       "95  when did John Dewar, 1st Baron Forteviot marry...  1884-06-24       day   \n",
       "96        when did Doutzen Kroes marry Sunnery James?  2010-01-01      year   \n",
       "97  when did Mary Eccles, Viscountess Eccles marry...  1939-01-01      year   \n",
       "98                   when did Carol Wayne marry Burt?  1975-01-01      year   \n",
       "99                 when did Ava Gardner marry Mickey?  1942-01-10       day   \n",
       "\n",
       "                                           dpr_answer answerable  rank  \\\n",
       "0   Tommy Dorsey New Jersey. They divorced in 1943...        yes     1   \n",
       "1   Edward Everett Hale Unity in Worcester, Massac...        yes     1   \n",
       "2   Denys Rhodes Rhodes. Rhodes served in the Seco...        yes    24   \n",
       "3   Ronald Tree improved, notably including coveri...        yes     3   \n",
       "4   Francis Jeune, 1st Baron St Helier Bath (KCB)....        yes     1   \n",
       "..                                                ...        ...   ...   \n",
       "95  John Dewar, 1st Baron Forteviot John Dewar, 1s...        yes    33   \n",
       "96  Doutzen Kroes is actively involved with the no...        yes    85   \n",
       "97  Mary Eccles, Viscountess Eccles in 1992. Eccle...        yes    16   \n",
       "98  Carol Wayne Heartbreakers. In January 1984, Wa...        yes     2   \n",
       "99  Ava Gardner Knots Landing (both 1985). Soon af...        yes     2   \n",
       "\n",
       "    filtered_rank   base_answer  base_matched  large_answer  large_matched  \\\n",
       "0               1          1943          True          1943           True   \n",
       "1               1          1852          True          1852           True   \n",
       "2               1  31 July 1950          True  31 July 1950           True   \n",
       "3               1          1946         False          1946          False   \n",
       "4               1          1881         False          1891          False   \n",
       "..            ...           ...           ...           ...            ...   \n",
       "95              1  24 June 1884          True  24 June 1884           True   \n",
       "96              1     Eastermar         False          2010           True   \n",
       "97              1          1939          True          1939           True   \n",
       "98              1          1975          True          1975           True   \n",
       "99              1          1941         False          1942          False   \n",
       "\n",
       "      threeb_answer  threeb_matched  \n",
       "0              1943            True  \n",
       "1              1852            True  \n",
       "2      31 July 1950            True  \n",
       "3              1947            True  \n",
       "4              1897           False  \n",
       "..              ...             ...  \n",
       "95     24 June 1884            True  \n",
       "96  7 November 2010            True  \n",
       "97             1939            True  \n",
       "98             1975            True  \n",
       "99             1942           False  \n",
       "\n",
       "[100 rows x 13 columns]"
      ]
     },
     "execution_count": 121,
     "metadata": {},
     "output_type": "execute_result"
    }
   ],
   "source": [
    "ans_df"
   ]
  },
  {
   "cell_type": "code",
   "execution_count": 150,
   "id": "3b9b2aa3-7a80-4464-ae5a-df07c3e3ca99",
   "metadata": {},
   "outputs": [
    {
     "data": {
      "text/plain": [
       "0.8117647058823529"
      ]
     },
     "execution_count": 150,
     "metadata": {},
     "output_type": "execute_result"
    }
   ],
   "source": [
    "len(ans_df[(ans_df['base_matched'] == True) & (ans_df['answerable'] == 'yes')]) / len(ans_df[ans_df['answerable'] == 'yes'])"
   ]
  },
  {
   "cell_type": "code",
   "execution_count": 151,
   "id": "2d05ab05-a205-41b3-b17b-05ab27b4f6ce",
   "metadata": {},
   "outputs": [
    {
     "data": {
      "text/plain": [
       "0.8"
      ]
     },
     "execution_count": 151,
     "metadata": {},
     "output_type": "execute_result"
    }
   ],
   "source": [
    "len(ans_df[(ans_df['large_matched'] == True) & (ans_df['answerable'] == 'yes')]) / len(ans_df[ans_df['answerable'] == 'yes'])"
   ]
  },
  {
   "cell_type": "code",
   "execution_count": 152,
   "id": "d83c3dd7-2b78-4519-a709-feed05045bfb",
   "metadata": {},
   "outputs": [
    {
     "data": {
      "text/plain": [
       "0.9176470588235294"
      ]
     },
     "execution_count": 152,
     "metadata": {},
     "output_type": "execute_result"
    }
   ],
   "source": [
    "len(ans_df[(ans_df['threeb_matched'] == True) & (ans_df['answerable'] == 'yes')]) / len(ans_df[ans_df['answerable'] == 'yes'])"
   ]
  },
  {
   "cell_type": "code",
   "execution_count": 125,
   "id": "1cbc449c-d8c8-409f-80e2-8202e95ce6bf",
   "metadata": {},
   "outputs": [],
   "source": [
    "ans_df.to_csv('../data/questions-for-annotation-annotated-unified-qa.csv', index=False)"
   ]
  },
  {
   "cell_type": "code",
   "execution_count": 126,
   "id": "0a0ed18a-1ff6-479d-a409-e0663d810bfe",
   "metadata": {},
   "outputs": [
    {
     "data": {
      "text/plain": [
       "year     59\n",
       "day      37\n",
       "month     4\n",
       "Name: precision, dtype: int64"
      ]
     },
     "execution_count": 126,
     "metadata": {},
     "output_type": "execute_result"
    }
   ],
   "source": [
    "ans_df['precision'].value_counts()"
   ]
  },
  {
   "cell_type": "code",
   "execution_count": 127,
   "id": "3ad8227a-f5de-4bca-8406-75bb61287e91",
   "metadata": {},
   "outputs": [
    {
     "data": {
      "text/plain": [
       "yes    85\n",
       "no     15\n",
       "Name: answerable, dtype: int64"
      ]
     },
     "execution_count": 127,
     "metadata": {},
     "output_type": "execute_result"
    }
   ],
   "source": [
    "ans_df['answerable'].value_counts()"
   ]
  },
  {
   "cell_type": "code",
   "execution_count": 128,
   "id": "29516cd3-61de-4e28-9024-461f85e8cd1f",
   "metadata": {},
   "outputs": [],
   "source": [
    "annotated_df = pd.read_csv('../data/questions-for-annotation-annotated-unified-qa.csv')"
   ]
  },
  {
   "cell_type": "code",
   "execution_count": 129,
   "id": "40ef207d-371f-411a-b198-e00d3effeb98",
   "metadata": {},
   "outputs": [
    {
     "data": {
      "text/plain": [
       "100"
      ]
     },
     "execution_count": 129,
     "metadata": {},
     "output_type": "execute_result"
    }
   ],
   "source": [
    "len(annotated_df)"
   ]
  },
  {
   "cell_type": "code",
   "execution_count": 130,
   "id": "3d9c30f0-a21a-4d6c-9fd1-d5215cf864a8",
   "metadata": {},
   "outputs": [
    {
     "data": {
      "text/plain": [
       "year     59\n",
       "day      37\n",
       "month     4\n",
       "Name: precision, dtype: int64"
      ]
     },
     "execution_count": 130,
     "metadata": {},
     "output_type": "execute_result"
    }
   ],
   "source": [
    "annotated_df['precision'].value_counts()"
   ]
  },
  {
   "cell_type": "code",
   "execution_count": 131,
   "id": "356abdad-dfb2-4131-a0e7-901af37ace9b",
   "metadata": {},
   "outputs": [
    {
     "data": {
      "text/plain": [
       "yes    85\n",
       "no     15\n",
       "Name: answerable, dtype: int64"
      ]
     },
     "execution_count": 131,
     "metadata": {},
     "output_type": "execute_result"
    }
   ],
   "source": [
    "annotated_df['answerable'].value_counts()"
   ]
  },
  {
   "cell_type": "code",
   "execution_count": 132,
   "id": "e7b4ec08-e2bc-4816-a7d5-d7c7f895d64b",
   "metadata": {},
   "outputs": [],
   "source": [
    "answerable_values = list(annotated_df['answerable'].unique())\n",
    "models = ['base_matched', 'large_matched', 'threeb_matched']"
   ]
  },
  {
   "cell_type": "code",
   "execution_count": 134,
   "id": "6bf15f14-afae-4fb7-9d44-4f7c51c541f4",
   "metadata": {},
   "outputs": [],
   "source": [
    "plot = []\n",
    "for model in models:\n",
    "    for av in answerable_values:\n",
    "        plot.append({'model': model, 'answerable': av, 'matched':True, 'count': len(annotated_df[(annotated_df[model] == True) & (annotated_df['answerable'] == av)])})\n",
    "        plot.append({'model': model, 'answerable': av, 'matched':False, 'count': len(annotated_df[(annotated_df[model] == False) & (annotated_df['answerable'] == av)])})\n",
    "plot_df = pd.DataFrame(plot) "
   ]
  },
  {
   "cell_type": "markdown",
   "id": "09e217cd-dcac-4bd8-b4e5-3b17d9952b82",
   "metadata": {},
   "source": [
    "Answerable keywords:\n",
    "- yes: question is answerable given the dpr answer\n",
    "- no: question is not answerable given the dpr answer\n",
    "- check: question would have been answerable given better sentence splits\n",
    "- interesting: dpr answer is vague about the answer\n",
    "- invalid: question is invalid because of incorrect first name of second qnode\n",
    "- incorrect: dpr answer has wrong information (wikipedia obsolete/incorrect)"
   ]
  },
  {
   "cell_type": "code",
   "execution_count": 135,
   "id": "d9ed648d-4029-4cb4-9b55-18b923ee1099",
   "metadata": {},
   "outputs": [
    {
     "data": {
      "image/png": "[encoded data removed]",
      "text/plain": [
       "<Figure size 720x720 with 1 Axes>"
      ]
     },
     "metadata": {
      "needs_background": "light"
     },
     "output_type": "display_data"
    }
   ],
   "source": [
    "pivot_plot_df = pd.pivot_table(plot_df, \n",
    "                               values='count', \n",
    "                               index=['answerable'],\n",
    "                               columns=[\"model\", \"matched\"])\n",
    "ax = pivot_plot_df.plot(kind=\"bar\", figsize=(10,10))\n",
    "for c in ax.containers:\n",
    "    ax.bar_label(c)"
   ]
  },
  {
   "cell_type": "code",
   "execution_count": 139,
   "id": "38e81afc-942b-4298-8450-49bda9c51a76",
   "metadata": {},
   "outputs": [
    {
     "data": {
      "text/html": [
       "<div>\n",
       "<style scoped>\n",
       "    .dataframe tbody tr th:only-of-type {\n",
       "        vertical-align: middle;\n",
       "    }\n",
       "\n",
       "    .dataframe tbody tr th {\n",
       "        vertical-align: top;\n",
       "    }\n",
       "\n",
       "    .dataframe thead th {\n",
       "        text-align: right;\n",
       "    }\n",
       "</style>\n",
       "<table border=\"1\" class=\"dataframe\">\n",
       "  <thead>\n",
       "    <tr style=\"text-align: right;\">\n",
       "      <th></th>\n",
       "      <th>question</th>\n",
       "      <th>answer</th>\n",
       "      <th>precision</th>\n",
       "      <th>dpr_answer</th>\n",
       "      <th>answerable</th>\n",
       "      <th>rank</th>\n",
       "      <th>filtered_rank</th>\n",
       "      <th>base_answer</th>\n",
       "      <th>base_matched</th>\n",
       "      <th>large_answer</th>\n",
       "      <th>large_matched</th>\n",
       "      <th>threeb_answer</th>\n",
       "      <th>threeb_matched</th>\n",
       "    </tr>\n",
       "  </thead>\n",
       "  <tbody>\n",
       "    <tr>\n",
       "      <th>0</th>\n",
       "      <td>when did Tommy Dorsey marry Patricia?</td>\n",
       "      <td>1943-01-01</td>\n",
       "      <td>year</td>\n",
       "      <td>Tommy Dorsey New Jersey. They divorced in 1943...</td>\n",
       "      <td>yes</td>\n",
       "      <td>1</td>\n",
       "      <td>1</td>\n",
       "      <td>1943</td>\n",
       "      <td>True</td>\n",
       "      <td>1943</td>\n",
       "      <td>True</td>\n",
       "      <td>1943</td>\n",
       "      <td>True</td>\n",
       "    </tr>\n",
       "    <tr>\n",
       "      <th>1</th>\n",
       "      <td>when did Edward Everett Hale marry Emily Baldwin?</td>\n",
       "      <td>1852-01-01</td>\n",
       "      <td>year</td>\n",
       "      <td>Edward Everett Hale Unity in Worcester, Massac...</td>\n",
       "      <td>yes</td>\n",
       "      <td>1</td>\n",
       "      <td>1</td>\n",
       "      <td>1852</td>\n",
       "      <td>True</td>\n",
       "      <td>1852</td>\n",
       "      <td>True</td>\n",
       "      <td>1852</td>\n",
       "      <td>True</td>\n",
       "    </tr>\n",
       "    <tr>\n",
       "      <th>2</th>\n",
       "      <td>when did Denys Rhodes marry Margaret?</td>\n",
       "      <td>1950-07-31</td>\n",
       "      <td>day</td>\n",
       "      <td>Denys Rhodes Rhodes. Rhodes served in the Seco...</td>\n",
       "      <td>yes</td>\n",
       "      <td>24</td>\n",
       "      <td>1</td>\n",
       "      <td>31 July 1950</td>\n",
       "      <td>True</td>\n",
       "      <td>31 July 1950</td>\n",
       "      <td>True</td>\n",
       "      <td>31 July 1950</td>\n",
       "      <td>True</td>\n",
       "    </tr>\n",
       "    <tr>\n",
       "      <th>3</th>\n",
       "      <td>when did Ronald Tree marry Marietta Peabody?</td>\n",
       "      <td>1947-01-01</td>\n",
       "      <td>year</td>\n",
       "      <td>Ronald Tree improved, notably including coveri...</td>\n",
       "      <td>yes</td>\n",
       "      <td>3</td>\n",
       "      <td>1</td>\n",
       "      <td>1946</td>\n",
       "      <td>False</td>\n",
       "      <td>1946</td>\n",
       "      <td>False</td>\n",
       "      <td>1947</td>\n",
       "      <td>True</td>\n",
       "    </tr>\n",
       "    <tr>\n",
       "      <th>4</th>\n",
       "      <td>when did Francis Jeune, 1st Baron St Helier ma...</td>\n",
       "      <td>1881-08-17</td>\n",
       "      <td>day</td>\n",
       "      <td>Francis Jeune, 1st Baron St Helier Bath (KCB)....</td>\n",
       "      <td>yes</td>\n",
       "      <td>1</td>\n",
       "      <td>1</td>\n",
       "      <td>1881</td>\n",
       "      <td>False</td>\n",
       "      <td>1891</td>\n",
       "      <td>False</td>\n",
       "      <td>1897</td>\n",
       "      <td>False</td>\n",
       "    </tr>\n",
       "    <tr>\n",
       "      <th>...</th>\n",
       "      <td>...</td>\n",
       "      <td>...</td>\n",
       "      <td>...</td>\n",
       "      <td>...</td>\n",
       "      <td>...</td>\n",
       "      <td>...</td>\n",
       "      <td>...</td>\n",
       "      <td>...</td>\n",
       "      <td>...</td>\n",
       "      <td>...</td>\n",
       "      <td>...</td>\n",
       "      <td>...</td>\n",
       "      <td>...</td>\n",
       "    </tr>\n",
       "    <tr>\n",
       "      <th>95</th>\n",
       "      <td>when did John Dewar, 1st Baron Forteviot marry...</td>\n",
       "      <td>1884-06-24</td>\n",
       "      <td>day</td>\n",
       "      <td>John Dewar, 1st Baron Forteviot John Dewar, 1s...</td>\n",
       "      <td>yes</td>\n",
       "      <td>33</td>\n",
       "      <td>1</td>\n",
       "      <td>24 June 1884</td>\n",
       "      <td>True</td>\n",
       "      <td>24 June 1884</td>\n",
       "      <td>True</td>\n",
       "      <td>24 June 1884</td>\n",
       "      <td>True</td>\n",
       "    </tr>\n",
       "    <tr>\n",
       "      <th>96</th>\n",
       "      <td>when did Doutzen Kroes marry Sunnery James?</td>\n",
       "      <td>2010-01-01</td>\n",
       "      <td>year</td>\n",
       "      <td>Doutzen Kroes is actively involved with the no...</td>\n",
       "      <td>yes</td>\n",
       "      <td>85</td>\n",
       "      <td>1</td>\n",
       "      <td>Eastermar</td>\n",
       "      <td>False</td>\n",
       "      <td>2010</td>\n",
       "      <td>True</td>\n",
       "      <td>7 November 2010</td>\n",
       "      <td>True</td>\n",
       "    </tr>\n",
       "    <tr>\n",
       "      <th>97</th>\n",
       "      <td>when did Mary Eccles, Viscountess Eccles marry...</td>\n",
       "      <td>1939-01-01</td>\n",
       "      <td>year</td>\n",
       "      <td>Mary Eccles, Viscountess Eccles in 1992. Eccle...</td>\n",
       "      <td>yes</td>\n",
       "      <td>16</td>\n",
       "      <td>1</td>\n",
       "      <td>1939</td>\n",
       "      <td>True</td>\n",
       "      <td>1939</td>\n",
       "      <td>True</td>\n",
       "      <td>1939</td>\n",
       "      <td>True</td>\n",
       "    </tr>\n",
       "    <tr>\n",
       "      <th>98</th>\n",
       "      <td>when did Carol Wayne marry Burt?</td>\n",
       "      <td>1975-01-01</td>\n",
       "      <td>year</td>\n",
       "      <td>Carol Wayne Heartbreakers. In January 1984, Wa...</td>\n",
       "      <td>yes</td>\n",
       "      <td>2</td>\n",
       "      <td>1</td>\n",
       "      <td>1975</td>\n",
       "      <td>True</td>\n",
       "      <td>1975</td>\n",
       "      <td>True</td>\n",
       "      <td>1975</td>\n",
       "      <td>True</td>\n",
       "    </tr>\n",
       "    <tr>\n",
       "      <th>99</th>\n",
       "      <td>when did Ava Gardner marry Mickey?</td>\n",
       "      <td>1942-01-10</td>\n",
       "      <td>day</td>\n",
       "      <td>Ava Gardner Knots Landing (both 1985). Soon af...</td>\n",
       "      <td>yes</td>\n",
       "      <td>2</td>\n",
       "      <td>1</td>\n",
       "      <td>1941</td>\n",
       "      <td>False</td>\n",
       "      <td>1942</td>\n",
       "      <td>False</td>\n",
       "      <td>1942</td>\n",
       "      <td>False</td>\n",
       "    </tr>\n",
       "  </tbody>\n",
       "</table>\n",
       "<p>100 rows × 13 columns</p>\n",
       "</div>"
      ],
      "text/plain": [
       "                                             question      answer precision  \\\n",
       "0               when did Tommy Dorsey marry Patricia?  1943-01-01      year   \n",
       "1   when did Edward Everett Hale marry Emily Baldwin?  1852-01-01      year   \n",
       "2               when did Denys Rhodes marry Margaret?  1950-07-31       day   \n",
       "3        when did Ronald Tree marry Marietta Peabody?  1947-01-01      year   \n",
       "4   when did Francis Jeune, 1st Baron St Helier ma...  1881-08-17       day   \n",
       "..                                                ...         ...       ...   \n",
       "95  when did John Dewar, 1st Baron Forteviot marry...  1884-06-24       day   \n",
       "96        when did Doutzen Kroes marry Sunnery James?  2010-01-01      year   \n",
       "97  when did Mary Eccles, Viscountess Eccles marry...  1939-01-01      year   \n",
       "98                   when did Carol Wayne marry Burt?  1975-01-01      year   \n",
       "99                 when did Ava Gardner marry Mickey?  1942-01-10       day   \n",
       "\n",
       "                                           dpr_answer answerable  rank  \\\n",
       "0   Tommy Dorsey New Jersey. They divorced in 1943...        yes     1   \n",
       "1   Edward Everett Hale Unity in Worcester, Massac...        yes     1   \n",
       "2   Denys Rhodes Rhodes. Rhodes served in the Seco...        yes    24   \n",
       "3   Ronald Tree improved, notably including coveri...        yes     3   \n",
       "4   Francis Jeune, 1st Baron St Helier Bath (KCB)....        yes     1   \n",
       "..                                                ...        ...   ...   \n",
       "95  John Dewar, 1st Baron Forteviot John Dewar, 1s...        yes    33   \n",
       "96  Doutzen Kroes is actively involved with the no...        yes    85   \n",
       "97  Mary Eccles, Viscountess Eccles in 1992. Eccle...        yes    16   \n",
       "98  Carol Wayne Heartbreakers. In January 1984, Wa...        yes     2   \n",
       "99  Ava Gardner Knots Landing (both 1985). Soon af...        yes     2   \n",
       "\n",
       "    filtered_rank   base_answer  base_matched  large_answer  large_matched  \\\n",
       "0               1          1943          True          1943           True   \n",
       "1               1          1852          True          1852           True   \n",
       "2               1  31 July 1950          True  31 July 1950           True   \n",
       "3               1          1946         False          1946          False   \n",
       "4               1          1881         False          1891          False   \n",
       "..            ...           ...           ...           ...            ...   \n",
       "95              1  24 June 1884          True  24 June 1884           True   \n",
       "96              1     Eastermar         False          2010           True   \n",
       "97              1          1939          True          1939           True   \n",
       "98              1          1975          True          1975           True   \n",
       "99              1          1941         False          1942          False   \n",
       "\n",
       "      threeb_answer  threeb_matched  \n",
       "0              1943            True  \n",
       "1              1852            True  \n",
       "2      31 July 1950            True  \n",
       "3              1947            True  \n",
       "4              1897           False  \n",
       "..              ...             ...  \n",
       "95     24 June 1884            True  \n",
       "96  7 November 2010            True  \n",
       "97             1939            True  \n",
       "98             1975            True  \n",
       "99             1942           False  \n",
       "\n",
       "[100 rows x 13 columns]"
      ]
     },
     "execution_count": 139,
     "metadata": {},
     "output_type": "execute_result"
    }
   ],
   "source": [
    "annotated_df"
   ]
  },
  {
   "cell_type": "code",
   "execution_count": 145,
   "id": "f60102e4-0e83-4c93-8ba0-841dde5ed612",
   "metadata": {},
   "outputs": [
    {
     "name": "stdout",
     "output_type": "stream",
     "text": [
      "day\n",
      "month\n",
      "year\n"
     ]
    },
    {
     "data": {
      "image/png": "[encoded data removed]",
      "text/plain": [
       "<Figure size 720x720 with 1 Axes>"
      ]
     },
     "metadata": {
      "needs_background": "light"
     },
     "output_type": "display_data"
    },
    {
     "data": {
      "image/png": "[encoded data removed]",
      "text/plain": [
       "<Figure size 720x720 with 1 Axes>"
      ]
     },
     "metadata": {
      "needs_background": "light"
     },
     "output_type": "display_data"
    },
    {
     "data": {
      "image/png": "[encoded data removed]",
      "text/plain": [
       "<Figure size 720x720 with 1 Axes>"
      ]
     },
     "metadata": {
      "needs_background": "light"
     },
     "output_type": "display_data"
    }
   ],
   "source": [
    "for precision, dff in annotated_df.groupby(by='precision'):\n",
    "    plot = []\n",
    "    for model in models:\n",
    "        for av in answerable_values:\n",
    "            plot.append({'model': model, \n",
    "                     'answerable': av, \n",
    "                     'matched':True, \n",
    "                     'count': len(dff[(dff[model] == True) & (dff['answerable'] == av)])})\n",
    "            plot.append({'model': model, \n",
    "                         'answerable': av, \n",
    "                         'matched':False, \n",
    "                         'count': len(dff[(dff[model] == False) & (dff['answerable'] == av)])})\n",
    "    plot_df_2 = pd.DataFrame(plot)\n",
    "    pivot_plot_df_2 = pd.pivot_table(plot_df_2, \n",
    "                               values='count', \n",
    "                               index=['answerable'],\n",
    "                               columns=[\"model\", \"matched\"])\n",
    "    print(precision)\n",
    "    ax = pivot_plot_df_2.plot(kind=\"bar\", figsize=(10,10))\n",
    "    for c in ax.containers:\n",
    "        ax.bar_label(c)"
   ]
  },
  {
   "cell_type": "code",
   "execution_count": 146,
   "id": "74205348-2ec4-4237-bc16-afaa635478f2",
   "metadata": {},
   "outputs": [
    {
     "data": {
      "text/plain": [
       "year     59\n",
       "day      37\n",
       "month     4\n",
       "Name: precision, dtype: int64"
      ]
     },
     "execution_count": 146,
     "metadata": {},
     "output_type": "execute_result"
    }
   ],
   "source": [
    "annotated_df['precision'].value_counts()"
   ]
  },
  {
   "cell_type": "code",
   "execution_count": 153,
   "id": "0997b344-19c9-40a0-a3c7-fb945a212226",
   "metadata": {},
   "outputs": [
    {
     "data": {
      "text/plain": [
       "0.9176470588235294"
      ]
     },
     "execution_count": 153,
     "metadata": {},
     "output_type": "execute_result"
    }
   ],
   "source": [
    "78/85"
   ]
  },
  {
   "cell_type": "code",
   "execution_count": null,
   "id": "14a094eb-2587-4893-9d63-903d9b1952e9",
   "metadata": {},
   "outputs": [],
   "source": []
  }
 ],
 "metadata": {
  "kernelspec": {
   "display_name": "python39",
   "language": "python",
   "name": "python39"
  },
  "language_info": {
   "codemirror_mode": {
    "name": "ipython",
    "version": 3
   },
   "file_extension": ".py",
   "mimetype": "text/x-python",
   "name": "python",
   "nbconvert_exporter": "python",
   "pygments_lexer": "ipython3",
   "version": "3.9.12"
  }
 },
 "nbformat": 4,
 "nbformat_minor": 5
}
