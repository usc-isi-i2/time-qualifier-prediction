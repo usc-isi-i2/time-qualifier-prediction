{
 "cells": [
  {
   "cell_type": "code",
   "execution_count": 1,
   "id": "8a014ddc-0c01-4514-8fb6-4fc136abce03",
   "metadata": {},
   "outputs": [
    {
     "name": "stderr",
     "output_type": "stream",
     "text": [
      "/nas/home/amandeep/miniconda3/envs/python3/lib/python3.9/site-packages/tqdm/auto.py:22: TqdmWarning: IProgress not found. Please update jupyter and ipywidgets. See https://ipywidgets.readthedocs.io/en/stable/user_install.html\n",
      "  from .autonotebook import tqdm as notebook_tqdm\n"
     ]
    }
   ],
   "source": [
    "import json\n",
    "from transformers import T5Tokenizer, T5ForConditionalGeneration\n",
    "import spacy\n",
    "from utils import run_model, match_dates_based_on_precision, parse_date"
   ]
  },
  {
   "cell_type": "code",
   "execution_count": 2,
   "id": "9acb9c0f-0778-4a36-8289-4c90a3033f5d",
   "metadata": {},
   "outputs": [],
   "source": [
    "nlp = spacy.load('en_core_web_trf')"
   ]
  },
  {
   "cell_type": "code",
   "execution_count": 3,
   "id": "6ebdf79e-0588-4f42-be40-74ee3538d837",
   "metadata": {},
   "outputs": [],
   "source": [
    "base_model_v2 = 'allenai/unifiedqa-v2-t5-base-1251000'\n",
    "large_model_v2  = 'allenai/unifiedqa-v2-t5-large-1251000'\n",
    "threeb_model_v2 = 'allenai/unifiedqa-v2-t5-3b-1251000'"
   ]
  },
  {
   "cell_type": "code",
   "execution_count": 4,
   "id": "42e40607-0246-483c-863b-a2f2c30cb96d",
   "metadata": {},
   "outputs": [],
   "source": [
    "base_tokenizer = T5Tokenizer.from_pretrained(base_model_v2)\n",
    "base_model = T5ForConditionalGeneration.from_pretrained(base_model_v2)"
   ]
  },
  {
   "cell_type": "code",
   "execution_count": 5,
   "id": "d98baf9b-cb59-4bbe-b629-ca0552c46759",
   "metadata": {},
   "outputs": [],
   "source": [
    "large_tokenizer = T5Tokenizer.from_pretrained(large_model_v2)\n",
    "large_model = T5ForConditionalGeneration.from_pretrained(large_model_v2)"
   ]
  },
  {
   "cell_type": "code",
   "execution_count": 6,
   "id": "7a987d86-335c-4308-ae56-00e74de38f7d",
   "metadata": {},
   "outputs": [],
   "source": [
    "threeb_tokenizer = T5Tokenizer.from_pretrained(threeb_model_v2)\n",
    "threeb_model = T5ForConditionalGeneration.from_pretrained(threeb_model_v2)"
   ]
  },
  {
   "cell_type": "code",
   "execution_count": 7,
   "id": "4de732ce-3097-4ea5-af56-b49280cfbd2a",
   "metadata": {},
   "outputs": [],
   "source": [
    "annotated_f = open('../data/unified-qa-metrics-annotated.tsv')\n",
    "annotated = {}\n",
    "for line in annotated_f:\n",
    "    vals = line.strip().split('\\t')\n",
    "    answerable = vals[5]\n",
    "    if answerable == 'yes':\n",
    "        annotated[vals[0]] = vals[3]\n",
    "annotated_f.close()"
   ]
  },
  {
   "cell_type": "code",
   "execution_count": 8,
   "id": "c6c0e406-bb30-4921-aff1-11b5bc0706e7",
   "metadata": {},
   "outputs": [
    {
     "data": {
      "text/plain": [
       "100"
      ]
     },
     "execution_count": 8,
     "metadata": {},
     "output_type": "execute_result"
    }
   ],
   "source": [
    "len(annotated)"
   ]
  },
  {
   "cell_type": "code",
   "execution_count": 48,
   "id": "2c5168f0-dfca-4d91-b7d8-db36a7ee5c62",
   "metadata": {},
   "outputs": [
    {
     "data": {
      "text/plain": [
       "'Joe Scarborough and they were all around the age of my son or younger. So, something happened in 1989.\"\" In October 2001 Scarborough married his second wife, Susan Waren, a former aide to Florida governor Jeb Bush and a former congressional committee staffer. Their daughter was born in August 2003; their son was born in May 2008. Scarborough and Waren were divorced in January 2013. Scarborough currently resides in New Canaan, Connecticut, an affluent suburb near New York City. In early 2017 during a trip to Antibes, France, he became engaged to his co-host Mika Brzezinski. They married on November 24, 2018'"
      ]
     },
     "execution_count": 57,
     "metadata": {},
     "output_type": "execute_result"
    }
   ],
   "source": [
    "annotated['when did Joe Scarborough marry Mika?']"
   ]
  },
  {
   "cell_type": "code",
   "execution_count": 99,
   "id": "03646a9d-36d2-446f-baf6-f74a25a45878",
   "metadata": {},
   "outputs": [
    {
     "name": "stdout",
     "output_type": "stream",
     "text": [
      "39 100\n"
     ]
    }
   ],
   "source": [
    "unified_f = open('../data/dpr-post-process-unified-qa-matched.jl')\n",
    "c = 0\n",
    "n = 0\n",
    "not_answered = []\n",
    "for line in unified_f:\n",
    "    j = json.loads(line.strip())\n",
    "    mda = j['matched_dpr_answers']\n",
    "    if j['q'] in annotated:\n",
    "        n += 1\n",
    "    dpr_with_answer = []\n",
    "    for ma in mda:\n",
    "        if j['q'] in annotated and not ma['uqa_matched']:\n",
    "            if len(mda) ==1:\n",
    "                c += 1\n",
    "                dpr_with_answer.append(ma)\n",
    "            elif len(mda) > 1:\n",
    "                if ma['dpr_answer'].replace('\\n', ' ').replace('\"', '') == annotated[j['q']]:\n",
    "                    dpr_with_answer.append(ma)\n",
    "    if len(dpr_with_answer) > 0:\n",
    "        j['matched_dpr_answers'] = dpr_with_answer\n",
    "        not_answered.append(j)\n",
    "unified_f.close()\n",
    "print(c, n)"
   ]
  },
  {
   "cell_type": "code",
   "execution_count": 100,
   "id": "655e1b2f-e155-4322-ae4f-bfb5895d6b61",
   "metadata": {},
   "outputs": [
    {
     "data": {
      "text/plain": [
       "40"
      ]
     },
     "execution_count": 100,
     "metadata": {},
     "output_type": "execute_result"
    }
   ],
   "source": [
    "len(not_answered)"
   ]
  },
  {
   "cell_type": "code",
   "execution_count": 105,
   "id": "4a6001a7-2b20-4525-a21b-7c5b3d702598",
   "metadata": {},
   "outputs": [],
   "source": [
    "def run_model_v2(not_answered, tokenizer, model):\n",
    "    new_matches = 0\n",
    "    for na in not_answered:\n",
    "        dpr_a = na['matched_dpr_answers'][0]['dpr_answer'].split('\\n')[1]\n",
    "        prev_a = na['matched_dpr_answers'][0]['unified_qa_answers']\n",
    "        input_string = f\"{na['q']}\\n{dpr_a}\"\n",
    "        ans = run_model(input_string, tokenizer, model)\n",
    "        parsed_date =parse_date(ans[0], nlp)\n",
    "        if len(parsed_date) > 0:\n",
    "            matched, prov = match_dates_based_on_precision(na['a'], na['precision'], parsed_date[0])\n",
    "            if matched:\n",
    "                new_matches += 1\n",
    "                print(na['q'], na['a'], ans, prev_a, matched, prov)\n",
    "    print(new_matches)"
   ]
  },
  {
   "cell_type": "code",
   "execution_count": 106,
   "id": "1323bede-6fcc-4277-b106-aaab423b914a",
   "metadata": {},
   "outputs": [
    {
     "name": "stderr",
     "output_type": "stream",
     "text": [
      "/nas/home/amandeep/miniconda3/envs/python3/lib/python3.9/site-packages/torch/autocast_mode.py:162: UserWarning: User provided device_type of 'cuda', but CUDA is not available. Disabling\n",
      "  warnings.warn('User provided device_type of \\'cuda\\', but CUDA is not available. Disabling')\n",
      "/nas/home/amandeep/miniconda3/envs/python3/lib/python3.9/site-packages/dateparser/date_parser.py:35: PytzUsageWarning: The localize method is no longer necessary, as this time zone supports the fold attribute (PEP 495). For more details on migrating to a PEP 495-compliant implementation, see https://pytz-deprecation-shim.readthedocs.io/en/latest/migration.html\n",
      "  date_obj = stz.localize(date_obj)\n"
     ]
    },
    {
     "name": "stdout",
     "output_type": "stream",
     "text": [
      "when did Joshua Kushner marry Karlie? 2018-10-01 ['October 18, 2018'] ['July 2018, after six years of dating'] True month\n",
      "when did Benedict Cumberbatch marry Sophie Irene? 2015-02-14 ['14 february 2015'] ['15 February 2015'] True day\n",
      "when did Amber Heard marry Johnny? 2015-02-03 ['february 3, 2015'] ['2015'] True day\n",
      "when did Cameron Diaz marry Benji? 2015-01-05 ['January 5, 2015'] ['June 2016.'] True day\n",
      "when did Tatiana Navka marry Dmitry? 2015-01-01 ['2015'] ['2000'] True year\n",
      "when did Hans Heinrich Thyssen-Bornemisza marry Carmen? 1985-08-16 ['16 august 1985'] ['15 August 1985'] True day\n",
      "when did Seiko Matsuda marry Masaki? 1985-01-01 ['1985'] ['1985 to 1997'] True year\n",
      "when did Richard Belzer marry Harlee? 1985-01-01 ['1985'] ['1981'] True year\n",
      "when did John Thaw marry Sheila? 1973-12-24 ['24 December 1973'] ['1974'] True day\n",
      "when did John Smith marry Elizabeth Smith, Baroness Smith of? 1967-07-05 ['5 July 1967'] ['1995'] True day\n",
      "when did Thomas Beecham, 2nd Baronet marry Shirley Jean? 1959-08-10 ['10 august 1959'] ['1958.'] True day\n",
      "when did Meena Kumari marry Kamal? 1952-02-14 ['14 february 1952'] ['1952'] True day\n",
      "when did Gerald Durrell marry Jacquie? 1951-02-26 ['26 february 1951'] ['1951'] True day\n",
      "when did Isadora Duncan marry Sergei? 1922-05-02 ['may 2, 1922'] ['1922'] True day\n",
      "14\n"
     ]
    }
   ],
   "source": [
    "run_model_v2(not_answered, base_tokenizer, base_model)"
   ]
  },
  {
   "cell_type": "code",
   "execution_count": 107,
   "id": "6020dd3a-b5eb-45f1-aa48-1b05c544c09b",
   "metadata": {},
   "outputs": [
    {
     "name": "stderr",
     "output_type": "stream",
     "text": [
      "/nas/home/amandeep/miniconda3/envs/python3/lib/python3.9/site-packages/torch/autocast_mode.py:162: UserWarning: User provided device_type of 'cuda', but CUDA is not available. Disabling\n",
      "  warnings.warn('User provided device_type of \\'cuda\\', but CUDA is not available. Disabling')\n",
      "/nas/home/amandeep/miniconda3/envs/python3/lib/python3.9/site-packages/dateparser/date_parser.py:35: PytzUsageWarning: The localize method is no longer necessary, as this time zone supports the fold attribute (PEP 495). For more details on migrating to a PEP 495-compliant implementation, see https://pytz-deprecation-shim.readthedocs.io/en/latest/migration.html\n",
      "  date_obj = stz.localize(date_obj)\n"
     ]
    },
    {
     "name": "stdout",
     "output_type": "stream",
     "text": [
      "when did Joshua Kushner marry Karlie? 2018-10-01 ['October 18, 2018'] ['July 2018, after six years of dating'] True month\n",
      "when did Chiara Ferragni marry Fedez? 2018-09-01 ['September 1, 2018'] ['on may 6, 2017 during his concert in Verona'] True day\n",
      "when did Morena Baccarin marry Ben? 2017-06-02 ['June 2, 2017'] ['2017'] True day\n",
      "when did Ashley Hinshaw marry Topher? 2016-05-29 ['may 29, 2016'] ['2015'] True day\n",
      "when did Benedict Cumberbatch marry Sophie Irene? 2015-02-14 ['14 february 2015'] ['15 February 2015'] True day\n",
      "when did Jay Chou marry Hannah? 2015-01-01 ['2015'] ['December 2014'] True year\n",
      "when did Tatiana Navka marry Dmitry? 2015-01-01 ['2015'] ['2000'] True year\n",
      "when did Hans Heinrich Thyssen-Bornemisza marry Carmen? 1985-08-16 ['16 august 1985'] ['15 August 1985'] True day\n",
      "when did Seiko Matsuda marry Masaki? 1985-01-01 ['1985'] ['1985 to 1997'] True year\n",
      "when did Richard Belzer marry Harlee? 1985-01-01 ['1985'] ['1981'] True year\n",
      "when did Richard Hell marry Patty? 1985-01-01 ['1985'] ['1985–86'] True year\n",
      "when did Angie Best marry George? 1978-01-24 ['24 January 1978'] ['1978'] True day\n",
      "when did John Thaw marry Sheila? 1973-12-24 ['24 December 1973'] ['1974'] True day\n",
      "when did Michael-Benedikt of Saxe-Weimar-Eisenach marry Renate? 1970-07-04 ['4 July 1970'] ['9 June 1970'] True day\n",
      "when did Liza Minnelli marry Peter? 1967-03-03 ['March 3, 1967.'] ['September 1996'] True day\n",
      "when did Pamela Harriman marry Leland? 1960-05-04 ['4 may 1960'] ['1959'] True day\n",
      "when did John Dalrymple, 13th Earl of Stair marry Davina? 1960-01-14 ['14 January 1960'] ['2 May 1930-1 November 2017'] True day\n",
      "when did Thomas Beecham, 2nd Baronet marry Shirley Jean? 1959-08-10 ['10 august 1959'] ['1958.'] True day\n",
      "when did Miriam Bienstock marry Freddy? 1957-01-01 ['1957'] ['1958'] True year\n",
      "when did Meena Kumari marry Kamal? 1952-02-14 ['14 february 1952'] ['1952'] True day\n",
      "20\n"
     ]
    }
   ],
   "source": [
    "run_model_v2(not_answered, large_tokenizer, large_model)"
   ]
  },
  {
   "cell_type": "code",
   "execution_count": 111,
   "id": "56ccc554-ff86-48e2-9e71-66b9274fd268",
   "metadata": {},
   "outputs": [
    {
     "name": "stdout",
     "output_type": "stream",
     "text": [
      "when did Joe Scarborough marry Mika? 2018-11-24 ['November 24, 2018'] ['1989'] True day\n",
      "when did Joshua Kushner marry Karlie? 2018-10-01 ['October 18, 2018'] ['July 2018, after six years of dating'] True month\n",
      "when did Morena Baccarin marry Ben? 2017-06-02 ['June 2, 2017'] ['2017'] True day\n",
      "when did Ashley Hinshaw marry Topher? 2016-05-29 ['may 29, 2016'] ['2015'] True day\n",
      "when did Benedict Cumberbatch marry Sophie Irene? 2015-02-14 ['14 February 2015'] ['15 February 2015'] True day\n",
      "when did Amber Heard marry Johnny? 2015-02-03 ['february 3, 2015'] ['2015'] True day\n",
      "when did Jay Chou marry Hannah? 2015-01-01 ['17 January 2015'] ['December 2014'] True year\n",
      "when did Hannah Quinlivan marry Jay? 2015-01-01 ['17 January 2015'] ['December 2014.'] True year\n",
      "when did Tatiana Navka marry Dmitry? 2015-01-01 ['2015'] ['2000'] True year\n",
      "when did Guillaume, Hereditary Grand Duke of Luxembourg marry Stéphanie, Hereditary Grand Duchess of? 2012-10-19 ['19 October 2012'] ['26 April 2012'] True day\n",
      "when did Hans Heinrich Thyssen-Bornemisza marry Carmen? 1985-08-16 ['16 August 1985'] ['15 August 1985'] True day\n",
      "when did Seiko Matsuda marry Masaki? 1985-01-01 ['1985'] ['1985 to 1997'] True year\n",
      "when did Richard Belzer marry Harlee? 1985-01-01 ['1985'] ['1981'] True year\n",
      "when did Richard Hell marry Patty? 1985-01-01 ['1985'] ['1985–86'] True year\n",
      "when did Angie Best marry George? 1978-01-24 ['24 January 1978'] ['1978'] True day\n",
      "when did John Thaw marry Sheila? 1973-12-24 ['24 December 1973'] ['1974'] True day\n",
      "when did Prince Alexander of Serbia marry Princess Barbara, Princess Alexander of? 1973-11-02 ['2 November 1973'] ['28 October 1995'] True day\n",
      "when did Liza Minnelli marry Peter? 1967-03-03 ['march 3, 1967'] ['September 1996'] True day\n",
      "when did Pamela Harriman marry Leland? 1960-05-04 ['4 May 1960'] ['1959'] True day\n",
      "when did John Dalrymple, 13th Earl of Stair marry Davina? 1960-01-14 ['14 January 1960'] ['2 May 1930-1 November 2017'] True day\n",
      "when did Miriam Bienstock marry Freddy? 1957-01-01 ['1957'] ['1958'] True year\n",
      "when did Archduchess Charlotte of Austria marry George, Duke of? 1956-07-21 ['21 July 1956'] ['1956'] True day\n",
      "when did Meena Kumari marry Kamal? 1952-02-14 ['14 February 1952'] ['1952'] True day\n",
      "when did Gloria Guinness marry Loel? 1951-04-07 ['April 7, 1951'] ['1954'] True day\n",
      "when did Gerald Durrell marry Jacquie? 1951-02-26 ['26 February 1951'] ['1951'] True day\n",
      "when did Isadora Duncan marry Sergei? 1922-05-02 ['may 2, 1922'] ['1922'] True day\n",
      "26\n"
     ]
    }
   ],
   "source": [
    "run_model_v2(not_answered, threeb_tokenizer, threeb_model)"
   ]
  },
  {
   "cell_type": "code",
   "execution_count": 9,
   "id": "2fec11c8-05a3-4685-b86e-2d8bd6eec5b5",
   "metadata": {},
   "outputs": [],
   "source": [
    "def run_unified_qa(tokenizer, model):\n",
    "    unified_f = open('../data/dpr-post-process-unified-qa-matched.jl')\n",
    "    new_answered = []\n",
    "    for line in unified_f:\n",
    "        j = json.loads(line.strip())\n",
    "        mda = j['matched_dpr_answers']\n",
    "        for ma in mda:\n",
    "            dpr_a = ma['dpr_answer'].split('\\n')[1]\n",
    "            unified_qa_string = f\"{j['q']}\\n{dpr_a}\"\n",
    "            unified_ans = run_model(unified_qa_string, tokenizer, model)\n",
    "            parsed_date =parse_date(unified_ans[0], nlp)\n",
    "            if len(parsed_date) > 0:\n",
    "                matched, prov = match_dates_based_on_precision(j['a'], j['precision'], parsed_date[0])\n",
    "                if matched:\n",
    "                    j['unified_qa_matched'] = True\n",
    "                    new_answered.append(j)\n",
    "                    break\n",
    "    unified_f.close()\n",
    "    return new_answered"
   ]
  },
  {
   "cell_type": "code",
   "execution_count": null,
   "id": "bc9fa355-de10-4b35-9453-0ac19ff3f1d5",
   "metadata": {},
   "outputs": [
    {
     "name": "stderr",
     "output_type": "stream",
     "text": [
      "/nas/home/amandeep/miniconda3/envs/python3/lib/python3.9/site-packages/torch/autocast_mode.py:162: UserWarning: User provided device_type of 'cuda', but CUDA is not available. Disabling\n",
      "  warnings.warn('User provided device_type of \\'cuda\\', but CUDA is not available. Disabling')\n",
      "/nas/home/amandeep/miniconda3/envs/python3/lib/python3.9/site-packages/dateparser/date_parser.py:35: PytzUsageWarning: The localize method is no longer necessary, as this time zone supports the fold attribute (PEP 495). For more details on migrating to a PEP 495-compliant implementation, see https://pytz-deprecation-shim.readthedocs.io/en/latest/migration.html\n",
      "  date_obj = stz.localize(date_obj)\n"
     ]
    }
   ],
   "source": [
    "large_answers  = run_unified_qa(large_tokenizer, large_model)"
   ]
  },
  {
   "cell_type": "code",
   "execution_count": null,
   "id": "449a65b9-86ac-40f9-9834-1fae8da19acf",
   "metadata": {},
   "outputs": [],
   "source": []
  }
 ],
 "metadata": {
  "kernelspec": {
   "display_name": "python39",
   "language": "python",
   "name": "python39"
  },
  "language_info": {
   "codemirror_mode": {
    "name": "ipython",
    "version": 3
   },
   "file_extension": ".py",
   "mimetype": "text/x-python",
   "name": "python",
   "nbconvert_exporter": "python",
   "pygments_lexer": "ipython3",
   "version": "3.9.12"
  }
 },
 "nbformat": 4,
 "nbformat_minor": 5
}
