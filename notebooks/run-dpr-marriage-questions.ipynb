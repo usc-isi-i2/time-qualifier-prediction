{
 "cells": [
  {
   "cell_type": "code",
   "execution_count": 1,
   "id": "1967e172-e5c9-4647-92a3-c4900911932d",
   "metadata": {},
   "outputs": [
    {
     "name": "stderr",
     "output_type": "stream",
     "text": [
      "/nas/home/amandeep/miniconda3/envs/pyserini/lib/python3.8/site-packages/tqdm/auto.py:22: TqdmWarning: IProgress not found. Please update jupyter and ipywidgets. See https://ipywidgets.readthedocs.io/en/stable/user_install.html\n",
      "  from .autonotebook import tqdm as notebook_tqdm\n"
     ]
    }
   ],
   "source": [
    "from pyserini.search import FaissSearcher\n",
    "from pyserini.search.lucene import LuceneSearcher\n",
    "import json"
   ]
  },
  {
   "cell_type": "code",
   "execution_count": 2,
   "id": "27ee200e-4f1e-45a3-89c2-fd798713e9e2",
   "metadata": {},
   "outputs": [],
   "source": [
    "dpr_faiss_index_path = '/data02/amandeep_wikidata/faiss_indices/pyserini/indexes/dindex-wikipedia-dpr_multi-bf-20200127-f403c3.29eb39fe0b00a03c36c0eeae4c24f775'\n",
    "lucene_index_path = '/data02/amandeep_wikidata/faiss_indices/pyserini/indexes/index-wikipedia-dpr-20210120-d1b9e6.c28f3a56b2dfcef25bf3bf755c264d04'"
   ]
  },
  {
   "cell_type": "code",
   "execution_count": 3,
   "id": "7ad705f7-fad7-4151-800c-d179bdbd9ea7",
   "metadata": {},
   "outputs": [
    {
     "name": "stderr",
     "output_type": "stream",
     "text": [
      "Some weights of the model checkpoint at facebook/dpr-question_encoder-multiset-base were not used when initializing DPRQuestionEncoder: ['question_encoder.bert_model.pooler.dense.bias', 'question_encoder.bert_model.pooler.dense.weight']\n",
      "- This IS expected if you are initializing DPRQuestionEncoder from the checkpoint of a model trained on another task or with another architecture (e.g. initializing a BertForSequenceClassification model from a BertForPreTraining model).\n",
      "- This IS NOT expected if you are initializing DPRQuestionEncoder from the checkpoint of a model that you expect to be exactly identical (initializing a BertForSequenceClassification model from a BertForSequenceClassification model).\n"
     ]
    }
   ],
   "source": [
    "searcher = FaissSearcher(\n",
    "    dpr_faiss_index_path,\n",
    "    'facebook/dpr-question_encoder-multiset-base'\n",
    ")"
   ]
  },
  {
   "cell_type": "code",
   "execution_count": 4,
   "id": "c06955ba-bb0d-4395-b643-acfede24ece0",
   "metadata": {},
   "outputs": [],
   "source": [
    "doc_retriever = LuceneSearcher(lucene_index_path)"
   ]
  },
  {
   "cell_type": "code",
   "execution_count": 5,
   "id": "10a3b0b6-77a5-4001-a9e0-da7a4e559b53",
   "metadata": {},
   "outputs": [
    {
     "name": "stdout",
     "output_type": "stream",
     "text": [
      " 1 11635285 78.72609 \"Virat Kohli\"\n",
      "the second most successful centurion in ODI cricket after Sachin Tendulkar. Kohli started dating Bollywood actress Anushka Sharma in 2013; the couple soon earned the celebrity couple nickname \"\"Virushka\"\". Their relationship attracted substantial media attention, with persistent rumours and speculations in the media, as neither of the two publicly talked about it. The couple married on 11 December 2017 in a private ceremony in Florence, Italy. Kohli has admitted that he is superstitious. He used to wear black wristbands as a cricket superstition; earlier, he used to wear the same pair of gloves with which he had \"\"been scoring\"\". Apart\n",
      " 2 14636392 76.21272 \"Vikram Chatwal\"\n",
      "June 2005. He was also featured on the June 19, 2006 cover of \"\"Forbes Asia\"\". He is also attributed as revitalizing the hotel industry in Manhattan, opening the Time Hotel during a time when few other hotel groups were investing in the area. Chatwal was previously married to Indian model Priya Sachdev with whom he legally separated from in 2011. The wedding took place on 18 February 2006 and was spread across ten days in three Indian cities. It was attended by more than 600 people from 26 countries and included notable guests such as steel magnate Lakshmi Mittal, model\n",
      " 3 12169738 76.13246 \"Shilpa Shetty\"\n",
      "engagement, and reported that Kumar wanted Shetty to quit films and settle down. Shetty had stated, however, that she had no plans to marry. The couple broke up in 2000 whilst filming \"\"Dhadkan\"\". In February 2009, Shetty got engaged to Raj Kundra, with whom she was co-owner of the Indian Premier League (IPL) cricket team Rajasthan Royals. The two married on 22 November 2009. The couple gave birth to a son, Viaan Raj Kundra, on 21 May 2012. In February 2007, Shetty attended a reception at the House of Commons by invitation of Keith Vaz MP to meet with then\n",
      " 4 13016170 75.35669 \"Kalki Koechlin\"\n",
      "on 4 August. Koechlin married film-maker Anurag Kashyap in April 2011, at her maternal home in Ooty. The two met while filming her debut film \"\"Dev.D\"\". On 13 November 2013, both Koechlin and Kashyap issued a joint statement addressing their separation. On 19 May 2015, they filed for divorce at a Mumbai family court. During the period between their separation and eventual divorce, the couple went through marriage counseling as well. Amidst all the news and speculation surrounding the separation, Koechlin revealed that she regretted being so transparent about her personal life, stating in 2012, \"\"It just takes centre stage\n",
      " 5 16112747 75.17426 \"Vaishnavi Dhanraj\"\n",
      "of Mahi Arora in Colors TV's \"\"Bepannaah\"\". On 23 December 2012, Vaishnavi married Indian actor and model Nitin Sahrawat after a year of courtship. The two first met on the set of Nitin's show \"\"Kitni Mohabbat Hai Season 2\"\". The ceremony was conducted in Shantikunj, Haridwar according to Vedic rituals. The wedding reception in Mumbai was attended by Vaishnavi's friends and co actors from her shows including Meghna Malik, Kritika Kamra, Dayanand Shetty, Hrishikesh Pandey and Simran Kaur. For their honeymoon the couple backpacked across Western Ghats and stayed in a rustic hut on the Konkan coast for 12 days.\n",
      " 6 2321416 75.07578 \"V. P. Singh\"\n",
      "on the UP border when they were proceeding to Dadri. However, Singh and Babbar were later able to evade the police, reaching Dadri on 18 August 2006, and ploughing the land in solidarity with the farmers. Singh married Princess Sita Kumari, the daughter of the Raja of Deogarh-Madaria, Rajasthan, on 25 June 1955. It was an arranged marriage. He turned 24 on the day of the marriage, and she was 18. Kumari was a Sisodia Rajput descended from Rana Pratap of Udaipur. The couple had two sons, Ajeya Singh (born 1957), a chartered accountant in New York, and Abhai Singh\n",
      " 7 3709642 74.99518 \"Karpal Singh\"\n",
      "under the Sedition Act in March 2009 with threatening to sue the Sultan of Perak, Sultan Azlan Shah, in the wake of the 2009 Perak constitutional crisis. Karpal had contended that the sultan had exceeded his constitutional powers in appointing Zambry Abdul Kadir Menteri Besar. The charges were dismissed in June 2010 after the High Court determined that the prosecution had failed to prove a \"\"prima facie\"\" case. However, the Court of Appeal reversed the acquittal in January 2012 and ordered Karpal to enter a defence. Karpal married Gurmit Kaur, eight years his junior, in July 1970. Gurmit's family, from\n",
      " 8 18423016 74.80333 \"Shital Mahajan\"\n",
      "700 jumps since then. Shital is married to Vaibhav Rane, a software engineer working in Finland. The marriage ceremony was performed in a hot air balloon, at 600 feet above ground, on 19 April 2008, a feat which has been recorded in the Limca Book of World Records. The couple has two sons. 2004 On 18 April 2004, Shital Mahajan has performed \"\"First Parachute jump of life without any practice over Geographic North Pole Arctic Circle in a freezing temperature of minus 37 Degree Celsius from a height of 2400 feet from a Russian MI - 8 Helicopter. On 18\n",
      " 9 3315969 74.51183 \"Natwar Singh\"\n",
      "had a son, Jagat Singh (b. August 1968) and a daughter, Ritu Kaur (b. November 1970). Jagat Singh was himself politically active as the general secretary of the Congress Party youth wing. In 1993, Jagat Singh married Natasha Masri, of Jordanian and South Indian origins, in an Arya Samaj rite. Jagat and his wife separated in July 2001 after a period of estrangement. The following March, Natasha Singh's body was discovered in a terraced garden at the Delhi Hyatt Regency Hotel; it was concluded she had committed suicide by jumping from the balcony of her room. Jagat and his wife\n",
      "10 5798434 74.48954 \"Gauri Khan\"\n",
      "walked the ramp alongside her husband for filmmaker turned fashion designer Karan Johar at the HDIL India Couture Week 2009. In 2008, she appeared in a television and print commercial for the home furnishings brand, D'decor along with her husband. The couple play themselves in the commercial. Gauri first met Shah Rukh Khan in 1984 in Delhi, before the start of his successful career in Bollywood. The couple married on 25 October 1991 in traditional Hindu wedding ceremony, after a six-year courtship. They have a son Aryan (born 1997) and a daughter Suhana (born 2000). In 2013, they became parents\n"
     ]
    }
   ],
   "source": [
    "hits = searcher.search('WHen did Virat Kohli get married?')\n",
    "\n",
    "for i in range(0, 10):\n",
    "    _d = json.loads(doc_retriever.doc(hits[i].docid).raw())['contents']\n",
    "    print(f'{i+1:2} {hits[i].docid:7} {hits[i].score:.5f} {_d}')"
   ]
  },
  {
   "cell_type": "code",
   "execution_count": 12,
   "id": "c7631180-1353-48a3-bf3c-841e41109c88",
   "metadata": {},
   "outputs": [],
   "source": [
    "questions = json.load(open('marriages_in_wikidata.json'))"
   ]
  },
  {
   "cell_type": "code",
   "execution_count": 13,
   "id": "4c1e6fe9-812a-433c-8870-f0cbbc3e89ae",
   "metadata": {},
   "outputs": [
    {
     "name": "stdout",
     "output_type": "stream",
     "text": [
      "68159\n"
     ]
    }
   ],
   "source": [
    "print(len(questions))"
   ]
  },
  {
   "cell_type": "code",
   "execution_count": 14,
   "id": "e1c967a6-2ac3-4d10-bd04-d0f12760718b",
   "metadata": {},
   "outputs": [
    {
     "name": "stdout",
     "output_type": "stream",
     "text": [
      "{'q': 'when did Ranbir Kapoor marry Alia?', 'a': '2022-04-14', 'n1': 'Q1063412', 'n2': 'Q4725343', 'n1_label': 'Ranbir Kapoor', 'n2_label': 'Alia Bhatt', 'url': 'http://en.wikipedia.org/wiki/Ranbir_Kapoor'}\n"
     ]
    }
   ],
   "source": [
    "print(questions[0])"
   ]
  },
  {
   "cell_type": "code",
   "execution_count": 15,
   "id": "4cf24220-6ea2-41fe-875e-b99671039ddf",
   "metadata": {},
   "outputs": [],
   "source": [
    "import copy\n",
    "import pandas as pd"
   ]
  },
  {
   "cell_type": "code",
   "execution_count": 16,
   "id": "b99afdd8-dc25-416e-9d7e-7ad901170926",
   "metadata": {},
   "outputs": [
    {
     "name": "stdout",
     "output_type": "stream",
     "text": [
      "done 0 questions.\n",
      "done 10000 questions.\n",
      "done 20000 questions.\n",
      "done 30000 questions.\n",
      "done 40000 questions.\n",
      "done 50000 questions.\n",
      "done 60000 questions.\n",
      "CPU times: user 4d 8h 8min 19s, sys: 12h 36min 11s, total: 4d 20h 44min 31s\n",
      "Wall time: 4d 20h 36min 9s\n"
     ]
    }
   ],
   "source": [
    "%%time\n",
    "answers = []\n",
    "count = 0\n",
    "o = open('marriages_wikidata.dpr.answers.jl', 'w')\n",
    "for question in questions:\n",
    "    hits = searcher.search(question['q'], k=100)\n",
    "    s = copy.deepcopy(question)\n",
    "    s['dpr_answers'] = []\n",
    "    for i in range(len(hits)):\n",
    "        _d = json.loads(doc_retriever.doc(hits[i].docid).raw())['contents']\n",
    "        ss = {}\n",
    "        ss['dpr_answer'] = _d\n",
    "        ss['dpr_score'] = float(hits[i].score)\n",
    "        ss['dpr_docid'] = hits[i].docid\n",
    "        s['dpr_answers'].append(ss)\n",
    "    o.write(json.dumps(s))\n",
    "    o.write('\\n')\n",
    "    if count % 10000 == 0:\n",
    "        print(f'done {count} questions.')\n",
    "    count += 1"
   ]
  },
  {
   "cell_type": "code",
   "execution_count": 17,
   "id": "5a860fea-eeaa-41c5-800c-4b9510a988ba",
   "metadata": {},
   "outputs": [
    {
     "name": "stdout",
     "output_type": "stream",
     "text": [
      "\u001b[1;39m{\n",
      "  \u001b[0m\u001b[34;1m\"q\"\u001b[0m\u001b[1;39m: \u001b[0m\u001b[0;32m\"when did Ranbir Kapoor marry Alia?\"\u001b[0m\u001b[1;39m,\n",
      "  \u001b[0m\u001b[34;1m\"a\"\u001b[0m\u001b[1;39m: \u001b[0m\u001b[0;32m\"2022-04-14\"\u001b[0m\u001b[1;39m,\n",
      "  \u001b[0m\u001b[34;1m\"n1\"\u001b[0m\u001b[1;39m: \u001b[0m\u001b[0;32m\"Q1063412\"\u001b[0m\u001b[1;39m,\n",
      "  \u001b[0m\u001b[34;1m\"n2\"\u001b[0m\u001b[1;39m: \u001b[0m\u001b[0;32m\"Q4725343\"\u001b[0m\u001b[1;39m,\n",
      "  \u001b[0m\u001b[34;1m\"n1_label\"\u001b[0m\u001b[1;39m: \u001b[0m\u001b[0;32m\"Ranbir Kapoor\"\u001b[0m\u001b[1;39m,\n",
      "  \u001b[0m\u001b[34;1m\"n2_label\"\u001b[0m\u001b[1;39m: \u001b[0m\u001b[0;32m\"Alia Bhatt\"\u001b[0m\u001b[1;39m,\n",
      "  \u001b[0m\u001b[34;1m\"url\"\u001b[0m\u001b[1;39m: \u001b[0m\u001b[0;32m\"http://en.wikipedia.org/wiki/Ranbir_Kapoor\"\u001b[0m\u001b[1;39m,\n",
      "  \u001b[0m\u001b[34;1m\"dpr_answers\"\u001b[0m\u001b[1;39m: \u001b[0m\u001b[1;39m[\n",
      "    \u001b[1;39m{\n",
      "      \u001b[0m\u001b[34;1m\"dpr_answer\"\u001b[0m\u001b[1;39m: \u001b[0m\u001b[0;32m\"\\\"Ranbir Kapoor\\\"\\nlife. Rumours of an affair with Katrina Kaif first emerged during the production of \\\"\\\"Ajab Prem Ki Ghazab Kahani\\\"\\\" in 2009. In August 2013, a set of paparazzi photographs of Kapoor and Kaif at a beach in Spain were published by \\\"\\\"Stardust\\\"\\\". Although Kapoor initially declined to speak of the relationship, he admitted to it in 2015: \\\"\\\"Both of us are sure about our relationship and if we don't open about it now, it would be showing disrespect to the relationship.\\\"\\\" As of February 2016, the media reported that they had broken up. In 2018, he began dating Alia Bhatt,\"\u001b[0m\u001b[1;39m,\n",
      "      \u001b[0m\u001b[34;1m\"dpr_score\"\u001b[0m\u001b[1;39m: \u001b[0m\u001b[0;39m77.88804626464844\u001b[0m\u001b[1;39m,\n",
      "      \u001b[0m\u001b[34;1m\"dpr_docid\"\u001b[0m\u001b[1;39m: \u001b[0m\u001b[0;32m\"6329758\"\u001b[0m\u001b[1;39m\n",
      "    \u001b[1;39m}\u001b[0m\u001b[1;39m,\n",
      "    \u001b[1;39m{\n",
      "      \u001b[0m\u001b[34;1m\"dpr_answer\"\u001b[0m\u001b[1;39m: \u001b[0m\u001b[0;32m\"\\\"Saif Ali Khan\\\"\\n2007, Khan's relationship with Kareena Kapoor became one of the country's most-reported celebrity stories, and they were listed amongst the top celebrity couple endorsers for brands and products worldwide. In a blog published by \\\"\\\"The Wall Street Journal\\\"\\\", Rupa Subramanya described their marriage as India's \\\"\\\"wedding and social event of the year\\\"\\\". Kapoor gave birth to their son Taimur in December 2016. From 2012–16, Khan has featured on \\\"\\\"Forbes India\\\"\\\"s \\\"\\\"Celebrity 100,\\\"\\\" a list based on the income and popularity of India's celebrities. He peaked at the fifteenth position in 2012 and 2014 with an estimated annual earning of and\"\u001b[0m\u001b[1;39m,\n",
      "      \u001b[0m\u001b[34;1m\"dpr_score\"\u001b[0m\u001b[1;39m: \u001b[0m\u001b[0;39m77.07426452636719\u001b[0m\u001b[1;39m,\n",
      "      \u001b[0m\u001b[34;1m\"dpr_docid\"\u001b[0m\u001b[1;39m: \u001b[0m\u001b[0;32m\"4734368\"\u001b[0m\u001b[1;39m\n",
      "    \u001b[1;39m}\u001b[0m\u001b[1;39m,\n",
      "    \u001b[1;39m{\n",
      "      \u001b[0m\u001b[34;1m\"dpr_answer\"\u001b[0m\u001b[1;39m: \u001b[0m\u001b[0;32m\"\\\"Shashi Kapoor\\\"\\nEnglish actress Jennifer Kendal in Calcutta in 1956 while both were working for their respective theatre groups. Shashi was both assistant stage manager as well as an actor for his father's theatre group, Prithvi Theatre. Geoffrey Kendal's Shakespearean group was also present at the same time in Calcutta and Jennifer was Geoffrey's daughter. After their subsequent meeting, the couple fell in love and after facing initial opposition from the Kendals and support from sister-in-law Geeta Bali, they got married in July 1958. They acted in a number of films together, most notably in Merchant Ivory productions. They had three children:\"\u001b[0m\u001b[1;39m,\n",
      "      \u001b[0m\u001b[34;1m\"dpr_score\"\u001b[0m\u001b[1;39m: \u001b[0m\u001b[0;39m76.93550109863281\u001b[0m\u001b[1;39m,\n",
      "      \u001b[0m\u001b[34;1m\"dpr_docid\"\u001b[0m\u001b[1;39m: \u001b[0m\u001b[0;32m\"1919763\"\u001b[0m\u001b[1;39m\n",
      "    \u001b[1;39m}\u001b[0m\u001b[1;39m,\n",
      "    \u001b[1;39m{\n",
      "      \u001b[0m\u001b[34;1m\"dpr_answer\"\u001b[0m\u001b[1;39m: \u001b[0m\u001b[0;32m\"\\\"Neetu Singh\\\"\\nit was her 'personal choice.' She made a comeback to films after 26 years, appearing opposite her husband in \\\"\\\"Love Aaj Kal\\\"\\\" (2009), \\\"\\\"Do Dooni Chaar\\\"\\\" (2010), \\\"\\\"Jab Tak Hai Jaan\\\"\\\" (2012) and \\\"\\\"Besharam\\\"\\\" (2013). Singh and Kapoor were awarded \\\"\\\"Best Lifetime Jodi\\\"\\\" (couple) at the 2011 Zee Cine Awards ceremony. On screen and off, Neetu and Rishi Kapoor fell in love. They tied the knot on 22 January 1980 after a much publicized engagement that was the talk of the Hindi film industry. The couple have two children: Riddhima Kapoor Sahni (born 15 September 1980) and Ranbir Kapoor (born\"\u001b[0m\u001b[1;39m,\n",
      "      \u001b[0m\u001b[34;1m\"dpr_score\"\u001b[0m\u001b[1;39m: \u001b[0m\u001b[0;39m76.87731170654297\u001b[0m\u001b[1;39m,\n",
      "      \u001b[0m\u001b[34;1m\"dpr_docid\"\u001b[0m\u001b[1;39m: \u001b[0m\u001b[0;32m\"4329201\"\u001b[0m\u001b[1;39m\n",
      "    \u001b[1;39m}\u001b[0m\u001b[1;39m,\n",
      "    \u001b[1;39m{\n",
      "      \u001b[0m\u001b[34;1m\"dpr_answer\"\u001b[0m\u001b[1;39m: \u001b[0m\u001b[0;32m\"\\\"Benazir Bhutto\\\"\\nmatters on individuals, societies and religions which have their own social ethos.\\\"\\\" On returning to Pakistan in the 1987, Bhutto's mother organised for her to marry the businessman Asif Ali Zardari. Many of her friends were surprised that Bhutto acquiesced to an arranged marriage given her liberal attitudes, however she later related that she \\\"\\\"felt obligations to my family and my religion\\\"\\\" to go through with it and that her high public profile made it difficult for her to find a husband through other means. She consistently presented an image of loyalty to her husband, throughout the many accusations and\"\u001b[0m\u001b[1;39m,\n",
      "      \u001b[0m\u001b[34;1m\"dpr_score\"\u001b[0m\u001b[1;39m: \u001b[0m\u001b[0;39m76.40435791015625\u001b[0m\u001b[1;39m,\n",
      "      \u001b[0m\u001b[34;1m\"dpr_docid\"\u001b[0m\u001b[1;39m: \u001b[0m\u001b[0;32m\"1593455\"\u001b[0m\u001b[1;39m\n",
      "    \u001b[1;39m}\u001b[0m\u001b[1;39m,\n",
      "    \u001b[1;39m{\n",
      "      \u001b[0m\u001b[34;1m\"dpr_answer\"\u001b[0m\u001b[1;39m: \u001b[0m\u001b[0;32m\"\\\"Kareena Kapoor\\\"\\nAwards for Best Actress and Best Supporting Actress for her performances in the 2007 romantic comedy \\\"\\\"Jab We Met\\\"\\\" and the 2010 drama \\\"\\\"We Are Family\\\"\\\", respectively. Her highest-grossing releases came with the dramas \\\"\\\"3 Idiots\\\"\\\" (2009) and \\\"\\\"Bajrangi Bhaijaan\\\"\\\" (2015), and she continued to draw praise for her performances in the 2009 thriller \\\"\\\"Kurbaan\\\"\\\", the 2012 drama \\\"\\\"Heroine\\\"\\\", the 2012 thriller \\\"\\\"\\\"\\\", and the 2016 crime film \\\"\\\"Udta Punjab\\\"\\\". Married to actor Saif Ali Khan, with whom she has a son, Kapoor's off-screen life is the subject of widespread coverage in India. She has a reputation for being outspoken\"\u001b[0m\u001b[1;39m,\n",
      "      \u001b[0m\u001b[34;1m\"dpr_score\"\u001b[0m\u001b[1;39m: \u001b[0m\u001b[0;39m76.33673858642578\u001b[0m\u001b[1;39m,\n",
      "      \u001b[0m\u001b[34;1m\"dpr_docid\"\u001b[0m\u001b[1;39m: \u001b[0m\u001b[0;32m\"2509309\"\u001b[0m\u001b[1;39m\n",
      "    \u001b[1;39m}\u001b[0m\u001b[1;39m,\n",
      "    \u001b[1;39m{\n",
      "      \u001b[0m\u001b[34;1m\"dpr_answer\"\u001b[0m\u001b[1;39m: \u001b[0m\u001b[0;32m\"\\\"Aishwarya Rai\\\"\\nSalman Khan; their relationship was often reported in the media until the couple separated in 2002. Rai cited \\\"\\\"abuse (verbal, physical and emotional), infidelity and indignity\\\"\\\" on the part of Khan as reasons for ending the relationship. Though they both appeared in \\\"\\\"Dhai Akshar Prem Ke\\\"\\\" (in which her then longtime boyfriend, Salman Khan, had a brief cameo) and \\\"\\\"Kuch Naa Kaho\\\"\\\", Abhishek Bachchan fell in love with Rai whilst filming \\\"\\\"Dhoom 2\\\"\\\". Their engagement was announced on 2007 and later confirmed by his father, Amitabh Bachchan. The couple married on 20 April 2007 according to traditional Hindu rites of\"\u001b[0m\u001b[1;39m,\n",
      "      \u001b[0m\u001b[34;1m\"dpr_score\"\u001b[0m\u001b[1;39m: \u001b[0m\u001b[0;39m76.25718688964844\u001b[0m\u001b[1;39m,\n",
      "      \u001b[0m\u001b[34;1m\"dpr_docid\"\u001b[0m\u001b[1;39m: \u001b[0m\u001b[0;32m\"10482212\"\u001b[0m\u001b[1;39m\n",
      "    \u001b[1;39m}\u001b[0m\u001b[1;39m,\n",
      "    \u001b[1;39m{\n",
      "      \u001b[0m\u001b[34;1m\"dpr_answer\"\u001b[0m\u001b[1;39m: \u001b[0m\u001b[0;32m\"\\\"Kareena Kapoor\\\"\\nchild she regularly attended award ceremonies and events with her family, and would also accompany Karisma on-set during filming. In an interview with \\\"\\\"Filmfare\\\"\\\", she explained that growing up in a film family helped her develop a sense of professionalism and dedication towards her craft. Kapoor's private life has been the subject of media attention in India, with frequent press coverage of her weight and relationship with actor Saif Ali Khan. The couple—dubbed \\\"\\\"Saifeena\\\"\\\" by the entertainment media—has been one of the country's most-reported celebrity stories since 2007, and Kapoor gave birth to their son Taimur on 20 December 2016.\"\u001b[0m\u001b[1;39m,\n",
      "      \u001b[0m\u001b[34;1m\"dpr_score\"\u001b[0m\u001b[1;39m: \u001b[0m\u001b[0;39m76.18861389160156\u001b[0m\u001b[1;39m,\n",
      "      \u001b[0m\u001b[34;1m\"dpr_docid\"\u001b[0m\u001b[1;39m: \u001b[0m\u001b[0;32m\"2509366\"\u001b[0m\u001b[1;39m\n",
      "    \u001b[1;39m}\u001b[0m\u001b[1;39m,\n",
      "    \u001b[1;39m{\n",
      "      \u001b[0m\u001b[34;1m\"dpr_answer\"\u001b[0m\u001b[1;39m: \u001b[0m\u001b[0;32m\"\\\"Saif Ali Khan\\\"\\nto produce and feature in the film after his role was declined by Imran Khan. Critics were divided in their opinion of the film, but it emerged a financial success grossing over worldwide. Gaurav Malani of \\\"\\\"The Times of India\\\"\\\" described Khan's performance as \\\"\\\"effortless\\\"\\\" and noted that he was in his \\\"\\\"comfort zone\\\"\\\". On 16 October 2012, Khan married actress Kareena Kapoor (after a five-year courtship) in a private ceremony in Bandra, Mumbai, and a reception was later held at The Taj Mahal Palace Hotel and the Lutyens Bungalow Zone in Mumbai and Delhi respectively. The following year, Khan\"\u001b[0m\u001b[1;39m,\n",
      "      \u001b[0m\u001b[34;1m\"dpr_score\"\u001b[0m\u001b[1;39m: \u001b[0m\u001b[0;39m76.12397766113281\u001b[0m\u001b[1;39m,\n",
      "      \u001b[0m\u001b[34;1m\"dpr_docid\"\u001b[0m\u001b[1;39m: \u001b[0m\u001b[0;32m\"4734349\"\u001b[0m\u001b[1;39m\n",
      "    \u001b[1;39m}\u001b[0m\u001b[1;39m,\n",
      "    \u001b[1;39m{\n",
      "      \u001b[0m\u001b[34;1m\"dpr_answer\"\u001b[0m\u001b[1;39m: \u001b[0m\u001b[0;32m\"\\\"Sharmila Tagore\\\"\\n(1969), \\\"\\\"Chupke Chupke\\\"\\\" (1975), \\\"\\\"Ek Mahal Ho Sapno Ka\\\"\\\" (1975) and Sunny (1984). Her filmography also include \\\"\\\"Faraar\\\"\\\" (1975) opposite Amitabh Bachchan; \\\"\\\"Mausam\\\"\\\" (1975) and \\\"\\\"Besharam\\\"\\\" (1978) opposite Sanjeev Kumar; and Bengali film \\\"\\\"Mangaldeep\\\"\\\" (1991) opposite Naseeruddin Shah. In 2017, she walked as a showstopper for Designer Rohini Gugnani at India Runway Week. Sharmila Tagore married Mansoor Ali Khan Pataudi, the Nawab of Pataudi and former captain of the Indian cricket team, in a Nikah ceremony held on 27 December 1969. She converted to Islam upon marriage and changed her name to Begum Ayesha Sultana Khan. They had three children:\"\u001b[0m\u001b[1;39m,\n",
      "      \u001b[0m\u001b[34;1m\"dpr_score\"\u001b[0m\u001b[1;39m: \u001b[0m\u001b[0;39m75.85008239746094\u001b[0m\u001b[1;39m,\n",
      "      \u001b[0m\u001b[34;1m\"dpr_docid\"\u001b[0m\u001b[1;39m: \u001b[0m\u001b[0;32m\"3958254\"\u001b[0m\u001b[1;39m\n",
      "    \u001b[1;39m}\u001b[0m\u001b[1;39m\n",
      "  \u001b[1;39m]\u001b[0m\u001b[1;39m\n",
      "\u001b[1;39m}\u001b[0m\n"
     ]
    }
   ],
   "source": [
    "!head -1 marriages_wikidata.dpr.answers.jl | jq ."
   ]
  },
  {
   "cell_type": "code",
   "execution_count": 25,
   "id": "76de7c15-aad3-49c9-a119-df0590cfe685",
   "metadata": {},
   "outputs": [
    {
     "name": "stdout",
     "output_type": "stream",
     "text": [
      "\u001b[1;39m{\n",
      "  \u001b[0m\u001b[34;1m\"q\"\u001b[0m\u001b[1;39m: \u001b[0m\u001b[0;32m\"when did Hitomi Saito marry Jirō?\"\u001b[0m\u001b[1;39m,\n",
      "  \u001b[0m\u001b[34;1m\"a\"\u001b[0m\u001b[1;39m: \u001b[0m\u001b[0;32m\"2010-08-03\"\u001b[0m\u001b[1;39m,\n",
      "  \u001b[0m\u001b[34;1m\"n1\"\u001b[0m\u001b[1;39m: \u001b[0m\u001b[0;32m\"Q1067677\"\u001b[0m\u001b[1;39m,\n",
      "  \u001b[0m\u001b[34;1m\"n2\"\u001b[0m\u001b[1;39m: \u001b[0m\u001b[0;32m\"Q11326398\"\u001b[0m\u001b[1;39m,\n",
      "  \u001b[0m\u001b[34;1m\"n1_label\"\u001b[0m\u001b[1;39m: \u001b[0m\u001b[0;32m\"Hitomi Saito\"\u001b[0m\u001b[1;39m,\n",
      "  \u001b[0m\u001b[34;1m\"n2_label\"\u001b[0m\u001b[1;39m: \u001b[0m\u001b[0;32m\"Jirō Hachimitsu\"\u001b[0m\u001b[1;39m,\n",
      "  \u001b[0m\u001b[34;1m\"url\"\u001b[0m\u001b[1;39m: \u001b[0m\u001b[0;32m\"http://en.wikipedia.org/wiki/Hitomi_Saito\"\u001b[0m\u001b[1;39m,\n",
      "  \u001b[0m\u001b[34;1m\"dpr_answers\"\u001b[0m\u001b[1;39m: \u001b[0m\u001b[1;39m[\n",
      "    \u001b[1;39m{\n",
      "      \u001b[0m\u001b[34;1m\"dpr_answer\"\u001b[0m\u001b[1;39m: \u001b[0m\u001b[0;32m\"\\\"Hitomi (singer)\\\"\\n\\\"\\\"Yume Hakonda Randoseru\\\"\\\" and was released as a digital single on February 2, 2017. In November 2017, she also started a new radio program called \\\"\\\"Hitomi Radio\\\"\\\" on Inter FM. On December 1, 2002 Hitomi married Keisuke Uesugi, a businessman and former member of hip-hop group Gasboys. They divorced in November 2007. On July 11, 2008, she disclosed her second marriage to actor Masayoshi Haneda, and her four-month pregnancy. She gave birth to a baby girl on December 23, 2008. She and Haneda filed for divorce on December 6, 2011, and it was made public that they had already been\"\u001b[0m\u001b[1;39m,\n",
      "      \u001b[0m\u001b[34;1m\"dpr_score\"\u001b[0m\u001b[1;39m: \u001b[0m\u001b[0;39m80.72665405273438\u001b[0m\u001b[1;39m,\n",
      "      \u001b[0m\u001b[34;1m\"dpr_docid\"\u001b[0m\u001b[1;39m: \u001b[0m\u001b[0;32m\"3333748\"\u001b[0m\u001b[1;39m\n",
      "    \u001b[1;39m}\u001b[0m\u001b[1;39m,\n",
      "    \u001b[1;39m{\n",
      "      \u001b[0m\u001b[34;1m\"dpr_answer\"\u001b[0m\u001b[1;39m: \u001b[0m\u001b[0;32m\"\\\"Momoe Yamaguchi\\\"\\nto continue working as a singer or an actress. On 15 October 1980, Yamaguchi officially retired from show business, and on 19 November 1980, the pair were married. Despite several rumors of her comeback, she has devoted herself to being a homemaker and mother to two sons. Her husband, Tomokazu Miura, continued to work as an actor, even though his career up to then had mostly consisted of playing romantic leads in her films and television series. In 1981, she wrote a book of autobiographical essays called \\\"\\\"Aoi Toki\\\"\\\", which sold over a million copies in its first month of\"\u001b[0m\u001b[1;39m,\n",
      "      \u001b[0m\u001b[34;1m\"dpr_score\"\u001b[0m\u001b[1;39m: \u001b[0m\u001b[0;39m80.69088745117188\u001b[0m\u001b[1;39m,\n",
      "      \u001b[0m\u001b[34;1m\"dpr_docid\"\u001b[0m\u001b[1;39m: \u001b[0m\u001b[0;32m\"5127238\"\u001b[0m\u001b[1;39m\n",
      "    \u001b[1;39m}\u001b[0m\u001b[1;39m,\n",
      "    \u001b[1;39m{\n",
      "      \u001b[0m\u001b[34;1m\"dpr_answer\"\u001b[0m\u001b[1;39m: \u001b[0m\u001b[0;32m\"\\\"Seo Taiji\\\"\\nmedia outlets) that Seo Taiji had secretly married actress Lee Ji-ah (real name Kim Sang-eun) from October 12, 1997 until August 9, 2006. Their union was kept secret because both Seo and Lee notoriously kept their personal lives hidden from the media. Since the shocking news of Seo and Lee's past union, some have speculated that this was the reason why Lee's past had been undetectable. The couple first met in 1993, and after Seo temporarily retired in 1996, they got married in 1997 and lived in Atlanta and Arizona, until Seo's return to Korea in June 2000. They were\"\u001b[0m\u001b[1;39m,\n",
      "      \u001b[0m\u001b[34;1m\"dpr_score\"\u001b[0m\u001b[1;39m: \u001b[0m\u001b[0;39m80.61962890625\u001b[0m\u001b[1;39m,\n",
      "      \u001b[0m\u001b[34;1m\"dpr_docid\"\u001b[0m\u001b[1;39m: \u001b[0m\u001b[0;32m\"3624068\"\u001b[0m\u001b[1;39m\n",
      "    \u001b[1;39m}\u001b[0m\u001b[1;39m,\n",
      "    \u001b[1;39m{\n",
      "      \u001b[0m\u001b[34;1m\"dpr_answer\"\u001b[0m\u001b[1;39m: \u001b[0m\u001b[0;32m\"Oeyo\\nOeyo , , or : 1573 – September 15, 1626) was a prominently-placed female figure in late-Sengoku period. She married three times, first to Saji Kazunari, her cousin, then to Toyotomi Hideyoshi's nephew, Toyotomi Hashiba Hidekatsu. She had a daughter with Hidekatsu named Toyotomi Sadako later married Kujō Yukiie. Her third and last husband Tokugawa Hidetada became the second Tokugawa \\\"\\\"shōgun\\\"\\\". She was also the mother of his successor Iemitsu, the third \\\"\\\"shōgun\\\"\\\". She had Senhime, Tamahime, Katsuhime, Hatsuhime, Takechiyo (Iemitsu), and Tadanaga. Hatsuhime was adopted by Oeyo's sister Ohatsu, who is the wife of Kyōgoku Takatsugu. Hidetada's changing fortunes\"\u001b[0m\u001b[1;39m,\n",
      "      \u001b[0m\u001b[34;1m\"dpr_score\"\u001b[0m\u001b[1;39m: \u001b[0m\u001b[0;39m80.44584655761719\u001b[0m\u001b[1;39m,\n",
      "      \u001b[0m\u001b[34;1m\"dpr_docid\"\u001b[0m\u001b[1;39m: \u001b[0m\u001b[0;32m\"3952383\"\u001b[0m\u001b[1;39m\n",
      "    \u001b[1;39m}\u001b[0m\u001b[1;39m,\n",
      "    \u001b[1;39m{\n",
      "      \u001b[0m\u001b[34;1m\"dpr_answer\"\u001b[0m\u001b[1;39m: \u001b[0m\u001b[0;32m\"Oichi\\nHideyoshi.\\\"\\\" Oichi's three daughters each went on to become important historical figures in their own right. The eldest and the most famous, Chacha became a concubine to Hideyoshi, whose army had killed not only both her birth parents but also her stepfather. She became known as Yodo-dono or Yodogimi (from Yodo Castle, given to her by Hideyoshi), and she bore him his only two sons, including his heir Hideyori. Yodo-dono and Hideyori later died in the Siege of Osaka, in 1615, the final battle of the Warring States era. The second, Ohatsu, married Kyōgoku Takatsugu, a man from a noble\"\u001b[0m\u001b[1;39m,\n",
      "      \u001b[0m\u001b[34;1m\"dpr_score\"\u001b[0m\u001b[1;39m: \u001b[0m\u001b[0;39m80.32291412353516\u001b[0m\u001b[1;39m,\n",
      "      \u001b[0m\u001b[34;1m\"dpr_docid\"\u001b[0m\u001b[1;39m: \u001b[0m\u001b[0;32m\"4815159\"\u001b[0m\u001b[1;39m\n",
      "    \u001b[1;39m}\u001b[0m\u001b[1;39m,\n",
      "    \u001b[1;39m{\n",
      "      \u001b[0m\u001b[34;1m\"dpr_answer\"\u001b[0m\u001b[1;39m: \u001b[0m\u001b[0;32m\"\\\"Sada Yacco\\\"\\na geisha to support him and \\\"\\\"keep herself busy.\\\"\\\" Finally, in October 1893, Yakko and Otojiro were married, with a mutual friend Baron Kentaro Kaneko as the official go-between. Despite Otojiro's ability to cater to the Japanese public, he was notoriously hopeless with money and was constantly in trouble with creditors. After three years of ups-and-downs, from short-lived productions and asset seizures to a failed political campaign in 1897 to near-divorce in 1896 after the discovery of Otojiro's illegitimate son Raikichi by a courtesan—Otojiro and Yakko attempted to escape their financial problems via boat to Kobe. On January 2, 1899\"\u001b[0m\u001b[1;39m,\n",
      "      \u001b[0m\u001b[34;1m\"dpr_score\"\u001b[0m\u001b[1;39m: \u001b[0m\u001b[0;39m80.06439208984375\u001b[0m\u001b[1;39m,\n",
      "      \u001b[0m\u001b[34;1m\"dpr_docid\"\u001b[0m\u001b[1;39m: \u001b[0m\u001b[0;32m\"11810673\"\u001b[0m\u001b[1;39m\n",
      "    \u001b[1;39m}\u001b[0m\u001b[1;39m,\n",
      "    \u001b[1;39m{\n",
      "      \u001b[0m\u001b[34;1m\"dpr_answer\"\u001b[0m\u001b[1;39m: \u001b[0m\u001b[0;32m\"Oeyo\\nsister, Ohatsu was the wife of Kyōgoku Takatsugu and the mother of Kyōgoku Tadataka. After Hidetada resigned the government to his eldest son in 1623, Oeyo took a Buddhist name, or Sogenin. Her mausoleum can be found at Zōjō-ji in the Shiba neighborhood of Tokyo. NHK's 2011 Taiga drama, \\\"\\\"\\\"\\\", is based on the life of Oeyo who is played by the actress Juri Ueno. Toyotomi Sadako Tokugawa Masako, married Emperor Go-Mizunoo Katsuhime, married Matsudaira Tadanao Senhime – Daughter, married Toyotomi Hideyori and later married Honda Tadatoki Tokugawa Iemitsu Oeyo , , or : 1573 – September 15, 1626) was\"\u001b[0m\u001b[1;39m,\n",
      "      \u001b[0m\u001b[34;1m\"dpr_score\"\u001b[0m\u001b[1;39m: \u001b[0m\u001b[0;39m79.91815185546875\u001b[0m\u001b[1;39m,\n",
      "      \u001b[0m\u001b[34;1m\"dpr_docid\"\u001b[0m\u001b[1;39m: \u001b[0m\u001b[0;32m\"3952385\"\u001b[0m\u001b[1;39m\n",
      "    \u001b[1;39m}\u001b[0m\u001b[1;39m,\n",
      "    \u001b[1;39m{\n",
      "      \u001b[0m\u001b[34;1m\"dpr_answer\"\u001b[0m\u001b[1;39m: \u001b[0m\u001b[0;32m\"\\\"Hachikō\\\"\\nby a Tokyo bank employee, shows the dog relaxing in front of Shibuya Station. , more often referred as Yaeko Ueno, was an unmarried partner to Hidesaburō Ueno for about 10 years until his death in 1925. Hachikō was reported to have shown great happiness and affection towards her whenever she came to visit him. Yaeko died on 30 April 1961 at the age of 76 and was buried at a temple in Taitō, further away from Ueno's grave, despite her requests to her family members to be buried with her late partner. In 2013, Yaeko's record which indicated that\"\u001b[0m\u001b[1;39m,\n",
      "      \u001b[0m\u001b[34;1m\"dpr_score\"\u001b[0m\u001b[1;39m: \u001b[0m\u001b[0;39m79.85963439941406\u001b[0m\u001b[1;39m,\n",
      "      \u001b[0m\u001b[34;1m\"dpr_docid\"\u001b[0m\u001b[1;39m: \u001b[0m\u001b[0;32m\"3394224\"\u001b[0m\u001b[1;39m\n",
      "    \u001b[1;39m}\u001b[0m\u001b[1;39m,\n",
      "    \u001b[1;39m{\n",
      "      \u001b[0m\u001b[34;1m\"dpr_answer\"\u001b[0m\u001b[1;39m: \u001b[0m\u001b[0;32m\"\\\"Nōhime\\\"\\na lot of information on the dates of her birth or death; however, proposed dates for her birth fall in 1533–35. According to one historical record, Lady Nō was infertile, and when Nobunaga's concubine Lady Kitsuno gave birth to Oda Nobutada, the child was given to Lady Nō, Nobunaga's legal wife, to be raised as Nobunaga's heir. Nō was said to be extremely intelligent and stunningly beautiful. At their wedding, Nobunaga described her as having \\\"\\\"the mind of a genius and the appearance of a goddess.\\\"\\\" She was married to him in 1549, during a truce between his father, Nobuhide,\"\u001b[0m\u001b[1;39m,\n",
      "      \u001b[0m\u001b[34;1m\"dpr_score\"\u001b[0m\u001b[1;39m: \u001b[0m\u001b[0;39m79.45413208007812\u001b[0m\u001b[1;39m,\n",
      "      \u001b[0m\u001b[34;1m\"dpr_docid\"\u001b[0m\u001b[1;39m: \u001b[0m\u001b[0;32m\"4957683\"\u001b[0m\u001b[1;39m\n",
      "    \u001b[1;39m}\u001b[0m\u001b[1;39m,\n",
      "    \u001b[1;39m{\n",
      "      \u001b[0m\u001b[34;1m\"dpr_answer\"\u001b[0m\u001b[1;39m: \u001b[0m\u001b[0;32m\"\\\"Hitomi Saito\\\"\\nHitomi Saito , born October 31, 1981 in Niigata, Japan, is a former singer and current radio personality. She was the leader of Melon Kinenbi, an all-girl J-pop group formerly within Hello! Project, until its disbandment in 2010. She is also a former member of Hello! Project's futsal club, Gatas Brilhantes H.P. In August 2010, less than three months after Melon Kinenbi's disbandment, Saito married comedian Jirō Hachimitsu (born Jirō Takano) of duo \\\"\\\"Tokyo Dynamite\\\"\\\". On October 15, 2011, it was announced that Hitomi and Tokyo Dynamite's Hachimitsu Jiro have divorced. After disappearing temporarily from the public eye after Melon\"\u001b[0m\u001b[1;39m,\n",
      "      \u001b[0m\u001b[34;1m\"dpr_score\"\u001b[0m\u001b[1;39m: \u001b[0m\u001b[0;39m79.33601379394531\u001b[0m\u001b[1;39m,\n",
      "      \u001b[0m\u001b[34;1m\"dpr_docid\"\u001b[0m\u001b[1;39m: \u001b[0m\u001b[0;32m\"11206801\"\u001b[0m\u001b[1;39m\n",
      "    \u001b[1;39m}\u001b[0m\u001b[1;39m\n",
      "  \u001b[1;39m]\u001b[0m\u001b[1;39m\n",
      "\u001b[1;39m}\u001b[0m\n"
     ]
    }
   ],
   "source": [
    "!head -3405 marriages_wikidata.dpr.answers.jl | tail -1 | jq ."
   ]
  },
  {
   "cell_type": "code",
   "execution_count": null,
   "id": "187f3022-c042-4c99-9aa8-9c413ed31960",
   "metadata": {},
   "outputs": [],
   "source": []
  }
 ],
 "metadata": {
  "kernelspec": {
   "display_name": "python39",
   "language": "python",
   "name": "python39"
  },
  "language_info": {
   "codemirror_mode": {
    "name": "ipython",
    "version": 3
   },
   "file_extension": ".py",
   "mimetype": "text/x-python",
   "name": "python",
   "nbconvert_exporter": "python",
   "pygments_lexer": "ipython3",
   "version": "3.9.12"
  }
 },
 "nbformat": 4,
 "nbformat_minor": 5
}
