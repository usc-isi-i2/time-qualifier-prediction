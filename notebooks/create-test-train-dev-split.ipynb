{
 "cells": [
  {
   "cell_type": "code",
   "execution_count": 14,
   "id": "04175eb4-0050-4522-ae45-9e318cdcb5ce",
   "metadata": {},
   "outputs": [],
   "source": [
    "import json\n",
    "import pandas as pd\n",
    "from sklearn.model_selection import train_test_split\n",
    "from utils import parse_date, match_dates_based_on_precision\n",
    "import spacy\n",
    "from glob import glob"
   ]
  },
  {
   "cell_type": "code",
   "execution_count": 2,
   "id": "1e53e663-2ac9-4d1a-bde4-b73cd441bec1",
   "metadata": {},
   "outputs": [],
   "source": [
    "nlp = spacy.load('en_core_web_trf')"
   ]
  },
  {
   "cell_type": "code",
   "execution_count": 3,
   "id": "3d92fe98-aa92-42c7-83c8-7cde08e0d710",
   "metadata": {},
   "outputs": [],
   "source": [
    "input_file = '../data/dpr-post-process-unified-qa-matched.jl'\n",
    "annotated_file = '../data/questions-for-annotation-annotated.csv'\n",
    "evaluation_input_file = '../data/annotated-questions-for-evaluation.tsv'\n",
    "evaluation_output_file = '../data/eval_output/output.tsv-95000'"
   ]
  },
  {
   "cell_type": "code",
   "execution_count": 4,
   "id": "eb5d623e-9c0c-40f3-b84e-d1c498a89906",
   "metadata": {},
   "outputs": [],
   "source": [
    "annotated_questions = set(pd.read_csv(annotated_file)['question'].unique())"
   ]
  },
  {
   "cell_type": "code",
   "execution_count": 5,
   "id": "8752fe06-1348-416d-8aa8-e69f73530508",
   "metadata": {},
   "outputs": [
    {
     "data": {
      "text/plain": [
       "100"
      ]
     },
     "execution_count": 5,
     "metadata": {},
     "output_type": "execute_result"
    }
   ],
   "source": [
    "len(annotated_questions)"
   ]
  },
  {
   "cell_type": "code",
   "execution_count": 6,
   "id": "502bec49-69ef-4d05-9e0f-d662b91d3683",
   "metadata": {},
   "outputs": [],
   "source": [
    "all_questions = []\n",
    "with open(input_file) as f:\n",
    "    for line in f:\n",
    "        j = json.loads(line.strip())\n",
    "        answer = j['a']\n",
    "        question = j['q']\n",
    "        if answer < '2020-01-01':\n",
    "            if question not in annotated_questions:\n",
    "                all_questions.append(j)"
   ]
  },
  {
   "cell_type": "code",
   "execution_count": 7,
   "id": "ec3c7cad-f304-4ca3-870a-888f27f581ef",
   "metadata": {},
   "outputs": [
    {
     "data": {
      "text/plain": [
       "13254"
      ]
     },
     "execution_count": 7,
     "metadata": {},
     "output_type": "execute_result"
    }
   ],
   "source": [
    "len(all_questions)"
   ]
  },
  {
   "cell_type": "code",
   "execution_count": null,
   "id": "fab889b1-50bf-4773-914d-50644d71fcc1",
   "metadata": {},
   "outputs": [],
   "source": [
    "questions_with_spacy_matched = []\n",
    "for aq in all_questions:\n",
    "    dpr_answers = aq['matched_dpr_answers']\n",
    "    for da in dpr_answers:\n",
    "        if da['matched']:\n",
    "            aq['matched_dpr_answer'] = da['dpr_answer']\n",
    "            aq.pop('matched_dpr_answers')\n",
    "            questions_with_spacy_matched.append(aq)\n",
    "            break\n",
    "            "
   ]
  },
  {
   "cell_type": "code",
   "execution_count": null,
   "id": "b5697b4b-2f39-4252-a64b-8185c5042163",
   "metadata": {},
   "outputs": [],
   "source": [
    "len(questions_with_spacy_matched)"
   ]
  },
  {
   "cell_type": "code",
   "execution_count": null,
   "id": "118e64b2-8100-4671-b81b-c7b4f25873e8",
   "metadata": {},
   "outputs": [],
   "source": [
    "questions_with_spacy_matched[560]"
   ]
  },
  {
   "cell_type": "code",
   "execution_count": null,
   "id": "5dd3677c-ee5b-47f3-9b1d-ec459a467e56",
   "metadata": {},
   "outputs": [],
   "source": [
    "train, test = train_test_split(questions_with_spacy_matched, test_size=0.25)"
   ]
  },
  {
   "cell_type": "code",
   "execution_count": null,
   "id": "0f8b4201-875c-45c9-934b-ff91be6f3e27",
   "metadata": {},
   "outputs": [],
   "source": [
    "print(len(train), len(test))"
   ]
  },
  {
   "cell_type": "code",
   "execution_count": null,
   "id": "3e48f8db-09b5-4339-a5d2-7a13c5760d68",
   "metadata": {},
   "outputs": [],
   "source": [
    "train[3]"
   ]
  },
  {
   "cell_type": "code",
   "execution_count": null,
   "id": "524d68bd-ae84-46aa-9f89-3ec6fbd4247b",
   "metadata": {},
   "outputs": [],
   "source": [
    "month_dict = {\n",
    "    '01': 'January',\n",
    "    '02': 'February',\n",
    "    '03': 'March',\n",
    "    '04': 'April',\n",
    "    '05': 'May',\n",
    "    '06': 'June',\n",
    "    '07': 'July',\n",
    "    '08': 'August',\n",
    "    '09': 'September',\n",
    "    '10': 'October',\n",
    "    '11': 'November',\n",
    "    '12': 'December'\n",
    "    \n",
    "}"
   ]
  },
  {
   "cell_type": "code",
   "execution_count": null,
   "id": "88f7b907-0bec-4994-a2fe-5a5b51f2323e",
   "metadata": {},
   "outputs": [],
   "source": [
    "def create_unified_qa_model_input_files(list_questions, file_name):\n",
    "    o = open(file_name, 'w')\n",
    "    for q in list_questions:\n",
    "        question = q['q']\n",
    "        year, month, day = q['a'].split('-')\n",
    "        if int(day) < 10:\n",
    "            day = day[1:]\n",
    "        precision = q['precision']\n",
    "        if precision == '9': # year\n",
    "            answer = year\n",
    "        elif precision == '10': # month\n",
    "            answer = f\"{month_dict[month]}, {year}\"\n",
    "        else:\n",
    "            answer = f\"{day} {month_dict[month]} {year}\"\n",
    "        dpr_a  = q['matched_dpr_answer'].split('\\n')[1]\n",
    "        o.write(f\"{question}\\\\n{dpr_a}\\t{answer}\\n\")\n",
    "    o.close()\n",
    "        "
   ]
  },
  {
   "cell_type": "code",
   "execution_count": null,
   "id": "4b76fa6a-948b-4fff-80b1-50c929d4b5c0",
   "metadata": {},
   "outputs": [],
   "source": [
    "create_unified_qa_model_input_files(train, '../data/unified_qa_input/train.tsv')"
   ]
  },
  {
   "cell_type": "code",
   "execution_count": null,
   "id": "43cb158c-d52e-438e-9ac4-7cb3e70ba074",
   "metadata": {},
   "outputs": [],
   "source": [
    "create_unified_qa_model_input_files(test, '../data/unified_qa_input/test.tsv')"
   ]
  },
  {
   "cell_type": "code",
   "execution_count": null,
   "id": "ea96c38a-c59c-4b66-bb93-05cdb1b6e729",
   "metadata": {},
   "outputs": [],
   "source": [
    "def create_input_for_evaluation(annotated_file, evaluation_input_file):\n",
    "    df = pd.read_csv(annotated_file)\n",
    "    o = open(evaluation_input_file, 'w')\n",
    "    for question, para in list(zip(df['question'], df['dpr_answer'])):\n",
    "        fstring = f\"{question}\\\\n{para}\\n\"\n",
    "        o.write(fstring)\n",
    "    o.close()\n",
    "    "
   ]
  },
  {
   "cell_type": "code",
   "execution_count": null,
   "id": "574c8617-521a-4256-878a-443a1b888d50",
   "metadata": {},
   "outputs": [],
   "source": [
    "create_input_for_evaluation(annotated_file, evaluation_input_file)"
   ]
  },
  {
   "cell_type": "code",
   "execution_count": 82,
   "id": "53a6906c-0d4b-4f3c-979b-7a54a0376dbb",
   "metadata": {},
   "outputs": [],
   "source": [
    "def calculate_accuracy(annotated_file, \n",
    "                       eval_file_pattern, \n",
    "                       evaluated_file=None, \n",
    "                       evaluated_dir=None, \n",
    "                       annotated_df=None):\n",
    "    if annotated_df is None:\n",
    "        annotated_df = pd.read_csv(annotated_file)\n",
    "    if evaluated_file is not None:\n",
    "        evaluations = []\n",
    "        with open(evaluated_file) as f:\n",
    "            for line in f:\n",
    "                parsed_dates = parse_date(line.strip().replace('b', '').replace(\"'\", \"\"), nlp, requires=['year'])\n",
    "                if len(parsed_dates) > 0:\n",
    "                    evaluations.append(parsed_dates[0])\n",
    "                else:\n",
    "                    evaluations.append('')\n",
    "        copy_df = annotated_df.copy()\n",
    "        copy_df['evaluation'] = evaluations\n",
    "        matches = []\n",
    "        for answer, precision, evaluation in list(zip(copy_df['answer'], \n",
    "                                                      copy_df['precision'], \n",
    "                                                      copy_df['evaluation'])):\n",
    "            matched, prov = match_dates_based_on_precision(answer, precision, evaluation)\n",
    "            matches.append(matched)\n",
    "        copy_df['fine_tune_matches'] = matches\n",
    "        num_1 = len(copy_df[(copy_df['fine_tune_matches'] == True) & (copy_df['answerable'] == 'yes')]) \n",
    "        num_2 = len(copy_df[copy_df['answerable'] == 'yes'])\n",
    "        print(evaluated_file, num_1, num_2)\n",
    "        return (float(num_1) / float(num_2)) * 100\n",
    "    if evaluated_dir is not None:\n",
    "        output = []\n",
    "        files = glob(f'{evaluated_dir}/{eval_file_pattern}*')\n",
    "        for fi in files:\n",
    "            output.append({\n",
    "                'file': fi.split('/')[-1],\n",
    "                'accuracy': calculate_accuracy(annotated_file, eval_file_pattern, evaluated_file=fi, annotated_df=annotated_df)\n",
    "            })\n",
    "        return output    \n",
    "    "
   ]
  },
  {
   "cell_type": "code",
   "execution_count": null,
   "id": "8868dc71-cf1b-4fb1-86d5-54d83b526c9c",
   "metadata": {},
   "outputs": [],
   "source": [
    "out = calculate_accuracy(annotated_file, \n",
    "                         evaluated_dir='/data/amandeep/Github/time-qualifier-prediction/data/eval_output')"
   ]
  },
  {
   "cell_type": "code",
   "execution_count": 51,
   "id": "dcb6c109-8e4c-4986-84af-b4848a2b6496",
   "metadata": {},
   "outputs": [],
   "source": [
    "out_df = pd.DataFrame(out)"
   ]
  },
  {
   "cell_type": "code",
   "execution_count": 54,
   "id": "cd0e6790-e936-44ae-b4f4-0f019fd1746d",
   "metadata": {},
   "outputs": [],
   "source": [
    "out_df['epoch'] = out_df['file'].map(lambda x: int(x.split('-')[1]))"
   ]
  },
  {
   "cell_type": "code",
   "execution_count": 63,
   "id": "eb2ecb9b-51e9-4ca0-b81f-6f17f436945c",
   "metadata": {},
   "outputs": [
    {
     "data": {
      "text/plain": [
       "<AxesSubplot:xlabel='epoch'>"
      ]
     },
     "execution_count": 63,
     "metadata": {},
     "output_type": "execute_result"
    },
    {
     "data": {
      "image/png": "[encoded data removed]",
      "text/plain": [
       "<Figure size 432x288 with 1 Axes>"
      ]
     },
     "metadata": {
      "needs_background": "light"
     },
     "output_type": "display_data"
    }
   ],
   "source": [
    "out_df.sort_values(by='epoch').plot(x='epoch', y='accuracy', kind='line')"
   ]
  },
  {
   "cell_type": "code",
   "execution_count": null,
   "id": "0c8251ef-b75a-48cd-a16e-df541587ed88",
   "metadata": {},
   "outputs": [],
   "source": [
    "out_base = calculate_accuracy(annotated_file, evaluated_dir='/data/amandeep/Github/time-qualifier-prediction/data/eval_output')"
   ]
  },
  {
   "cell_type": "code",
   "execution_count": 69,
   "id": "32ba60ed-177d-4041-a44f-f8bc8008bc48",
   "metadata": {},
   "outputs": [],
   "source": [
    "out_base_df = pd.DataFrame(out_base)\n"
   ]
  },
  {
   "cell_type": "code",
   "execution_count": 71,
   "id": "e5c905bb-d256-409f-925d-cd2165fed841",
   "metadata": {},
   "outputs": [
    {
     "data": {
      "text/plain": [
       "<AxesSubplot:xlabel='epoch'>"
      ]
     },
     "execution_count": 71,
     "metadata": {},
     "output_type": "execute_result"
    },
    {
     "data": {
      "image/png": "[encoded data removed]",
      "text/plain": [
       "<Figure size 432x288 with 1 Axes>"
      ]
     },
     "metadata": {
      "needs_background": "light"
     },
     "output_type": "display_data"
    }
   ],
   "source": [
    "out_base_df['epoch'] = out_base_df['file'].map(lambda x: int(x.split('-')[2]))\n",
    "out_base_df.sort_values(by='epoch').plot(x='epoch', y='accuracy', kind='line')"
   ]
  },
  {
   "cell_type": "code",
   "execution_count": 86,
   "id": "8b2ca18b-5cb5-4312-80e4-8fe8e9235310",
   "metadata": {},
   "outputs": [
    {
     "name": "stderr",
     "output_type": "stream",
     "text": [
      "/nas/home/amandeep/miniconda3/envs/python3/lib/python3.9/site-packages/torch/autocast_mode.py:162: UserWarning: User provided device_type of 'cuda', but CUDA is not available. Disabling\n",
      "  warnings.warn('User provided device_type of \\'cuda\\', but CUDA is not available. Disabling')\n",
      "/nas/home/amandeep/miniconda3/envs/python3/lib/python3.9/site-packages/dateparser/date_parser.py:35: PytzUsageWarning: The localize method is no longer necessary, as this time zone supports the fold attribute (PEP 495). For more details on migrating to a PEP 495-compliant implementation, see https://pytz-deprecation-shim.readthedocs.io/en/latest/migration.html\n",
      "  date_obj = stz.localize(date_obj)\n"
     ]
    },
    {
     "name": "stdout",
     "output_type": "stream",
     "text": [
      "/data/amandeep/Github/time-qualifier-prediction/data/eval_output/output-base_v2.tsv-10000 1 85\n"
     ]
    },
    {
     "name": "stderr",
     "output_type": "stream",
     "text": [
      "/nas/home/amandeep/miniconda3/envs/python3/lib/python3.9/site-packages/torch/autocast_mode.py:162: UserWarning: User provided device_type of 'cuda', but CUDA is not available. Disabling\n",
      "  warnings.warn('User provided device_type of \\'cuda\\', but CUDA is not available. Disabling')\n",
      "/nas/home/amandeep/miniconda3/envs/python3/lib/python3.9/site-packages/dateparser/date_parser.py:35: PytzUsageWarning: The localize method is no longer necessary, as this time zone supports the fold attribute (PEP 495). For more details on migrating to a PEP 495-compliant implementation, see https://pytz-deprecation-shim.readthedocs.io/en/latest/migration.html\n",
      "  date_obj = stz.localize(date_obj)\n"
     ]
    },
    {
     "name": "stdout",
     "output_type": "stream",
     "text": [
      "/data/amandeep/Github/time-qualifier-prediction/data/eval_output/output-base_v2.tsv-100000 3 85\n"
     ]
    },
    {
     "name": "stderr",
     "output_type": "stream",
     "text": [
      "/nas/home/amandeep/miniconda3/envs/python3/lib/python3.9/site-packages/torch/autocast_mode.py:162: UserWarning: User provided device_type of 'cuda', but CUDA is not available. Disabling\n",
      "  warnings.warn('User provided device_type of \\'cuda\\', but CUDA is not available. Disabling')\n",
      "/nas/home/amandeep/miniconda3/envs/python3/lib/python3.9/site-packages/dateparser/date_parser.py:35: PytzUsageWarning: The localize method is no longer necessary, as this time zone supports the fold attribute (PEP 495). For more details on migrating to a PEP 495-compliant implementation, see https://pytz-deprecation-shim.readthedocs.io/en/latest/migration.html\n",
      "  date_obj = stz.localize(date_obj)\n"
     ]
    },
    {
     "name": "stdout",
     "output_type": "stream",
     "text": [
      "/data/amandeep/Github/time-qualifier-prediction/data/eval_output/output-base_v2.tsv-105000 2 85\n"
     ]
    },
    {
     "name": "stderr",
     "output_type": "stream",
     "text": [
      "/nas/home/amandeep/miniconda3/envs/python3/lib/python3.9/site-packages/torch/autocast_mode.py:162: UserWarning: User provided device_type of 'cuda', but CUDA is not available. Disabling\n",
      "  warnings.warn('User provided device_type of \\'cuda\\', but CUDA is not available. Disabling')\n",
      "/nas/home/amandeep/miniconda3/envs/python3/lib/python3.9/site-packages/dateparser/date_parser.py:35: PytzUsageWarning: The localize method is no longer necessary, as this time zone supports the fold attribute (PEP 495). For more details on migrating to a PEP 495-compliant implementation, see https://pytz-deprecation-shim.readthedocs.io/en/latest/migration.html\n",
      "  date_obj = stz.localize(date_obj)\n"
     ]
    },
    {
     "name": "stdout",
     "output_type": "stream",
     "text": [
      "/data/amandeep/Github/time-qualifier-prediction/data/eval_output/output-base_v2.tsv-110000 2 85\n"
     ]
    },
    {
     "name": "stderr",
     "output_type": "stream",
     "text": [
      "/nas/home/amandeep/miniconda3/envs/python3/lib/python3.9/site-packages/torch/autocast_mode.py:162: UserWarning: User provided device_type of 'cuda', but CUDA is not available. Disabling\n",
      "  warnings.warn('User provided device_type of \\'cuda\\', but CUDA is not available. Disabling')\n",
      "/nas/home/amandeep/miniconda3/envs/python3/lib/python3.9/site-packages/dateparser/date_parser.py:35: PytzUsageWarning: The localize method is no longer necessary, as this time zone supports the fold attribute (PEP 495). For more details on migrating to a PEP 495-compliant implementation, see https://pytz-deprecation-shim.readthedocs.io/en/latest/migration.html\n",
      "  date_obj = stz.localize(date_obj)\n"
     ]
    },
    {
     "name": "stdout",
     "output_type": "stream",
     "text": [
      "/data/amandeep/Github/time-qualifier-prediction/data/eval_output/output-base_v2.tsv-115000 1 85\n"
     ]
    },
    {
     "name": "stderr",
     "output_type": "stream",
     "text": [
      "/nas/home/amandeep/miniconda3/envs/python3/lib/python3.9/site-packages/torch/autocast_mode.py:162: UserWarning: User provided device_type of 'cuda', but CUDA is not available. Disabling\n",
      "  warnings.warn('User provided device_type of \\'cuda\\', but CUDA is not available. Disabling')\n",
      "/nas/home/amandeep/miniconda3/envs/python3/lib/python3.9/site-packages/dateparser/date_parser.py:35: PytzUsageWarning: The localize method is no longer necessary, as this time zone supports the fold attribute (PEP 495). For more details on migrating to a PEP 495-compliant implementation, see https://pytz-deprecation-shim.readthedocs.io/en/latest/migration.html\n",
      "  date_obj = stz.localize(date_obj)\n"
     ]
    },
    {
     "name": "stdout",
     "output_type": "stream",
     "text": [
      "/data/amandeep/Github/time-qualifier-prediction/data/eval_output/output-base_v2.tsv-120000 2 85\n"
     ]
    },
    {
     "name": "stderr",
     "output_type": "stream",
     "text": [
      "/nas/home/amandeep/miniconda3/envs/python3/lib/python3.9/site-packages/torch/autocast_mode.py:162: UserWarning: User provided device_type of 'cuda', but CUDA is not available. Disabling\n",
      "  warnings.warn('User provided device_type of \\'cuda\\', but CUDA is not available. Disabling')\n",
      "/nas/home/amandeep/miniconda3/envs/python3/lib/python3.9/site-packages/dateparser/date_parser.py:35: PytzUsageWarning: The localize method is no longer necessary, as this time zone supports the fold attribute (PEP 495). For more details on migrating to a PEP 495-compliant implementation, see https://pytz-deprecation-shim.readthedocs.io/en/latest/migration.html\n",
      "  date_obj = stz.localize(date_obj)\n"
     ]
    },
    {
     "name": "stdout",
     "output_type": "stream",
     "text": [
      "/data/amandeep/Github/time-qualifier-prediction/data/eval_output/output-base_v2.tsv-125000 2 85\n"
     ]
    },
    {
     "name": "stderr",
     "output_type": "stream",
     "text": [
      "/nas/home/amandeep/miniconda3/envs/python3/lib/python3.9/site-packages/torch/autocast_mode.py:162: UserWarning: User provided device_type of 'cuda', but CUDA is not available. Disabling\n",
      "  warnings.warn('User provided device_type of \\'cuda\\', but CUDA is not available. Disabling')\n",
      "/nas/home/amandeep/miniconda3/envs/python3/lib/python3.9/site-packages/dateparser/date_parser.py:35: PytzUsageWarning: The localize method is no longer necessary, as this time zone supports the fold attribute (PEP 495). For more details on migrating to a PEP 495-compliant implementation, see https://pytz-deprecation-shim.readthedocs.io/en/latest/migration.html\n",
      "  date_obj = stz.localize(date_obj)\n"
     ]
    },
    {
     "name": "stdout",
     "output_type": "stream",
     "text": [
      "/data/amandeep/Github/time-qualifier-prediction/data/eval_output/output-base_v2.tsv-130000 2 85\n"
     ]
    },
    {
     "name": "stderr",
     "output_type": "stream",
     "text": [
      "/nas/home/amandeep/miniconda3/envs/python3/lib/python3.9/site-packages/torch/autocast_mode.py:162: UserWarning: User provided device_type of 'cuda', but CUDA is not available. Disabling\n",
      "  warnings.warn('User provided device_type of \\'cuda\\', but CUDA is not available. Disabling')\n",
      "/nas/home/amandeep/miniconda3/envs/python3/lib/python3.9/site-packages/dateparser/date_parser.py:35: PytzUsageWarning: The localize method is no longer necessary, as this time zone supports the fold attribute (PEP 495). For more details on migrating to a PEP 495-compliant implementation, see https://pytz-deprecation-shim.readthedocs.io/en/latest/migration.html\n",
      "  date_obj = stz.localize(date_obj)\n"
     ]
    },
    {
     "name": "stdout",
     "output_type": "stream",
     "text": [
      "/data/amandeep/Github/time-qualifier-prediction/data/eval_output/output-base_v2.tsv-135000 1 85\n"
     ]
    },
    {
     "name": "stderr",
     "output_type": "stream",
     "text": [
      "/nas/home/amandeep/miniconda3/envs/python3/lib/python3.9/site-packages/torch/autocast_mode.py:162: UserWarning: User provided device_type of 'cuda', but CUDA is not available. Disabling\n",
      "  warnings.warn('User provided device_type of \\'cuda\\', but CUDA is not available. Disabling')\n",
      "/nas/home/amandeep/miniconda3/envs/python3/lib/python3.9/site-packages/dateparser/date_parser.py:35: PytzUsageWarning: The localize method is no longer necessary, as this time zone supports the fold attribute (PEP 495). For more details on migrating to a PEP 495-compliant implementation, see https://pytz-deprecation-shim.readthedocs.io/en/latest/migration.html\n",
      "  date_obj = stz.localize(date_obj)\n"
     ]
    },
    {
     "name": "stdout",
     "output_type": "stream",
     "text": [
      "/data/amandeep/Github/time-qualifier-prediction/data/eval_output/output-base_v2.tsv-15000 1 85\n"
     ]
    },
    {
     "name": "stderr",
     "output_type": "stream",
     "text": [
      "/nas/home/amandeep/miniconda3/envs/python3/lib/python3.9/site-packages/torch/autocast_mode.py:162: UserWarning: User provided device_type of 'cuda', but CUDA is not available. Disabling\n",
      "  warnings.warn('User provided device_type of \\'cuda\\', but CUDA is not available. Disabling')\n",
      "/nas/home/amandeep/miniconda3/envs/python3/lib/python3.9/site-packages/dateparser/date_parser.py:35: PytzUsageWarning: The localize method is no longer necessary, as this time zone supports the fold attribute (PEP 495). For more details on migrating to a PEP 495-compliant implementation, see https://pytz-deprecation-shim.readthedocs.io/en/latest/migration.html\n",
      "  date_obj = stz.localize(date_obj)\n"
     ]
    },
    {
     "name": "stdout",
     "output_type": "stream",
     "text": [
      "/data/amandeep/Github/time-qualifier-prediction/data/eval_output/output-base_v2.tsv-20000 3 85\n"
     ]
    },
    {
     "name": "stderr",
     "output_type": "stream",
     "text": [
      "/nas/home/amandeep/miniconda3/envs/python3/lib/python3.9/site-packages/torch/autocast_mode.py:162: UserWarning: User provided device_type of 'cuda', but CUDA is not available. Disabling\n",
      "  warnings.warn('User provided device_type of \\'cuda\\', but CUDA is not available. Disabling')\n",
      "/nas/home/amandeep/miniconda3/envs/python3/lib/python3.9/site-packages/dateparser/date_parser.py:35: PytzUsageWarning: The localize method is no longer necessary, as this time zone supports the fold attribute (PEP 495). For more details on migrating to a PEP 495-compliant implementation, see https://pytz-deprecation-shim.readthedocs.io/en/latest/migration.html\n",
      "  date_obj = stz.localize(date_obj)\n"
     ]
    },
    {
     "name": "stdout",
     "output_type": "stream",
     "text": [
      "/data/amandeep/Github/time-qualifier-prediction/data/eval_output/output-base_v2.tsv-25000 2 85\n"
     ]
    },
    {
     "name": "stderr",
     "output_type": "stream",
     "text": [
      "/nas/home/amandeep/miniconda3/envs/python3/lib/python3.9/site-packages/torch/autocast_mode.py:162: UserWarning: User provided device_type of 'cuda', but CUDA is not available. Disabling\n",
      "  warnings.warn('User provided device_type of \\'cuda\\', but CUDA is not available. Disabling')\n",
      "/nas/home/amandeep/miniconda3/envs/python3/lib/python3.9/site-packages/dateparser/date_parser.py:35: PytzUsageWarning: The localize method is no longer necessary, as this time zone supports the fold attribute (PEP 495). For more details on migrating to a PEP 495-compliant implementation, see https://pytz-deprecation-shim.readthedocs.io/en/latest/migration.html\n",
      "  date_obj = stz.localize(date_obj)\n"
     ]
    },
    {
     "name": "stdout",
     "output_type": "stream",
     "text": [
      "/data/amandeep/Github/time-qualifier-prediction/data/eval_output/output-base_v2.tsv-30000 1 85\n"
     ]
    },
    {
     "name": "stderr",
     "output_type": "stream",
     "text": [
      "/nas/home/amandeep/miniconda3/envs/python3/lib/python3.9/site-packages/torch/autocast_mode.py:162: UserWarning: User provided device_type of 'cuda', but CUDA is not available. Disabling\n",
      "  warnings.warn('User provided device_type of \\'cuda\\', but CUDA is not available. Disabling')\n",
      "/nas/home/amandeep/miniconda3/envs/python3/lib/python3.9/site-packages/dateparser/date_parser.py:35: PytzUsageWarning: The localize method is no longer necessary, as this time zone supports the fold attribute (PEP 495). For more details on migrating to a PEP 495-compliant implementation, see https://pytz-deprecation-shim.readthedocs.io/en/latest/migration.html\n",
      "  date_obj = stz.localize(date_obj)\n"
     ]
    },
    {
     "name": "stdout",
     "output_type": "stream",
     "text": [
      "/data/amandeep/Github/time-qualifier-prediction/data/eval_output/output-base_v2.tsv-35000 1 85\n"
     ]
    },
    {
     "name": "stderr",
     "output_type": "stream",
     "text": [
      "/nas/home/amandeep/miniconda3/envs/python3/lib/python3.9/site-packages/torch/autocast_mode.py:162: UserWarning: User provided device_type of 'cuda', but CUDA is not available. Disabling\n",
      "  warnings.warn('User provided device_type of \\'cuda\\', but CUDA is not available. Disabling')\n",
      "/nas/home/amandeep/miniconda3/envs/python3/lib/python3.9/site-packages/dateparser/date_parser.py:35: PytzUsageWarning: The localize method is no longer necessary, as this time zone supports the fold attribute (PEP 495). For more details on migrating to a PEP 495-compliant implementation, see https://pytz-deprecation-shim.readthedocs.io/en/latest/migration.html\n",
      "  date_obj = stz.localize(date_obj)\n"
     ]
    },
    {
     "name": "stdout",
     "output_type": "stream",
     "text": [
      "/data/amandeep/Github/time-qualifier-prediction/data/eval_output/output-base_v2.tsv-40000 0 85\n"
     ]
    },
    {
     "name": "stderr",
     "output_type": "stream",
     "text": [
      "/nas/home/amandeep/miniconda3/envs/python3/lib/python3.9/site-packages/torch/autocast_mode.py:162: UserWarning: User provided device_type of 'cuda', but CUDA is not available. Disabling\n",
      "  warnings.warn('User provided device_type of \\'cuda\\', but CUDA is not available. Disabling')\n",
      "/nas/home/amandeep/miniconda3/envs/python3/lib/python3.9/site-packages/dateparser/date_parser.py:35: PytzUsageWarning: The localize method is no longer necessary, as this time zone supports the fold attribute (PEP 495). For more details on migrating to a PEP 495-compliant implementation, see https://pytz-deprecation-shim.readthedocs.io/en/latest/migration.html\n",
      "  date_obj = stz.localize(date_obj)\n"
     ]
    },
    {
     "name": "stdout",
     "output_type": "stream",
     "text": [
      "/data/amandeep/Github/time-qualifier-prediction/data/eval_output/output-base_v2.tsv-45000 1 85\n"
     ]
    },
    {
     "name": "stderr",
     "output_type": "stream",
     "text": [
      "/nas/home/amandeep/miniconda3/envs/python3/lib/python3.9/site-packages/torch/autocast_mode.py:162: UserWarning: User provided device_type of 'cuda', but CUDA is not available. Disabling\n",
      "  warnings.warn('User provided device_type of \\'cuda\\', but CUDA is not available. Disabling')\n",
      "/nas/home/amandeep/miniconda3/envs/python3/lib/python3.9/site-packages/dateparser/date_parser.py:35: PytzUsageWarning: The localize method is no longer necessary, as this time zone supports the fold attribute (PEP 495). For more details on migrating to a PEP 495-compliant implementation, see https://pytz-deprecation-shim.readthedocs.io/en/latest/migration.html\n",
      "  date_obj = stz.localize(date_obj)\n"
     ]
    },
    {
     "name": "stdout",
     "output_type": "stream",
     "text": [
      "/data/amandeep/Github/time-qualifier-prediction/data/eval_output/output-base_v2.tsv-5000 5 85\n"
     ]
    },
    {
     "name": "stderr",
     "output_type": "stream",
     "text": [
      "/nas/home/amandeep/miniconda3/envs/python3/lib/python3.9/site-packages/torch/autocast_mode.py:162: UserWarning: User provided device_type of 'cuda', but CUDA is not available. Disabling\n",
      "  warnings.warn('User provided device_type of \\'cuda\\', but CUDA is not available. Disabling')\n",
      "/nas/home/amandeep/miniconda3/envs/python3/lib/python3.9/site-packages/dateparser/date_parser.py:35: PytzUsageWarning: The localize method is no longer necessary, as this time zone supports the fold attribute (PEP 495). For more details on migrating to a PEP 495-compliant implementation, see https://pytz-deprecation-shim.readthedocs.io/en/latest/migration.html\n",
      "  date_obj = stz.localize(date_obj)\n"
     ]
    },
    {
     "name": "stdout",
     "output_type": "stream",
     "text": [
      "/data/amandeep/Github/time-qualifier-prediction/data/eval_output/output-base_v2.tsv-50000 0 85\n"
     ]
    },
    {
     "name": "stderr",
     "output_type": "stream",
     "text": [
      "/nas/home/amandeep/miniconda3/envs/python3/lib/python3.9/site-packages/torch/autocast_mode.py:162: UserWarning: User provided device_type of 'cuda', but CUDA is not available. Disabling\n",
      "  warnings.warn('User provided device_type of \\'cuda\\', but CUDA is not available. Disabling')\n",
      "/nas/home/amandeep/miniconda3/envs/python3/lib/python3.9/site-packages/dateparser/date_parser.py:35: PytzUsageWarning: The localize method is no longer necessary, as this time zone supports the fold attribute (PEP 495). For more details on migrating to a PEP 495-compliant implementation, see https://pytz-deprecation-shim.readthedocs.io/en/latest/migration.html\n",
      "  date_obj = stz.localize(date_obj)\n"
     ]
    },
    {
     "name": "stdout",
     "output_type": "stream",
     "text": [
      "/data/amandeep/Github/time-qualifier-prediction/data/eval_output/output-base_v2.tsv-55000 1 85\n"
     ]
    },
    {
     "name": "stderr",
     "output_type": "stream",
     "text": [
      "/nas/home/amandeep/miniconda3/envs/python3/lib/python3.9/site-packages/torch/autocast_mode.py:162: UserWarning: User provided device_type of 'cuda', but CUDA is not available. Disabling\n",
      "  warnings.warn('User provided device_type of \\'cuda\\', but CUDA is not available. Disabling')\n",
      "/nas/home/amandeep/miniconda3/envs/python3/lib/python3.9/site-packages/dateparser/date_parser.py:35: PytzUsageWarning: The localize method is no longer necessary, as this time zone supports the fold attribute (PEP 495). For more details on migrating to a PEP 495-compliant implementation, see https://pytz-deprecation-shim.readthedocs.io/en/latest/migration.html\n",
      "  date_obj = stz.localize(date_obj)\n"
     ]
    },
    {
     "name": "stdout",
     "output_type": "stream",
     "text": [
      "/data/amandeep/Github/time-qualifier-prediction/data/eval_output/output-base_v2.tsv-60000 1 85\n"
     ]
    },
    {
     "name": "stderr",
     "output_type": "stream",
     "text": [
      "/nas/home/amandeep/miniconda3/envs/python3/lib/python3.9/site-packages/torch/autocast_mode.py:162: UserWarning: User provided device_type of 'cuda', but CUDA is not available. Disabling\n",
      "  warnings.warn('User provided device_type of \\'cuda\\', but CUDA is not available. Disabling')\n",
      "/nas/home/amandeep/miniconda3/envs/python3/lib/python3.9/site-packages/dateparser/date_parser.py:35: PytzUsageWarning: The localize method is no longer necessary, as this time zone supports the fold attribute (PEP 495). For more details on migrating to a PEP 495-compliant implementation, see https://pytz-deprecation-shim.readthedocs.io/en/latest/migration.html\n",
      "  date_obj = stz.localize(date_obj)\n"
     ]
    },
    {
     "name": "stdout",
     "output_type": "stream",
     "text": [
      "/data/amandeep/Github/time-qualifier-prediction/data/eval_output/output-base_v2.tsv-65000 1 85\n"
     ]
    },
    {
     "name": "stderr",
     "output_type": "stream",
     "text": [
      "/nas/home/amandeep/miniconda3/envs/python3/lib/python3.9/site-packages/torch/autocast_mode.py:162: UserWarning: User provided device_type of 'cuda', but CUDA is not available. Disabling\n",
      "  warnings.warn('User provided device_type of \\'cuda\\', but CUDA is not available. Disabling')\n",
      "/nas/home/amandeep/miniconda3/envs/python3/lib/python3.9/site-packages/dateparser/date_parser.py:35: PytzUsageWarning: The localize method is no longer necessary, as this time zone supports the fold attribute (PEP 495). For more details on migrating to a PEP 495-compliant implementation, see https://pytz-deprecation-shim.readthedocs.io/en/latest/migration.html\n",
      "  date_obj = stz.localize(date_obj)\n"
     ]
    },
    {
     "name": "stdout",
     "output_type": "stream",
     "text": [
      "/data/amandeep/Github/time-qualifier-prediction/data/eval_output/output-base_v2.tsv-70000 2 85\n"
     ]
    },
    {
     "name": "stderr",
     "output_type": "stream",
     "text": [
      "/nas/home/amandeep/miniconda3/envs/python3/lib/python3.9/site-packages/torch/autocast_mode.py:162: UserWarning: User provided device_type of 'cuda', but CUDA is not available. Disabling\n",
      "  warnings.warn('User provided device_type of \\'cuda\\', but CUDA is not available. Disabling')\n",
      "/nas/home/amandeep/miniconda3/envs/python3/lib/python3.9/site-packages/dateparser/date_parser.py:35: PytzUsageWarning: The localize method is no longer necessary, as this time zone supports the fold attribute (PEP 495). For more details on migrating to a PEP 495-compliant implementation, see https://pytz-deprecation-shim.readthedocs.io/en/latest/migration.html\n",
      "  date_obj = stz.localize(date_obj)\n"
     ]
    },
    {
     "name": "stdout",
     "output_type": "stream",
     "text": [
      "/data/amandeep/Github/time-qualifier-prediction/data/eval_output/output-base_v2.tsv-75000 2 85\n"
     ]
    },
    {
     "name": "stderr",
     "output_type": "stream",
     "text": [
      "/nas/home/amandeep/miniconda3/envs/python3/lib/python3.9/site-packages/torch/autocast_mode.py:162: UserWarning: User provided device_type of 'cuda', but CUDA is not available. Disabling\n",
      "  warnings.warn('User provided device_type of \\'cuda\\', but CUDA is not available. Disabling')\n",
      "/nas/home/amandeep/miniconda3/envs/python3/lib/python3.9/site-packages/dateparser/date_parser.py:35: PytzUsageWarning: The localize method is no longer necessary, as this time zone supports the fold attribute (PEP 495). For more details on migrating to a PEP 495-compliant implementation, see https://pytz-deprecation-shim.readthedocs.io/en/latest/migration.html\n",
      "  date_obj = stz.localize(date_obj)\n"
     ]
    },
    {
     "name": "stdout",
     "output_type": "stream",
     "text": [
      "/data/amandeep/Github/time-qualifier-prediction/data/eval_output/output-base_v2.tsv-80000 4 85\n"
     ]
    },
    {
     "name": "stderr",
     "output_type": "stream",
     "text": [
      "/nas/home/amandeep/miniconda3/envs/python3/lib/python3.9/site-packages/torch/autocast_mode.py:162: UserWarning: User provided device_type of 'cuda', but CUDA is not available. Disabling\n",
      "  warnings.warn('User provided device_type of \\'cuda\\', but CUDA is not available. Disabling')\n",
      "/nas/home/amandeep/miniconda3/envs/python3/lib/python3.9/site-packages/dateparser/date_parser.py:35: PytzUsageWarning: The localize method is no longer necessary, as this time zone supports the fold attribute (PEP 495). For more details on migrating to a PEP 495-compliant implementation, see https://pytz-deprecation-shim.readthedocs.io/en/latest/migration.html\n",
      "  date_obj = stz.localize(date_obj)\n"
     ]
    },
    {
     "name": "stdout",
     "output_type": "stream",
     "text": [
      "/data/amandeep/Github/time-qualifier-prediction/data/eval_output/output-base_v2.tsv-85000 2 85\n"
     ]
    },
    {
     "name": "stderr",
     "output_type": "stream",
     "text": [
      "/nas/home/amandeep/miniconda3/envs/python3/lib/python3.9/site-packages/torch/autocast_mode.py:162: UserWarning: User provided device_type of 'cuda', but CUDA is not available. Disabling\n",
      "  warnings.warn('User provided device_type of \\'cuda\\', but CUDA is not available. Disabling')\n",
      "/nas/home/amandeep/miniconda3/envs/python3/lib/python3.9/site-packages/dateparser/date_parser.py:35: PytzUsageWarning: The localize method is no longer necessary, as this time zone supports the fold attribute (PEP 495). For more details on migrating to a PEP 495-compliant implementation, see https://pytz-deprecation-shim.readthedocs.io/en/latest/migration.html\n",
      "  date_obj = stz.localize(date_obj)\n"
     ]
    },
    {
     "name": "stdout",
     "output_type": "stream",
     "text": [
      "/data/amandeep/Github/time-qualifier-prediction/data/eval_output/output-base_v2.tsv-90000 2 85\n"
     ]
    },
    {
     "name": "stderr",
     "output_type": "stream",
     "text": [
      "/nas/home/amandeep/miniconda3/envs/python3/lib/python3.9/site-packages/torch/autocast_mode.py:162: UserWarning: User provided device_type of 'cuda', but CUDA is not available. Disabling\n",
      "  warnings.warn('User provided device_type of \\'cuda\\', but CUDA is not available. Disabling')\n",
      "/nas/home/amandeep/miniconda3/envs/python3/lib/python3.9/site-packages/dateparser/date_parser.py:35: PytzUsageWarning: The localize method is no longer necessary, as this time zone supports the fold attribute (PEP 495). For more details on migrating to a PEP 495-compliant implementation, see https://pytz-deprecation-shim.readthedocs.io/en/latest/migration.html\n",
      "  date_obj = stz.localize(date_obj)\n"
     ]
    },
    {
     "name": "stdout",
     "output_type": "stream",
     "text": [
      "/data/amandeep/Github/time-qualifier-prediction/data/eval_output/output-base_v2.tsv-95000 4 85\n"
     ]
    }
   ],
   "source": [
    "out_base_v2 = calculate_accuracy(annotated_file, 'output-base_v2.tsv-', evaluated_dir='/data/amandeep/Github/time-qualifier-prediction/data/eval_output')"
   ]
  },
  {
   "cell_type": "code",
   "execution_count": 87,
   "id": "9339252e-e20f-49df-b24b-b4eb681208ed",
   "metadata": {},
   "outputs": [],
   "source": [
    "out_base_v2_df = pd.DataFrame(out_base_v2)"
   ]
  },
  {
   "cell_type": "code",
   "execution_count": 88,
   "id": "6d7cecdb-5907-44b2-b694-654c13aa9a9a",
   "metadata": {},
   "outputs": [
    {
     "data": {
      "text/plain": [
       "<AxesSubplot:xlabel='epoch'>"
      ]
     },
     "execution_count": 88,
     "metadata": {},
     "output_type": "execute_result"
    },
    {
     "data": {
      "image/png": "[encoded data removed]",
      "text/plain": [
       "<Figure size 432x288 with 1 Axes>"
      ]
     },
     "metadata": {
      "needs_background": "light"
     },
     "output_type": "display_data"
    }
   ],
   "source": [
    "out_base_v2_df['epoch'] = out_base_v2_df['file'].map(lambda x: int(x.split('-')[2]))\n",
    "out_base_v2_df.sort_values(by='epoch').plot(x='epoch', y='accuracy', kind='line')"
   ]
  },
  {
   "cell_type": "code",
   "execution_count": null,
   "id": "9d40ae01-f90f-4fb2-847a-4c2152fdbcb1",
   "metadata": {},
   "outputs": [],
   "source": []
  }
 ],
 "metadata": {
  "kernelspec": {
   "display_name": "python39",
   "language": "python",
   "name": "python39"
  },
  "language_info": {
   "codemirror_mode": {
    "name": "ipython",
    "version": 3
   },
   "file_extension": ".py",
   "mimetype": "text/x-python",
   "name": "python",
   "nbconvert_exporter": "python",
   "pygments_lexer": "ipython3",
   "version": "3.9.12"
  }
 },
 "nbformat": 4,
 "nbformat_minor": 5
}
