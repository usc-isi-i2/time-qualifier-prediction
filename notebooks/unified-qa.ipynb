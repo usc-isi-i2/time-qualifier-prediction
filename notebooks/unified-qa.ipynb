{
 "cells": [
  {
   "cell_type": "code",
   "execution_count": 12,
   "id": "0181ff4e-1103-4402-ba89-87f8446a2971",
   "metadata": {},
   "outputs": [],
   "source": [
    "import json\n",
    "from transformers import T5Tokenizer, T5ForConditionalGeneration\n",
    "import spacy\n",
    "import dateparser\n",
    "import pandas as pds\n",
    "from utils import parse_date, match_dates_based_on_precision"
   ]
  },
  {
   "cell_type": "code",
   "execution_count": 2,
   "id": "37e9175d-5cc1-47a5-98e7-54ae0b27d36f",
   "metadata": {},
   "outputs": [],
   "source": [
    "nlp = spacy.load('en_core_web_trf')"
   ]
  },
  {
   "cell_type": "code",
   "execution_count": 3,
   "id": "0059e481-7cb4-4a21-825b-bf0b7b179ba4",
   "metadata": {},
   "outputs": [
    {
     "data": {
      "text/plain": [
       "spacy.lang.en.English"
      ]
     },
     "execution_count": 3,
     "metadata": {},
     "output_type": "execute_result"
    }
   ],
   "source": [
    "type(nlp)"
   ]
  },
  {
   "cell_type": "code",
   "execution_count": 4,
   "id": "145bd8e6-db0c-4d3a-8008-508cfb88ca19",
   "metadata": {},
   "outputs": [],
   "source": [
    "model_name = \"allenai/unifiedqa-t5-base\" "
   ]
  },
  {
   "cell_type": "code",
   "execution_count": 5,
   "id": "6733d52f-f7c3-400f-a6fa-50e9534a8d3e",
   "metadata": {},
   "outputs": [
    {
     "name": "stderr",
     "output_type": "stream",
     "text": [
      "Downloading: 100%|████████████████████████████████████████████████████████████████████| 773k/773k [00:00<00:00, 2.65MB/s]\n",
      "Downloading: 100%|███████████████████████████████████████████████████████████████████| 1.74k/1.74k [00:00<00:00, 766kB/s]\n",
      "Downloading: 100%|████████████████████████████████████████████████████████████████████| 25.0/25.0 [00:00<00:00, 12.0kB/s]\n",
      "Downloading: 100%|███████████████████████████████████████████████████████████████████| 1.21k/1.21k [00:00<00:00, 563kB/s]\n",
      "Downloading: 100%|████████████████████████████████████████████████████████████████████| 850M/850M [00:17<00:00, 50.8MB/s]\n"
     ]
    }
   ],
   "source": [
    "tokenizer = T5Tokenizer.from_pretrained(model_name)\n",
    "model = T5ForConditionalGeneration.from_pretrained(model_name)"
   ]
  },
  {
   "cell_type": "code",
   "execution_count": 44,
   "id": "1930da35-33fb-49dc-8496-b6d046087732",
   "metadata": {},
   "outputs": [],
   "source": [
    "def run_model(input_string, **generator_args):\n",
    "    input_ids = tokenizer.encode(input_string, return_tensors=\"pt\")\n",
    "    res = model.generate(input_ids, **generator_args)\n",
    "    return tokenizer.batch_decode(res, skip_special_tokens=True)"
   ]
  },
  {
   "cell_type": "code",
   "execution_count": 7,
   "id": "e6888e47-f66d-4416-addf-92fa9c885155",
   "metadata": {},
   "outputs": [
    {
     "data": {
      "text/plain": [
       "['22 November 2018']"
      ]
     },
     "execution_count": 7,
     "metadata": {},
     "output_type": "execute_result"
    }
   ],
   "source": [
    "run_model(\"when did Muhammad V of Kelantan marry Oksana?\\n\\\"Muhammad V of Kelantan\\\" 2008. As a divorcee, he was the first Yang di-Pertuan Agong in Malaysian history to reign without a Raja Permaisuri Agong. On 22 November 2018, he married Rihana Oxana Gorbatenko [\\\"\\\"Cik\\\"\\\" Rihana binti Abdullah] (n\\u00e9e Oksana Andreievna Gorbatenko on 20 January 1994) from Russia, a 2015 Miss Moscow beauty pageant winner, in Barvikha, Moscow Oblast. She is the elder daughter of Dr. Andrei Ivanovich Gorbatenko, of Taganrog, Rostov-on-Don, orthopaedic surgeon and traumatologist, sometime Assistant of the Department of Traumatology & Orthopedics of the Rostov State Medical University, originally from Astrakhan, by his wife, Lyudmila, n\\u00e9e Voevodina, concert pianist. Sultan Muhammad\")"
   ]
  },
  {
   "cell_type": "code",
   "execution_count": 45,
   "id": "1e40cd98-de9f-4ab9-a45f-17583a457587",
   "metadata": {},
   "outputs": [],
   "source": [
    "gt_questions = json.load(open('../data/dpr-post-process-filtered-matched-gt.json'))"
   ]
  },
  {
   "cell_type": "code",
   "execution_count": 46,
   "id": "f8a7c42f-4ad6-4258-9b45-6cf8260cbc25",
   "metadata": {},
   "outputs": [
    {
     "data": {
      "text/plain": [
       "{'q': 'when did Sujarinee Vivacharawongse marry Vajiralongkorn I of?',\n",
       " 'a': '1994-02-01',\n",
       " 'n1': 'Q16140394',\n",
       " 'n2': 'Q548733',\n",
       " 'n1_label': 'Sujarinee Vivacharawongse',\n",
       " 'n2_label': 'Vajiralongkorn I of Thailand',\n",
       " 'url': 'http://en.wikipedia.org/wiki/Sujarinee_Vivacharawongse',\n",
       " 'precision': '10',\n",
       " 'spacy_matched': True,\n",
       " 'matched_dpr_answers': [{'dpr_answer': '\"Sujarinee Vivacharawongse\"\\nhaeng kam\"\" and \"\"Manut pralat\"\". In 1977 she co-starred in the films \"\"Sip ha yok yok sip hok mai yon\"\" and \"\"Lueat nai din\"\". In 1978 and 1979 she was a leading actress in the film \"\"Saen saep\"\", \"\"Ai thuek\"\" and \"\"Hua chai thi chom din\"\". In August 1979, she announced her retirement from the entertainment industry. When Vajiralongkorn was introduced to Yuvadhida Polpraserth, she was an aspiring actress. She became his steady companion and gave birth to four sons and a daughter: They were married at a palace ceremony in February 1994, where they were blessed by the King',\n",
       "   'dpr_score': 78.2723388671875,\n",
       "   'dpr_docid': '18445707',\n",
       "   'rank': 5,\n",
       "   'parsed_dates': [{'date': '1977-07-01',\n",
       "     'year': 1977,\n",
       "     'month': '07',\n",
       "     'day': '01'},\n",
       "    {'date': '1978-07-01', 'year': 1978, 'month': '07', 'day': '01'},\n",
       "    {'date': '1979-07-01', 'year': 1979, 'month': '07', 'day': '01'},\n",
       "    {'date': '1979-08-01', 'year': 1979, 'month': '08', 'day': '01'},\n",
       "    {'date': '1994-02-01', 'year': 1994, 'month': '02', 'day': '01'}],\n",
       "   'prov': 'month',\n",
       "   'matched': True}]}"
      ]
     },
     "execution_count": 46,
     "metadata": {},
     "output_type": "execute_result"
    }
   ],
   "source": [
    "gt_questions[3131]"
   ]
  },
  {
   "cell_type": "code",
   "execution_count": 47,
   "id": "95d71b12-5157-484a-94b6-ed2125c48795",
   "metadata": {},
   "outputs": [
    {
     "name": "stdout",
     "output_type": "stream",
     "text": [
      "CPU times: user 14h 50min 40s, sys: 35min 32s, total: 15h 26min 13s\n",
      "Wall time: 46min 24s\n"
     ]
    }
   ],
   "source": [
    "%%time\n",
    "unified_answers = []\n",
    "for question in gt_questions:\n",
    "    q = question['q']\n",
    "    answers = question['matched_dpr_answers']\n",
    "    for a in answers:\n",
    "        dpr_a = a['dpr_answer'].split('\\n')[1]\n",
    "        unified_qa_string = f\"{q}\\n{dpr_a}\"\n",
    "        unified_ans = run_model(unified_qa_string)\n",
    "        a['unified_qa_answers'] = unified_ans\n",
    "    unified_answers.append(question)\n",
    "    "
   ]
  },
  {
   "cell_type": "code",
   "execution_count": 31,
   "id": "aaa73831-2933-43e3-a444-bb1b9414d98e",
   "metadata": {},
   "outputs": [
    {
     "data": {
      "text/plain": [
       "13355"
      ]
     },
     "execution_count": 31,
     "metadata": {},
     "output_type": "execute_result"
    }
   ],
   "source": [
    "len(unified_answers)"
   ]
  },
  {
   "cell_type": "code",
   "execution_count": null,
   "id": "37bf5802-2c41-478b-ad41-3cca3db9a88e",
   "metadata": {},
   "outputs": [],
   "source": []
  },
  {
   "cell_type": "code",
   "execution_count": 48,
   "id": "6f3be248-0d81-41fb-b6df-4e81eb0f6aa7",
   "metadata": {},
   "outputs": [],
   "source": [
    "parsed_unified_qa_answers = []\n",
    "for q in unified_answers:\n",
    "    matched_dpr_answers = q['matched_dpr_answers']\n",
    "    for mda in matched_dpr_answers:\n",
    "        unified_qa_answers = mda['unified_qa_answers']\n",
    "        unified_parsed_dates = []\n",
    "        for uaa in unified_qa_answers:\n",
    "            parsed_dates = parse_date(uaa, nlp)\n",
    "            if parsed_dates:\n",
    "                unified_parsed_dates += parsed_dates\n",
    "        mda['unified_parsed_dates'] = unified_parsed_dates\n",
    "    parsed_unified_qa_answers.append(q)"
   ]
  },
  {
   "cell_type": "code",
   "execution_count": 33,
   "id": "238c3221-4d05-484b-aa00-58bd69c79a5b",
   "metadata": {},
   "outputs": [
    {
     "data": {
      "text/plain": [
       "{'q': 'when did William Le Poer Trench marry Sarah?',\n",
       " 'a': '1800-01-01',\n",
       " 'n1': 'Q8014388',\n",
       " 'n2': 'Q75301211',\n",
       " 'n1_label': 'William Le Poer Trench',\n",
       " 'n2_label': 'Sarah Cuppage',\n",
       " 'url': 'http://en.wikipedia.org/wiki/William_Le_Poer_Trench_(Royal_Navy_officer)',\n",
       " 'precision': '9',\n",
       " 'matched_dpr_answers': [{'dpr_answer': '\"William Le Poer Trench (Royal Navy officer)\"\\nCustoms and Port Duties in Ireland. He was married twice, first on 8 March 1800 to Sarah Cuppage, daughter of John Loftus Cuppage. Sarah died in June 1834, and on 1 February 1837 William married a second time to Margaret Downing, daughter of Dawson Downing and Anne Boyd. William Le Poer Trench (Royal Navy officer) Rear-Admiral The Hon. William Le Poer Trench (4 July 1771 – 14 August 1846) was born in Garbally, Galway, Ireland to William Power Keating Trench, 1st Earl of Clancarty and Anne Gardiner. He acted for a considerable period as the agent of the estates of',\n",
       "   'dpr_score': 70.29373931884766,\n",
       "   'dpr_docid': '12560479',\n",
       "   'rank': 2,\n",
       "   'parsed_dates': [{'date': '1800-03-08',\n",
       "     'year': 1800,\n",
       "     'month': '03',\n",
       "     'day': '08'},\n",
       "    {'date': '1834-06-01', 'year': 1834, 'month': '06', 'day': '01'},\n",
       "    {'date': '1837-02-01', 'year': 1837, 'month': '02', 'day': '01'},\n",
       "    {'date': '1771-07-04', 'year': 1771, 'month': '07', 'day': '04'}],\n",
       "   'prov': 'year',\n",
       "   'matched': True,\n",
       "   'unified_qa_answers': ['8 March 1800'],\n",
       "   'unified_parsed_dates': [{'date': '1800-03-08',\n",
       "     'year': 1800,\n",
       "     'month': '03',\n",
       "     'day': '08'}]}]}"
      ]
     },
     "execution_count": 33,
     "metadata": {},
     "output_type": "execute_result"
    }
   ],
   "source": [
    "parsed_unified_qa_answers[13300]"
   ]
  },
  {
   "cell_type": "code",
   "execution_count": 34,
   "id": "e5531544-f1c8-465d-af14-17e45432ae55",
   "metadata": {},
   "outputs": [
    {
     "data": {
      "text/plain": [
       "13355"
      ]
     },
     "execution_count": 34,
     "metadata": {},
     "output_type": "execute_result"
    }
   ],
   "source": [
    "len(parsed_unified_qa_answers)"
   ]
  },
  {
   "cell_type": "code",
   "execution_count": 49,
   "id": "d0a22b4b-eae5-4136-a1b4-7d99826dcb18",
   "metadata": {},
   "outputs": [
    {
     "data": {
      "text/plain": [
       "21544360"
      ]
     },
     "execution_count": 49,
     "metadata": {},
     "output_type": "execute_result"
    }
   ],
   "source": [
    "open('../data/dpr-post-process-unified-qa.json', 'w').write(json.dumps(parsed_unified_qa_answers))"
   ]
  },
  {
   "cell_type": "code",
   "execution_count": 36,
   "id": "7fb41aae-61fe-4a8c-8e6d-abc431e6674f",
   "metadata": {},
   "outputs": [],
   "source": [
    "q_to_p_dict = json.load(open('../data/questions_o_precision_dict.json'))"
   ]
  },
  {
   "cell_type": "code",
   "execution_count": 50,
   "id": "cade58ad-573c-4267-87c3-459d393533ee",
   "metadata": {},
   "outputs": [],
   "source": [
    "def match_dpr_dates(input_file, output_file, dpr_answer_field='matched_dpr_answers'):\n",
    "    out = open(output_file, 'w')\n",
    "    f = json.load(open(input_file))\n",
    "    c = 0 \n",
    "    unified_qa_date_matched = []\n",
    "    for line in f:\n",
    "        any_match = False\n",
    "        c += 1\n",
    "        answers = line[dpr_answer_field]\n",
    "        for ans in answers:\n",
    "            matched = False\n",
    "            parsed_dates = ans.get('unified_parsed_dates', None)\n",
    "            if parsed_dates:\n",
    "                for pd in parsed_dates:\n",
    "                    matched, prov = match_dates_based_on_precision(line['a'], \n",
    "                                                                   q_to_p_dict[line['q']], \n",
    "                                                                   pd)\n",
    "                    if matched:\n",
    "                        ans['uqa_prov'] = prov\n",
    "                        any_match = True\n",
    "                        break\n",
    "            ans['uqa_matched'] = matched\n",
    "        if not any_match:\n",
    "            unified_qa_date_matched.append(line)\n",
    "        else:\n",
    "            line['uqa_matched'] = any_match\n",
    "        out.write(json.dumps(line))\n",
    "        out.write('\\n')\n",
    "    return unified_qa_date_matched"
   ]
  },
  {
   "cell_type": "code",
   "execution_count": 51,
   "id": "ae60c69b-ed32-40fc-946b-ccd14416aa3c",
   "metadata": {},
   "outputs": [],
   "source": [
    "no_match_unified_qa = match_dpr_dates('../data/dpr-post-process-unified-qa.json',\n",
    "                    '../data/dpr-post-process-unified-qa-matched.jl')"
   ]
  },
  {
   "cell_type": "code",
   "execution_count": 52,
   "id": "bc200337-eecd-4d13-a354-19612b78724d",
   "metadata": {},
   "outputs": [
    {
     "data": {
      "text/plain": [
       "1639"
      ]
     },
     "execution_count": 52,
     "metadata": {},
     "output_type": "execute_result"
    }
   ],
   "source": [
    "len(no_match_unified_qa)"
   ]
  },
  {
   "cell_type": "code",
   "execution_count": 41,
   "id": "1b3fb890-04e3-46d4-8137-9266988d94c7",
   "metadata": {},
   "outputs": [
    {
     "data": {
      "text/plain": [
       "{'q': 'when did Joshua Kushner marry Karlie?',\n",
       " 'a': '2018-10-01',\n",
       " 'n1': 'Q6289985',\n",
       " 'n2': 'Q292749',\n",
       " 'n1_label': 'Joshua Kushner',\n",
       " 'n2_label': 'Karlie Kloss',\n",
       " 'url': 'http://en.wikipedia.org/wiki/Joshua_Kushner',\n",
       " 'precision': '10',\n",
       " 'matched_dpr_answers': [{'dpr_answer': '\"Joshua Kushner\"\\nis a technology platform designed to help certain types of clients, such as family offices and endowments, invest in real estate. Kushner dated model Karlie Kloss since 2012. They got engaged in July 2018, after six years of dating. Kloss converted to Judaism (Kushner\\'s faith) in 2018. Kushner and Kloss got married on October 18, 2018. Although he is the brother of President Trump\\'s Senior Advisor and son-in-law, Jared Kushner, Joshua stated through his spokesman that \"\"he loved his brother and did not want to say anything that might embarrass him. Nevertheless, the spokesman also said that Josh is a',\n",
       "   'dpr_score': 75.5737075805664,\n",
       "   'dpr_docid': '14991307',\n",
       "   'rank': 5,\n",
       "   'parsed_dates': [{'date': '2012-07-01',\n",
       "     'year': 2012,\n",
       "     'month': '07',\n",
       "     'day': '01'},\n",
       "    {'date': '2018-07-01', 'year': 2018, 'month': '07', 'day': '01'},\n",
       "    {'date': '2016-07-06', 'year': 2016, 'month': '07', 'day': '06'},\n",
       "    {'date': '2018-07-01', 'year': 2018, 'month': '07', 'day': '01'},\n",
       "    {'date': '2018-10-18', 'year': 2018, 'month': '10', 'day': '18'}],\n",
       "   'prov': 'month',\n",
       "   'matched': True,\n",
       "   'unified_qa_answers': ['July 2018, after six years of dating'],\n",
       "   'unified_parsed_dates': [{'date': '2018-07-01',\n",
       "     'year': 2018,\n",
       "     'month': '07',\n",
       "     'day': '01'},\n",
       "    {'date': '2016-07-07', 'year': 2016, 'month': '07', 'day': '07'}],\n",
       "   'uqa_matched': False}]}"
      ]
     },
     "execution_count": 41,
     "metadata": {},
     "output_type": "execute_result"
    }
   ],
   "source": [
    "no_match_unified_qa[3]"
   ]
  },
  {
   "cell_type": "code",
   "execution_count": 42,
   "id": "2cbe3ee6-7791-4152-b63b-9af4fcc17afb",
   "metadata": {},
   "outputs": [],
   "source": [
    "def calculate_mrr(input_file, answer_field='matched_dpr_answers'):\n",
    "    f = open(input_file)\n",
    "    c = 0\n",
    "    rrs = 0\n",
    "    rank_distribution = {}\n",
    "    for line in f:\n",
    "        c += 1\n",
    "        j = json.loads(line.strip())\n",
    "        answers = j[answer_field]\n",
    "        for answer in answers:\n",
    "            if answer['uqa_matched']:\n",
    "                rank = answer['rank']\n",
    "                rr = 1.0 / float(rank)\n",
    "                if rank  not in rank_distribution:\n",
    "                    rank_distribution[rank] = 0\n",
    "                rank_distribution[rank] += 1\n",
    "                rrs += rr\n",
    "                break\n",
    "    print(rrs / c)\n",
    "    print(c)\n",
    "    return rank_distribution"
   ]
  },
  {
   "cell_type": "code",
   "execution_count": 43,
   "id": "deb26491-311f-46e1-a225-4d3abef5efc0",
   "metadata": {},
   "outputs": [
    {
     "name": "stdout",
     "output_type": "stream",
     "text": [
      "0.39311308231469877\n",
      "13355\n"
     ]
    }
   ],
   "source": [
    "rd = calculate_mrr('../data/dpr-post-process-unified-qa-matched.jl')"
   ]
  },
  {
   "cell_type": "code",
   "execution_count": null,
   "id": "8c6f4839-9d92-44dc-aed5-a6982d2214f2",
   "metadata": {},
   "outputs": [],
   "source": [
    "13382/14797"
   ]
  },
  {
   "cell_type": "code",
   "execution_count": null,
   "id": "e5d618b3-264f-4ab0-a3d9-cbda1e4fe557",
   "metadata": {},
   "outputs": [],
   "source": [
    "rank_df = pds.DataFrame([{'rank': x, 'count': rd[x]} for x in rd]).sort_values(by='rank')"
   ]
  },
  {
   "cell_type": "code",
   "execution_count": null,
   "id": "fe10b8fe-a339-4508-b8c4-2f95ea76e21c",
   "metadata": {},
   "outputs": [],
   "source": [
    "rank_df.plot(kind='line', x='rank', y='count', ylabel='count')"
   ]
  },
  {
   "cell_type": "code",
   "execution_count": null,
   "id": "0feff22e-df26-4a30-ae1d-ea95a8c89efe",
   "metadata": {},
   "outputs": [],
   "source": []
  }
 ],
 "metadata": {
  "kernelspec": {
   "display_name": "python39",
   "language": "python",
   "name": "python39"
  },
  "language_info": {
   "codemirror_mode": {
    "name": "ipython",
    "version": 3
   },
   "file_extension": ".py",
   "mimetype": "text/x-python",
   "name": "python",
   "nbconvert_exporter": "python",
   "pygments_lexer": "ipython3",
   "version": "3.9.12"
  }
 },
 "nbformat": 4,
 "nbformat_minor": 5
}
