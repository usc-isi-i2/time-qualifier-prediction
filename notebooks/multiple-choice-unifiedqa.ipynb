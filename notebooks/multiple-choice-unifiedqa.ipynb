{
 "cells": [
  {
   "cell_type": "code",
   "execution_count": 78,
   "id": "006dd477-0145-4f2e-8e74-602917b502ac",
   "metadata": {},
   "outputs": [],
   "source": [
    "import json\n",
    "from transformers import T5Tokenizer, T5ForConditionalGeneration\n",
    "import spacy\n",
    "from utils import run_model, match_dates_based_on_precision, parse_date, month_dict\n",
    "import pandas as pd\n",
    "import random\n",
    "from IPython.display import HTML"
   ]
  },
  {
   "cell_type": "code",
   "execution_count": 22,
   "id": "045772e2-3347-46fd-8aca-bdf05c6ec162",
   "metadata": {},
   "outputs": [],
   "source": [
    "import warnings\n",
    "warnings.filterwarnings(\"ignore\")"
   ]
  },
  {
   "cell_type": "code",
   "execution_count": 16,
   "id": "a2f4a84a-41ab-4769-a1aa-b4ad1a3b2023",
   "metadata": {},
   "outputs": [],
   "source": [
    "nlp = spacy.load('en_core_web_trf')"
   ]
  },
  {
   "cell_type": "code",
   "execution_count": 2,
   "id": "34c33fcb-89b9-4194-b751-4b655a5cc818",
   "metadata": {},
   "outputs": [],
   "source": [
    "base_model_v2 = 'allenai/unifiedqa-v2-t5-base-1251000'\n",
    "large_model_v2  = 'allenai/unifiedqa-v2-t5-large-1251000'\n",
    "threeb_model_v2 = 'allenai/unifiedqa-v2-t5-3b-1251000'"
   ]
  },
  {
   "cell_type": "code",
   "execution_count": 3,
   "id": "c4549beb-0e39-4349-ae5e-6338624dfe07",
   "metadata": {},
   "outputs": [],
   "source": [
    "base_tokenizer = T5Tokenizer.from_pretrained(base_model_v2)\n",
    "base_model = T5ForConditionalGeneration.from_pretrained(base_model_v2)"
   ]
  },
  {
   "cell_type": "code",
   "execution_count": 4,
   "id": "973751bc-5330-4a0d-af7c-3418af0bc1d4",
   "metadata": {},
   "outputs": [],
   "source": [
    "large_tokenizer = T5Tokenizer.from_pretrained(large_model_v2)\n",
    "large_model = T5ForConditionalGeneration.from_pretrained(large_model_v2)"
   ]
  },
  {
   "cell_type": "code",
   "execution_count": 5,
   "id": "77a5eb3f-c7ea-4d1f-b18d-a194ec208a5c",
   "metadata": {},
   "outputs": [],
   "source": [
    "threeb_tokenizer = T5Tokenizer.from_pretrained(threeb_model_v2)\n",
    "threeb_model = T5ForConditionalGeneration.from_pretrained(threeb_model_v2)"
   ]
  },
  {
   "cell_type": "code",
   "execution_count": 24,
   "id": "42092c3c-e91e-4a5e-8031-1213bdded923",
   "metadata": {},
   "outputs": [
    {
     "data": {
      "text/plain": [
       "100"
      ]
     },
     "execution_count": 24,
     "metadata": {},
     "output_type": "execute_result"
    }
   ],
   "source": [
    "annotated_df = pd.read_csv('../data/questions-for-annotation-annotated.csv').fillna('')\n",
    "len(annotated_df)"
   ]
  },
  {
   "cell_type": "code",
   "execution_count": 25,
   "id": "f031195d-12c2-40e1-84b8-c512504cea1d",
   "metadata": {},
   "outputs": [
    {
     "data": {
      "text/html": [
       "<div>\n",
       "<style scoped>\n",
       "    .dataframe tbody tr th:only-of-type {\n",
       "        vertical-align: middle;\n",
       "    }\n",
       "\n",
       "    .dataframe tbody tr th {\n",
       "        vertical-align: top;\n",
       "    }\n",
       "\n",
       "    .dataframe thead th {\n",
       "        text-align: right;\n",
       "    }\n",
       "</style>\n",
       "<table border=\"1\" class=\"dataframe\">\n",
       "  <thead>\n",
       "    <tr style=\"text-align: right;\">\n",
       "      <th></th>\n",
       "      <th>question</th>\n",
       "      <th>answer</th>\n",
       "      <th>precision</th>\n",
       "      <th>dpr_answer</th>\n",
       "      <th>rank</th>\n",
       "      <th>filtered_rank</th>\n",
       "      <th>answerable</th>\n",
       "      <th>other_dates</th>\n",
       "    </tr>\n",
       "  </thead>\n",
       "  <tbody>\n",
       "    <tr>\n",
       "      <th>0</th>\n",
       "      <td>when did Tommy Dorsey marry Patricia?</td>\n",
       "      <td>1943-01-01</td>\n",
       "      <td>year</td>\n",
       "      <td>Tommy Dorsey New Jersey. They divorced in 1943...</td>\n",
       "      <td>1</td>\n",
       "      <td>1</td>\n",
       "      <td>yes</td>\n",
       "      <td>1956-11-26,1947-07-01,1948-03-27,2022-06-29</td>\n",
       "    </tr>\n",
       "    <tr>\n",
       "      <th>1</th>\n",
       "      <td>when did Edward Everett Hale marry Emily Baldwin?</td>\n",
       "      <td>1852-01-01</td>\n",
       "      <td>year</td>\n",
       "      <td>Edward Everett Hale Unity in Worcester, Massac...</td>\n",
       "      <td>1</td>\n",
       "      <td>1</td>\n",
       "      <td>yes</td>\n",
       "      <td>1856-07-01,1853-07-01</td>\n",
       "    </tr>\n",
       "    <tr>\n",
       "      <th>2</th>\n",
       "      <td>when did Denys Rhodes marry Margaret?</td>\n",
       "      <td>1950-07-31</td>\n",
       "      <td>day</td>\n",
       "      <td>Denys Rhodes Rhodes. Rhodes served in the Seco...</td>\n",
       "      <td>24</td>\n",
       "      <td>1</td>\n",
       "      <td>yes</td>\n",
       "      <td>1946-07-01,1950-07-01</td>\n",
       "    </tr>\n",
       "    <tr>\n",
       "      <th>3</th>\n",
       "      <td>when did Ronald Tree marry Marietta Peabody?</td>\n",
       "      <td>1947-01-01</td>\n",
       "      <td>year</td>\n",
       "      <td>Ronald Tree improved, notably including coveri...</td>\n",
       "      <td>3</td>\n",
       "      <td>1</td>\n",
       "      <td>yes</td>\n",
       "      <td>1942-09-26,1949-07-01,1943-07-01</td>\n",
       "    </tr>\n",
       "    <tr>\n",
       "      <th>4</th>\n",
       "      <td>when did Francis Jeune, 1st Baron St Helier ma...</td>\n",
       "      <td>1881-08-17</td>\n",
       "      <td>day</td>\n",
       "      <td>Francis Jeune, 1st Baron St Helier Bath (KCB)....</td>\n",
       "      <td>1</td>\n",
       "      <td>1</td>\n",
       "      <td>yes</td>\n",
       "      <td>1902-08-08,1905-02-01,1902-07-01,1902-06-26</td>\n",
       "    </tr>\n",
       "  </tbody>\n",
       "</table>\n",
       "</div>"
      ],
      "text/plain": [
       "                                            question      answer precision  \\\n",
       "0              when did Tommy Dorsey marry Patricia?  1943-01-01      year   \n",
       "1  when did Edward Everett Hale marry Emily Baldwin?  1852-01-01      year   \n",
       "2              when did Denys Rhodes marry Margaret?  1950-07-31       day   \n",
       "3       when did Ronald Tree marry Marietta Peabody?  1947-01-01      year   \n",
       "4  when did Francis Jeune, 1st Baron St Helier ma...  1881-08-17       day   \n",
       "\n",
       "                                          dpr_answer  rank  filtered_rank  \\\n",
       "0  Tommy Dorsey New Jersey. They divorced in 1943...     1              1   \n",
       "1  Edward Everett Hale Unity in Worcester, Massac...     1              1   \n",
       "2  Denys Rhodes Rhodes. Rhodes served in the Seco...    24              1   \n",
       "3  Ronald Tree improved, notably including coveri...     3              1   \n",
       "4  Francis Jeune, 1st Baron St Helier Bath (KCB)....     1              1   \n",
       "\n",
       "  answerable                                  other_dates  \n",
       "0        yes  1956-11-26,1947-07-01,1948-03-27,2022-06-29  \n",
       "1        yes                        1856-07-01,1853-07-01  \n",
       "2        yes                        1946-07-01,1950-07-01  \n",
       "3        yes             1942-09-26,1949-07-01,1943-07-01  \n",
       "4        yes  1902-08-08,1905-02-01,1902-07-01,1902-06-26  "
      ]
     },
     "execution_count": 25,
     "metadata": {},
     "output_type": "execute_result"
    }
   ],
   "source": [
    "annotated_df.head()"
   ]
  },
  {
   "cell_type": "code",
   "execution_count": 36,
   "id": "745133ac-2712-4889-a40d-4f9c30a1295c",
   "metadata": {},
   "outputs": [],
   "source": [
    "def create_other_dates(some_date, num_dates):\n",
    "    based_on = random.choice(['day', 'month', 'year'])\n",
    "    year, month, day = some_date.split('-')\n",
    "    new_dates = []\n",
    "    while num_dates > 0:\n",
    "        if based_on == 'day':\n",
    "            new_day = int(day) + num_dates\n",
    "            if int(new_day) >= 27:\n",
    "                new_day = 1\n",
    "            new_dates.append(f\"{year}-{month}-{new_day:0>2}\")\n",
    "        elif based_on == 'month':\n",
    "            new_month = int(month) + num_dates\n",
    "            if new_month > 12:\n",
    "                new_month = 1\n",
    "            new_dates.append(f\"{year}-{new_month:0>2}-{day}\")\n",
    "        elif based_on == 'year':\n",
    "            new_year = int(year) + num_dates\n",
    "            if new_year > 2019:\n",
    "                new_year = 2019\n",
    "            new_dates.append(f\"{new_year}-{month}-{day}\")\n",
    "        num_dates -= 1\n",
    "    return new_dates"
   ]
  },
  {
   "cell_type": "code",
   "execution_count": 43,
   "id": "5a84a637-8217-401c-ada1-22a66b508e13",
   "metadata": {},
   "outputs": [],
   "source": [
    "def format_dates(some_date, precision):\n",
    "    year, month, day = some_date.split('-')\n",
    "    if precision == 'day':\n",
    "        return f\"{day} {month_dict[month]} {year}\"\n",
    "    if precision == 'month':\n",
    "        return f\"{month_dict[month]} {year}\"\n",
    "    return f\"{year}\""
   ]
  },
  {
   "cell_type": "code",
   "execution_count": 69,
   "id": "970e3538-3657-4ae5-a241-bdde69a8fca0",
   "metadata": {},
   "outputs": [],
   "source": [
    "def create_mcq_run_model(annotated_df):\n",
    "    out = []\n",
    "    for _, row in annotated_df.iterrows():\n",
    "        answer = row['answer']\n",
    "        precision = row['precision']\n",
    "        if precision == 'year':\n",
    "            requires = ['year']\n",
    "        else:\n",
    "            requires = ['year', 'month']\n",
    "        xother_dates =  row['other_dates'].split(',')\n",
    "        other_dates = [x for x in xother_dates if x != '']\n",
    "        if len(other_dates) > 2:\n",
    "            other_dates = other_dates[:2]\n",
    "        other_dates.append(answer)\n",
    "        if len(other_dates) < 3:\n",
    "            other_dates.extend(create_other_dates(answer, 3 - len(other_dates)))\n",
    "        mcq = f\"(A) {format_dates(other_dates[0], precision)} (B) {format_dates(other_dates[1], precision)} (C) {format_dates(other_dates[2], precision)} (D) no answer\"\n",
    "        row['mcq'] = mcq\n",
    "        i_string = f\"{row['question']}\\n{mcq}\\n{row['dpr_answer']}\"\n",
    "        \n",
    "        base_answer = run_model(i_string, base_tokenizer, base_model)\n",
    "        row['base_answer'] = base_answer[0]\n",
    "        base_parsed_date =parse_date(base_answer[0], nlp, requires=requires)\n",
    "        if len(base_parsed_date) > 0:\n",
    "            base_matched, base_prov = match_dates_based_on_precision(answer, precision, base_parsed_date[0])\n",
    "            row['base_matched'] = base_matched\n",
    "        else:\n",
    "            row['base_matched'] = False\n",
    "            \n",
    "        large_answer = run_model(i_string, large_tokenizer, large_model)\n",
    "        row['large_answer'] = large_answer[0]\n",
    "        large_parsed_date =parse_date(large_answer[0], nlp, requires=requires)\n",
    "        if len(large_parsed_date) > 0:\n",
    "            large_matched, large_prov = match_dates_based_on_precision(answer, precision, large_parsed_date[0])\n",
    "            row['large_matched'] = large_matched\n",
    "        else:\n",
    "            row['large_matched'] = False\n",
    "            \n",
    "        threeb_answer = run_model(i_string, threeb_tokenizer, threeb_model)\n",
    "        row['threeb_answer'] = threeb_answer[0]\n",
    "        threeb_parsed_date =parse_date(threeb_answer[0], nlp, requires=requires)\n",
    "        if len(threeb_parsed_date) > 0:\n",
    "            threeb_matched, threeb_prov = match_dates_based_on_precision(answer, precision, threeb_parsed_date[0])\n",
    "            row['threeb_matched'] = threeb_matched\n",
    "        else:\n",
    "            row['threeb_matched'] = False\n",
    "        \n",
    "        out.append(row)\n",
    "    return pd.DataFrame(out)\n",
    "        \n",
    "            \n",
    "    "
   ]
  },
  {
   "cell_type": "code",
   "execution_count": 70,
   "id": "1cded689-7b68-41cc-8058-f34426b54744",
   "metadata": {},
   "outputs": [],
   "source": [
    "answer_df = create_mcq_run_model(annotated_df)"
   ]
  },
  {
   "cell_type": "code",
   "execution_count": 71,
   "id": "f14ce170-078b-45ed-b415-ab5a5cdb7de9",
   "metadata": {},
   "outputs": [
    {
     "data": {
      "text/plain": [
       "0.8352941176470589"
      ]
     },
     "execution_count": 71,
     "metadata": {},
     "output_type": "execute_result"
    }
   ],
   "source": [
    "len(answer_df[(answer_df['base_matched'] == True) & (answer_df['answerable'] == 'yes')]) / len(answer_df[answer_df['answerable'] == 'yes'])"
   ]
  },
  {
   "cell_type": "code",
   "execution_count": 72,
   "id": "6ab6f43b-e351-49c4-947e-87155d71ab4f",
   "metadata": {},
   "outputs": [
    {
     "data": {
      "text/plain": [
       "0.9529411764705882"
      ]
     },
     "execution_count": 72,
     "metadata": {},
     "output_type": "execute_result"
    }
   ],
   "source": [
    "len(answer_df[(answer_df['large_matched'] == True) & (answer_df['answerable'] == 'yes')]) / len(answer_df[answer_df['answerable'] == 'yes'])"
   ]
  },
  {
   "cell_type": "code",
   "execution_count": 73,
   "id": "4127a937-f684-48f7-ad97-01e3fb6aa70a",
   "metadata": {},
   "outputs": [
    {
     "data": {
      "text/plain": [
       "0.9647058823529412"
      ]
     },
     "execution_count": 73,
     "metadata": {},
     "output_type": "execute_result"
    }
   ],
   "source": [
    "len(answer_df[(answer_df['threeb_matched'] == True) & (answer_df['answerable'] == 'yes')]) / len(answer_df[answer_df['answerable'] == 'yes'])"
   ]
  },
  {
   "cell_type": "code",
   "execution_count": 88,
   "id": "d3f5a7de-2770-4087-81f0-c14642d75dfa",
   "metadata": {},
   "outputs": [
    {
     "data": {
      "text/html": [
       "<div>\n",
       "<style scoped>\n",
       "    .dataframe tbody tr th:only-of-type {\n",
       "        vertical-align: middle;\n",
       "    }\n",
       "\n",
       "    .dataframe tbody tr th {\n",
       "        vertical-align: top;\n",
       "    }\n",
       "\n",
       "    .dataframe thead th {\n",
       "        text-align: right;\n",
       "    }\n",
       "</style>\n",
       "<table border=\"1\" class=\"dataframe\">\n",
       "  <thead>\n",
       "    <tr style=\"text-align: right;\">\n",
       "      <th></th>\n",
       "      <th>question</th>\n",
       "      <th>answer</th>\n",
       "      <th>precision</th>\n",
       "      <th>dpr_answer</th>\n",
       "      <th>rank</th>\n",
       "      <th>filtered_rank</th>\n",
       "      <th>answerable</th>\n",
       "      <th>other_dates</th>\n",
       "      <th>mcq</th>\n",
       "      <th>base_answer</th>\n",
       "      <th>base_matched</th>\n",
       "      <th>large_answer</th>\n",
       "      <th>large_matched</th>\n",
       "      <th>threeb_answer</th>\n",
       "      <th>threeb_matched</th>\n",
       "    </tr>\n",
       "  </thead>\n",
       "  <tbody>\n",
       "    <tr>\n",
       "      <th>47</th>\n",
       "      <td>when did Charlie Hunnam marry Katharine?</td>\n",
       "      <td>1999-01-01</td>\n",
       "      <td>year</td>\n",
       "      <td>Charlie Hunnam a screenplay based on a 2011 Ro...</td>\n",
       "      <td>69</td>\n",
       "      <td>1</td>\n",
       "      <td>yes</td>\n",
       "      <td>2022-06-15,2011-07-01</td>\n",
       "      <td>(A) 2022 (B) 2011 (C) 1999 (D) no answer</td>\n",
       "      <td>2022</td>\n",
       "      <td>False</td>\n",
       "      <td>2022</td>\n",
       "      <td>False</td>\n",
       "      <td>2011</td>\n",
       "      <td>False</td>\n",
       "    </tr>\n",
       "    <tr>\n",
       "      <th>50</th>\n",
       "      <td>when did Archduchess Maria Isabella, Countess ...</td>\n",
       "      <td>1850-04-10</td>\n",
       "      <td>day</td>\n",
       "      <td>Archduchess Maria Isabella of Austria Spain, o...</td>\n",
       "      <td>2</td>\n",
       "      <td>1</td>\n",
       "      <td>yes</td>\n",
       "      <td>1834-05-21,1901-07-14</td>\n",
       "      <td>(A) 21 May 1834 (B) 14 July 1901 (C) 10 April ...</td>\n",
       "      <td>21 May 1834</td>\n",
       "      <td>False</td>\n",
       "      <td>14 July 1901</td>\n",
       "      <td>False</td>\n",
       "      <td>10 April 1850</td>\n",
       "      <td>True</td>\n",
       "    </tr>\n",
       "    <tr>\n",
       "      <th>52</th>\n",
       "      <td>when did Dan Savage marry Terry?</td>\n",
       "      <td>2012-01-01</td>\n",
       "      <td>year</td>\n",
       "      <td>Dan Savage for two seasons before its cancella...</td>\n",
       "      <td>7</td>\n",
       "      <td>1</td>\n",
       "      <td>yes</td>\n",
       "      <td>2005-07-01</td>\n",
       "      <td>(A) 2005 (B) 2012 (C) 2013 (D) no answer</td>\n",
       "      <td>2005</td>\n",
       "      <td>False</td>\n",
       "      <td>2005</td>\n",
       "      <td>False</td>\n",
       "      <td>2005</td>\n",
       "      <td>False</td>\n",
       "    </tr>\n",
       "    <tr>\n",
       "      <th>96</th>\n",
       "      <td>when did Doutzen Kroes marry Sunnery James?</td>\n",
       "      <td>2010-01-01</td>\n",
       "      <td>year</td>\n",
       "      <td>Doutzen Kroes is actively involved with the no...</td>\n",
       "      <td>85</td>\n",
       "      <td>1</td>\n",
       "      <td>yes</td>\n",
       "      <td>2011-01-21,2009-07-01</td>\n",
       "      <td>(A) 2011 (B) 2009 (C) 2010 (D) no answer</td>\n",
       "      <td>2010</td>\n",
       "      <td>True</td>\n",
       "      <td>2011</td>\n",
       "      <td>False</td>\n",
       "      <td>2010</td>\n",
       "      <td>True</td>\n",
       "    </tr>\n",
       "  </tbody>\n",
       "</table>\n",
       "</div>"
      ],
      "text/plain": [
       "                                             question      answer precision  \\\n",
       "47           when did Charlie Hunnam marry Katharine?  1999-01-01      year   \n",
       "50  when did Archduchess Maria Isabella, Countess ...  1850-04-10       day   \n",
       "52                   when did Dan Savage marry Terry?  2012-01-01      year   \n",
       "96        when did Doutzen Kroes marry Sunnery James?  2010-01-01      year   \n",
       "\n",
       "                                           dpr_answer  rank  filtered_rank  \\\n",
       "47  Charlie Hunnam a screenplay based on a 2011 Ro...    69              1   \n",
       "50  Archduchess Maria Isabella of Austria Spain, o...     2              1   \n",
       "52  Dan Savage for two seasons before its cancella...     7              1   \n",
       "96  Doutzen Kroes is actively involved with the no...    85              1   \n",
       "\n",
       "   answerable            other_dates  \\\n",
       "47        yes  2022-06-15,2011-07-01   \n",
       "50        yes  1834-05-21,1901-07-14   \n",
       "52        yes             2005-07-01   \n",
       "96        yes  2011-01-21,2009-07-01   \n",
       "\n",
       "                                                  mcq  base_answer  \\\n",
       "47           (A) 2022 (B) 2011 (C) 1999 (D) no answer         2022   \n",
       "50  (A) 21 May 1834 (B) 14 July 1901 (C) 10 April ...  21 May 1834   \n",
       "52           (A) 2005 (B) 2012 (C) 2013 (D) no answer         2005   \n",
       "96           (A) 2011 (B) 2009 (C) 2010 (D) no answer         2010   \n",
       "\n",
       "    base_matched  large_answer  large_matched  threeb_answer  threeb_matched  \n",
       "47         False          2022          False           2011           False  \n",
       "50         False  14 July 1901          False  10 April 1850            True  \n",
       "52         False          2005          False           2005           False  \n",
       "96          True          2011          False           2010            True  "
      ]
     },
     "execution_count": 88,
     "metadata": {},
     "output_type": "execute_result"
    }
   ],
   "source": [
    "ddf = answer_df[(answer_df['answerable'] == 'yes') & (answer_df['large_matched'] == False)]\n",
    "ddf"
   ]
  },
  {
   "cell_type": "code",
   "execution_count": null,
   "id": "99ae33cc-1a74-4323-ac19-d126dc6c03be",
   "metadata": {},
   "outputs": [],
   "source": []
  }
 ],
 "metadata": {
  "kernelspec": {
   "display_name": "python39",
   "language": "python",
   "name": "python39"
  },
  "language_info": {
   "codemirror_mode": {
    "name": "ipython",
    "version": 3
   },
   "file_extension": ".py",
   "mimetype": "text/x-python",
   "name": "python",
   "nbconvert_exporter": "python",
   "pygments_lexer": "ipython3",
   "version": "3.9.12"
  }
 },
 "nbformat": 4,
 "nbformat_minor": 5
}
