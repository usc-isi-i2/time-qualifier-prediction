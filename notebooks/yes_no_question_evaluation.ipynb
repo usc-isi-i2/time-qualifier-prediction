{
 "cells": [
  {
   "cell_type": "code",
   "execution_count": 2,
   "id": "27cc61b2-2ff4-4f29-a2de-24bd393b9996",
   "metadata": {},
   "outputs": [
    {
     "name": "stderr",
     "output_type": "stream",
     "text": [
      "/nas/home/amandeep/miniconda3/envs/python3/lib/python3.9/site-packages/tqdm/auto.py:22: TqdmWarning: IProgress not found. Please update jupyter and ipywidgets. See https://ipywidgets.readthedocs.io/en/stable/user_install.html\n",
      "  from .autonotebook import tqdm as notebook_tqdm\n"
     ]
    }
   ],
   "source": [
    "import pandas as pd\n",
    "import re\n",
    "from transformers import T5Tokenizer, T5ForConditionalGeneration\n",
    "from utils import run_model"
   ]
  },
  {
   "cell_type": "code",
   "execution_count": 3,
   "id": "94a2b765-63a0-4fb1-8a2b-8a1e560ff0f9",
   "metadata": {},
   "outputs": [],
   "source": [
    "base_model_v2 = 'allenai/unifiedqa-v2-t5-base-1251000'\n",
    "large_model_v2  = 'allenai/unifiedqa-v2-t5-large-1251000'\n",
    "threeb_model_v2 = 'allenai/unifiedqa-v2-t5-3b-1251000'"
   ]
  },
  {
   "cell_type": "code",
   "execution_count": 4,
   "id": "feaab917-75d8-4733-9902-a3eff895cb6e",
   "metadata": {},
   "outputs": [],
   "source": [
    "base_tokenizer = T5Tokenizer.from_pretrained(base_model_v2)\n",
    "base_model = T5ForConditionalGeneration.from_pretrained(base_model_v2)"
   ]
  },
  {
   "cell_type": "code",
   "execution_count": 5,
   "id": "9fd0ebff-7d75-4caf-8f13-af77008c77c8",
   "metadata": {},
   "outputs": [],
   "source": [
    "large_tokenizer = T5Tokenizer.from_pretrained(large_model_v2)\n",
    "large_model = T5ForConditionalGeneration.from_pretrained(large_model_v2)"
   ]
  },
  {
   "cell_type": "code",
   "execution_count": 6,
   "id": "1d019260-5eff-4a82-a1bb-bb16fcf2a0c7",
   "metadata": {},
   "outputs": [],
   "source": [
    "threeb_tokenizer = T5Tokenizer.from_pretrained(threeb_model_v2)\n",
    "threeb_model = T5ForConditionalGeneration.from_pretrained(threeb_model_v2)"
   ]
  },
  {
   "cell_type": "code",
   "execution_count": 7,
   "id": "1ddece01-9cd2-4ada-bf92-dd000126be63",
   "metadata": {},
   "outputs": [],
   "source": [
    "q_regex = re.compile(r'when did (.*) marry (.*)[?]')"
   ]
  },
  {
   "cell_type": "code",
   "execution_count": 8,
   "id": "25981f5a-2eb6-4142-9819-4b11f9f64848",
   "metadata": {},
   "outputs": [],
   "source": [
    "annotated_file  = '../data/questions-for-annotation-annotated.csv'"
   ]
  },
  {
   "cell_type": "code",
   "execution_count": 9,
   "id": "d8c6d0be-563b-4ee8-8ab3-3ae8d90e5c9c",
   "metadata": {},
   "outputs": [],
   "source": [
    "month_dict = {\n",
    "    '01': 'January',\n",
    "    '02': 'February',\n",
    "    '03': 'March',\n",
    "    '04': 'April',\n",
    "    '05': 'May',\n",
    "    '06': 'June',\n",
    "    '07': 'July',\n",
    "    '08': 'August',\n",
    "    '09': 'September',\n",
    "    '10': 'October',\n",
    "    '11': 'November',\n",
    "    '12': 'December'\n",
    "    \n",
    "}"
   ]
  },
  {
   "cell_type": "code",
   "execution_count": 10,
   "id": "35821659-6817-403a-ba00-cc9ab06fb649",
   "metadata": {},
   "outputs": [],
   "source": [
    "annotated_df = pd.read_csv(annotated_file).fillna(\"\")"
   ]
  },
  {
   "cell_type": "code",
   "execution_count": 11,
   "id": "6425163e-fbd2-4f0f-b61b-a32c67080116",
   "metadata": {},
   "outputs": [],
   "source": [
    "new_questions = []\n",
    "for i, row in annotated_df.iterrows():\n",
    "    if row['answerable'] == 'yes':\n",
    "        precision = row['precision']\n",
    "        answer = row['answer']\n",
    "        year, month, day = answer.split('-')\n",
    "        if precision == 'year':\n",
    "            r_answer = f\"in {year}\"\n",
    "        elif precision == 'month':\n",
    "            r_answer = f\"in {month_dict[month]} {year}\"\n",
    "        else:\n",
    "            r_answer = f\"on {str(int(day))} {month_dict[month]} {year}\"\n",
    "\n",
    "        rematches = q_regex.match(row['question'])\n",
    "        node1 = rematches.group(1)\n",
    "        node2 = rematches.group(2)\n",
    "\n",
    "        new_questions.append({\n",
    "            'question': f'Did {node1} marry {node2} {r_answer}?',\n",
    "            'answer': 'yes',\n",
    "            'dpr_answer': row['dpr_answer'],\n",
    "            'precision': row['precision']\n",
    "        })\n",
    "        other_dates = row['other_dates'].split(',')\n",
    "        for od in other_dates:\n",
    "            if od != '':\n",
    "                oyear, omonth, oday = od.split('-')\n",
    "                if precision == 'year':\n",
    "                    o_answer = f\"in {oyear}\"\n",
    "                elif precision == 'month':\n",
    "                    o_answer = f\"in {month_dict[omonth]} {oyear}\"\n",
    "                else:\n",
    "                    o_answer = f\"on {str(int(oday))} {month_dict[omonth]} {oyear}\"\n",
    "                new_questions.append({\n",
    "                'question': f'Did {node1} marry {node2} {o_answer}?',\n",
    "                'answer': 'no',\n",
    "                'dpr_answer': row['dpr_answer'],\n",
    "                'precision': row['precision']\n",
    "            })\n",
    "\n",
    "            "
   ]
  },
  {
   "cell_type": "code",
   "execution_count": 12,
   "id": "125b7e5e-a35b-4b59-917b-cfbebae6c6d4",
   "metadata": {},
   "outputs": [
    {
     "data": {
      "text/plain": [
       "350"
      ]
     },
     "execution_count": 12,
     "metadata": {},
     "output_type": "execute_result"
    }
   ],
   "source": [
    "len(new_questions)"
   ]
  },
  {
   "cell_type": "code",
   "execution_count": 13,
   "id": "53164243-d7ef-436c-8f03-9d28a9fb872c",
   "metadata": {},
   "outputs": [
    {
     "data": {
      "text/plain": [
       "85"
      ]
     },
     "execution_count": 13,
     "metadata": {},
     "output_type": "execute_result"
    }
   ],
   "source": [
    "len([x for x in new_questions if x['answer'] == 'yes'])"
   ]
  },
  {
   "cell_type": "code",
   "execution_count": 14,
   "id": "bab229c2-85b8-468b-b9b7-4d7803ea1bdc",
   "metadata": {},
   "outputs": [
    {
     "data": {
      "text/plain": [
       "265"
      ]
     },
     "execution_count": 14,
     "metadata": {},
     "output_type": "execute_result"
    }
   ],
   "source": [
    "len([x for x in new_questions if x['answer'] == 'no'])"
   ]
  },
  {
   "cell_type": "code",
   "execution_count": 15,
   "id": "3b09816a-2ac1-4042-9788-d7bccaac8914",
   "metadata": {},
   "outputs": [],
   "source": [
    "for q in new_questions:\n",
    "    input_string = f\"{q['question']}\\n{q['dpr_answer']}\"\n",
    "    q['base_answer'] = run_model(input_string, base_tokenizer, base_model)[0]\n",
    "    q['large_answer'] = run_model(input_string, large_tokenizer, large_model)[0]\n",
    "    q['threeb_answer'] = run_model(input_string, threeb_tokenizer, threeb_model)[0]"
   ]
  },
  {
   "cell_type": "code",
   "execution_count": 20,
   "id": "4ab49d05-ac70-43f9-83bc-08d52e62b637",
   "metadata": {},
   "outputs": [
    {
     "data": {
      "text/plain": [
       "{'question': 'Did Lisa Hartman Black marry Clint in 2001?',\n",
       " 'answer': 'no',\n",
       " 'dpr_answer': 'Lisa Hartman Black My Heart Stops has already been reissued on CD on Wounded Bird Records. In May 2012, Hartman starred in  a movie from Twentieth Century Fox Home Entertainment. She plays the mother of a budding equestrian rider (Kacey Rohl). In 2005, Hartman starred in a made-for-TV film, Back to You and Me, on the Hallmark channel. Hartman grew up in Houston, Texas. In 1991, she married musician Clint Black; and, in 2001, the couple had a daughter, Lily Pearl Black. They have lived in Nashville, Tennessee since 2002 after living in Laurel Canyon, Los Angeles, California. Lisa Hartman Black Lisa',\n",
       " 'precision': 'year',\n",
       " 'base_answer': 'no',\n",
       " 'large_answer': 'no',\n",
       " 'threeb_answer': 'no'}"
      ]
     },
     "execution_count": 20,
     "metadata": {},
     "output_type": "execute_result"
    }
   ],
   "source": [
    "new_questions[45]"
   ]
  },
  {
   "cell_type": "code",
   "execution_count": 21,
   "id": "54b99c60-fe10-41ea-9599-fc2982ac0810",
   "metadata": {},
   "outputs": [],
   "source": [
    "new_questions_df = pd.DataFrame(new_questions)"
   ]
  },
  {
   "cell_type": "code",
   "execution_count": 22,
   "id": "52bfec40-35a1-4f73-b536-b9ee32c2fb97",
   "metadata": {},
   "outputs": [
    {
     "data": {
      "text/html": [
       "<div>\n",
       "<style scoped>\n",
       "    .dataframe tbody tr th:only-of-type {\n",
       "        vertical-align: middle;\n",
       "    }\n",
       "\n",
       "    .dataframe tbody tr th {\n",
       "        vertical-align: top;\n",
       "    }\n",
       "\n",
       "    .dataframe thead th {\n",
       "        text-align: right;\n",
       "    }\n",
       "</style>\n",
       "<table border=\"1\" class=\"dataframe\">\n",
       "  <thead>\n",
       "    <tr style=\"text-align: right;\">\n",
       "      <th></th>\n",
       "      <th>question</th>\n",
       "      <th>answer</th>\n",
       "      <th>dpr_answer</th>\n",
       "      <th>precision</th>\n",
       "      <th>base_answer</th>\n",
       "      <th>large_answer</th>\n",
       "      <th>threeb_answer</th>\n",
       "    </tr>\n",
       "  </thead>\n",
       "  <tbody>\n",
       "    <tr>\n",
       "      <th>0</th>\n",
       "      <td>Did Tommy Dorsey marry Patricia in 1943?</td>\n",
       "      <td>yes</td>\n",
       "      <td>Tommy Dorsey New Jersey. They divorced in 1943...</td>\n",
       "      <td>year</td>\n",
       "      <td>yes</td>\n",
       "      <td>yes</td>\n",
       "      <td>yes</td>\n",
       "    </tr>\n",
       "    <tr>\n",
       "      <th>1</th>\n",
       "      <td>Did Tommy Dorsey marry Patricia in 1956?</td>\n",
       "      <td>no</td>\n",
       "      <td>Tommy Dorsey New Jersey. They divorced in 1943...</td>\n",
       "      <td>year</td>\n",
       "      <td>no</td>\n",
       "      <td>no</td>\n",
       "      <td>no</td>\n",
       "    </tr>\n",
       "    <tr>\n",
       "      <th>2</th>\n",
       "      <td>Did Tommy Dorsey marry Patricia in 1947?</td>\n",
       "      <td>no</td>\n",
       "      <td>Tommy Dorsey New Jersey. They divorced in 1943...</td>\n",
       "      <td>year</td>\n",
       "      <td>no</td>\n",
       "      <td>no</td>\n",
       "      <td>no</td>\n",
       "    </tr>\n",
       "    <tr>\n",
       "      <th>3</th>\n",
       "      <td>Did Tommy Dorsey marry Patricia in 1948?</td>\n",
       "      <td>no</td>\n",
       "      <td>Tommy Dorsey New Jersey. They divorced in 1943...</td>\n",
       "      <td>year</td>\n",
       "      <td>yes</td>\n",
       "      <td>no</td>\n",
       "      <td>no</td>\n",
       "    </tr>\n",
       "    <tr>\n",
       "      <th>4</th>\n",
       "      <td>Did Tommy Dorsey marry Patricia in 2022?</td>\n",
       "      <td>no</td>\n",
       "      <td>Tommy Dorsey New Jersey. They divorced in 1943...</td>\n",
       "      <td>year</td>\n",
       "      <td>no</td>\n",
       "      <td>no</td>\n",
       "      <td>no</td>\n",
       "    </tr>\n",
       "    <tr>\n",
       "      <th>...</th>\n",
       "      <td>...</td>\n",
       "      <td>...</td>\n",
       "      <td>...</td>\n",
       "      <td>...</td>\n",
       "      <td>...</td>\n",
       "      <td>...</td>\n",
       "      <td>...</td>\n",
       "    </tr>\n",
       "    <tr>\n",
       "      <th>345</th>\n",
       "      <td>Did Carol Wayne marry Burt in 1970?</td>\n",
       "      <td>no</td>\n",
       "      <td>Carol Wayne Heartbreakers. In January 1984, Wa...</td>\n",
       "      <td>year</td>\n",
       "      <td>no</td>\n",
       "      <td>no</td>\n",
       "      <td>no</td>\n",
       "    </tr>\n",
       "    <tr>\n",
       "      <th>346</th>\n",
       "      <td>Did Carol Wayne marry Burt in 1984?</td>\n",
       "      <td>no</td>\n",
       "      <td>Carol Wayne Heartbreakers. In January 1984, Wa...</td>\n",
       "      <td>year</td>\n",
       "      <td>no</td>\n",
       "      <td>no</td>\n",
       "      <td>no</td>\n",
       "    </tr>\n",
       "    <tr>\n",
       "      <th>347</th>\n",
       "      <td>Did Ava Gardner marry Mickey on 10 January 1942?</td>\n",
       "      <td>yes</td>\n",
       "      <td>Ava Gardner Knots Landing (both 1985). Soon af...</td>\n",
       "      <td>day</td>\n",
       "      <td>yes</td>\n",
       "      <td>yes</td>\n",
       "      <td>yes</td>\n",
       "    </tr>\n",
       "    <tr>\n",
       "      <th>348</th>\n",
       "      <td>Did Ava Gardner marry Mickey on 1 July 1943?</td>\n",
       "      <td>no</td>\n",
       "      <td>Ava Gardner Knots Landing (both 1985). Soon af...</td>\n",
       "      <td>day</td>\n",
       "      <td>no</td>\n",
       "      <td>no</td>\n",
       "      <td>no</td>\n",
       "    </tr>\n",
       "    <tr>\n",
       "      <th>349</th>\n",
       "      <td>Did Ava Gardner marry Mickey on 1 July 1985?</td>\n",
       "      <td>no</td>\n",
       "      <td>Ava Gardner Knots Landing (both 1985). Soon af...</td>\n",
       "      <td>day</td>\n",
       "      <td>no</td>\n",
       "      <td>no</td>\n",
       "      <td>no</td>\n",
       "    </tr>\n",
       "  </tbody>\n",
       "</table>\n",
       "<p>350 rows × 7 columns</p>\n",
       "</div>"
      ],
      "text/plain": [
       "                                             question answer  \\\n",
       "0            Did Tommy Dorsey marry Patricia in 1943?    yes   \n",
       "1            Did Tommy Dorsey marry Patricia in 1956?     no   \n",
       "2            Did Tommy Dorsey marry Patricia in 1947?     no   \n",
       "3            Did Tommy Dorsey marry Patricia in 1948?     no   \n",
       "4            Did Tommy Dorsey marry Patricia in 2022?     no   \n",
       "..                                                ...    ...   \n",
       "345               Did Carol Wayne marry Burt in 1970?     no   \n",
       "346               Did Carol Wayne marry Burt in 1984?     no   \n",
       "347  Did Ava Gardner marry Mickey on 10 January 1942?    yes   \n",
       "348      Did Ava Gardner marry Mickey on 1 July 1943?     no   \n",
       "349      Did Ava Gardner marry Mickey on 1 July 1985?     no   \n",
       "\n",
       "                                            dpr_answer precision base_answer  \\\n",
       "0    Tommy Dorsey New Jersey. They divorced in 1943...      year         yes   \n",
       "1    Tommy Dorsey New Jersey. They divorced in 1943...      year          no   \n",
       "2    Tommy Dorsey New Jersey. They divorced in 1943...      year          no   \n",
       "3    Tommy Dorsey New Jersey. They divorced in 1943...      year         yes   \n",
       "4    Tommy Dorsey New Jersey. They divorced in 1943...      year          no   \n",
       "..                                                 ...       ...         ...   \n",
       "345  Carol Wayne Heartbreakers. In January 1984, Wa...      year          no   \n",
       "346  Carol Wayne Heartbreakers. In January 1984, Wa...      year          no   \n",
       "347  Ava Gardner Knots Landing (both 1985). Soon af...       day         yes   \n",
       "348  Ava Gardner Knots Landing (both 1985). Soon af...       day          no   \n",
       "349  Ava Gardner Knots Landing (both 1985). Soon af...       day          no   \n",
       "\n",
       "    large_answer threeb_answer  \n",
       "0            yes           yes  \n",
       "1             no            no  \n",
       "2             no            no  \n",
       "3             no            no  \n",
       "4             no            no  \n",
       "..           ...           ...  \n",
       "345           no            no  \n",
       "346           no            no  \n",
       "347          yes           yes  \n",
       "348           no            no  \n",
       "349           no            no  \n",
       "\n",
       "[350 rows x 7 columns]"
      ]
     },
     "execution_count": 22,
     "metadata": {},
     "output_type": "execute_result"
    }
   ],
   "source": [
    "new_questions_df"
   ]
  },
  {
   "cell_type": "code",
   "execution_count": 23,
   "id": "2151bbad-bc9b-49ae-ba75-58d607eecd14",
   "metadata": {},
   "outputs": [],
   "source": [
    "def b_match_answer(row):\n",
    "    return row['answer'] == row['base_answer']\n",
    "def l_match_answer(row):\n",
    "    return row['answer'] == row['large_answer']\n",
    "def t_match_answer(row):\n",
    "    return row['answer'] == row['threeb_answer']"
   ]
  },
  {
   "cell_type": "code",
   "execution_count": 24,
   "id": "f9cf40b4-ceeb-4547-bc0e-b8c024ff963e",
   "metadata": {},
   "outputs": [],
   "source": [
    "new_questions_df['bm'] = new_questions_df.apply(b_match_answer, axis=1)\n",
    "new_questions_df['lm'] = new_questions_df.apply(l_match_answer, axis=1)\n",
    "new_questions_df['tm'] = new_questions_df.apply(t_match_answer, axis=1)"
   ]
  },
  {
   "cell_type": "code",
   "execution_count": 25,
   "id": "65721535-ca93-4f83-a815-097b020304d5",
   "metadata": {},
   "outputs": [
    {
     "name": "stdout",
     "output_type": "stream",
     "text": [
      "0.8628571428571429\n"
     ]
    }
   ],
   "source": [
    "print(len(new_questions_df[new_questions_df['bm'] == True]) / len(new_questions_df))"
   ]
  },
  {
   "cell_type": "code",
   "execution_count": 26,
   "id": "9f6acb58-4c48-4b68-ac73-4d1817c9a864",
   "metadata": {},
   "outputs": [
    {
     "name": "stdout",
     "output_type": "stream",
     "text": [
      "0.9028571428571428\n"
     ]
    }
   ],
   "source": [
    "print(len(new_questions_df[new_questions_df['lm'] == True]) / len(new_questions_df))"
   ]
  },
  {
   "cell_type": "code",
   "execution_count": 27,
   "id": "990f8980-794f-4d9d-8096-40b03b9a33ea",
   "metadata": {},
   "outputs": [
    {
     "name": "stdout",
     "output_type": "stream",
     "text": [
      "0.9742857142857143\n"
     ]
    }
   ],
   "source": [
    "print(len(new_questions_df[new_questions_df['tm'] == True]) / len(new_questions_df))"
   ]
  },
  {
   "cell_type": "code",
   "execution_count": 28,
   "id": "e7d2893a-6598-41ee-99d3-2e1a7ea926c8",
   "metadata": {},
   "outputs": [
    {
     "name": "stdout",
     "output_type": "stream",
     "text": [
      "day 128 0.859375\n",
      "day 128 0.9375\n",
      "day 128 0.9609375\n",
      "month 10 1.0\n",
      "month 10 0.8\n",
      "month 10 0.9\n",
      "year 212 0.8584905660377359\n",
      "year 212 0.8867924528301887\n",
      "year 212 0.9858490566037735\n"
     ]
    }
   ],
   "source": [
    "for _, dff in new_questions_df.groupby(by='precision'):\n",
    "    print(_, len(dff), len(dff[dff['bm'] == True]) / len(dff))\n",
    "    print(_, len(dff), len(dff[dff['lm'] == True]) / len(dff))\n",
    "    print(_, len(dff), len(dff[dff['tm'] == True]) / len(dff))"
   ]
  },
  {
   "cell_type": "code",
   "execution_count": 1,
   "id": "9ef799dd-d114-4d08-8e77-79d700a34bf6",
   "metadata": {},
   "outputs": [
    {
     "ename": "NameError",
     "evalue": "name 'new_questions_df' is not defined",
     "output_type": "error",
     "traceback": [
      "\u001b[0;31m---------------------------------------------------------------------------\u001b[0m",
      "\u001b[0;31mNameError\u001b[0m                                 Traceback (most recent call last)",
      "Input \u001b[0;32mIn [1]\u001b[0m, in \u001b[0;36m<cell line: 1>\u001b[0;34m()\u001b[0m\n\u001b[0;32m----> 1\u001b[0m \u001b[43mnew_questions_df\u001b[49m\n",
      "\u001b[0;31mNameError\u001b[0m: name 'new_questions_df' is not defined"
     ]
    }
   ],
   "source": [
    "new_questions_df"
   ]
  },
  {
   "cell_type": "code",
   "execution_count": null,
   "id": "b671657d-a092-419b-a5e1-980c7d179fcf",
   "metadata": {},
   "outputs": [],
   "source": []
  }
 ],
 "metadata": {
  "kernelspec": {
   "display_name": "python39",
   "language": "python",
   "name": "python39"
  },
  "language_info": {
   "codemirror_mode": {
    "name": "ipython",
    "version": 3
   },
   "file_extension": ".py",
   "mimetype": "text/x-python",
   "name": "python",
   "nbconvert_exporter": "python",
   "pygments_lexer": "ipython3",
   "version": "3.9.12"
  }
 },
 "nbformat": 4,
 "nbformat_minor": 5
}
